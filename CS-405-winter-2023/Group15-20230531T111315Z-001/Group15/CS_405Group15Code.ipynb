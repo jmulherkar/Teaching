{
 "cells": [
  {
   "cell_type": "code",
   "execution_count": null,
   "id": "ac25ef31-d5f7-49d5-9903-61bc310379a1",
   "metadata": {},
   "outputs": [],
   "source": [
    "'''\n",
    "Group Members:\n",
    "\n",
    "Vedant Joshi - 202003001\n",
    "Tirth Vadaria - 202003004\n",
    "Manan Sodha - 202003021\n",
    "'''"
   ]
  },
  {
   "cell_type": "code",
   "execution_count": 1,
   "id": "f3343925-372b-4143-9c14-828f7b813e02",
   "metadata": {
    "tags": []
   },
   "outputs": [
    {
     "name": "stdout",
     "output_type": "stream",
     "text": [
      "Looking in indexes: https://pypi.org/simple, https://pip.repos.neuron.amazonaws.com\n",
      "Requirement already satisfied: qiskit in /home/ec2-user/anaconda3/envs/Braket/lib/python3.10/site-packages (0.43.0)\n",
      "Requirement already satisfied: qiskit-terra==0.24.0 in /home/ec2-user/anaconda3/envs/Braket/lib/python3.10/site-packages (from qiskit) (0.24.0)\n",
      "Requirement already satisfied: qiskit-aer==0.12.0 in /home/ec2-user/anaconda3/envs/Braket/lib/python3.10/site-packages (from qiskit) (0.12.0)\n",
      "Requirement already satisfied: qiskit-ibmq-provider==0.20.2 in /home/ec2-user/anaconda3/envs/Braket/lib/python3.10/site-packages (from qiskit) (0.20.2)\n",
      "Requirement already satisfied: numpy>=1.16.3 in /home/ec2-user/anaconda3/envs/Braket/lib/python3.10/site-packages (from qiskit-aer==0.12.0->qiskit) (1.23.5)\n",
      "Requirement already satisfied: scipy>=1.0 in /home/ec2-user/anaconda3/envs/Braket/lib/python3.10/site-packages (from qiskit-aer==0.12.0->qiskit) (1.9.3)\n",
      "Requirement already satisfied: requests>=2.19 in /home/ec2-user/anaconda3/envs/Braket/lib/python3.10/site-packages (from qiskit-ibmq-provider==0.20.2->qiskit) (2.28.2)\n",
      "Requirement already satisfied: requests-ntlm<=1.1.0 in /home/ec2-user/anaconda3/envs/Braket/lib/python3.10/site-packages (from qiskit-ibmq-provider==0.20.2->qiskit) (1.1.0)\n",
      "Requirement already satisfied: urllib3>=1.21.1 in /home/ec2-user/anaconda3/envs/Braket/lib/python3.10/site-packages (from qiskit-ibmq-provider==0.20.2->qiskit) (1.26.15)\n",
      "Requirement already satisfied: python-dateutil>=2.8.0 in /home/ec2-user/anaconda3/envs/Braket/lib/python3.10/site-packages (from qiskit-ibmq-provider==0.20.2->qiskit) (2.8.2)\n",
      "Requirement already satisfied: websocket-client>=1.5.1 in /home/ec2-user/anaconda3/envs/Braket/lib/python3.10/site-packages (from qiskit-ibmq-provider==0.20.2->qiskit) (1.5.1)\n",
      "Requirement already satisfied: websockets>=10.0 in /home/ec2-user/anaconda3/envs/Braket/lib/python3.10/site-packages (from qiskit-ibmq-provider==0.20.2->qiskit) (11.0.3)\n",
      "Requirement already satisfied: rustworkx>=0.12.0 in /home/ec2-user/anaconda3/envs/Braket/lib/python3.10/site-packages (from qiskit-terra==0.24.0->qiskit) (0.12.1)\n",
      "Requirement already satisfied: ply>=3.10 in /home/ec2-user/anaconda3/envs/Braket/lib/python3.10/site-packages (from qiskit-terra==0.24.0->qiskit) (3.11)\n",
      "Requirement already satisfied: psutil>=5 in /home/ec2-user/anaconda3/envs/Braket/lib/python3.10/site-packages (from qiskit-terra==0.24.0->qiskit) (5.9.5)\n",
      "Requirement already satisfied: sympy>=1.3 in /home/ec2-user/anaconda3/envs/Braket/lib/python3.10/site-packages (from qiskit-terra==0.24.0->qiskit) (1.11.1)\n",
      "Requirement already satisfied: dill>=0.3 in /home/ec2-user/anaconda3/envs/Braket/lib/python3.10/site-packages (from qiskit-terra==0.24.0->qiskit) (0.3.6)\n",
      "Requirement already satisfied: stevedore>=3.0.0 in /home/ec2-user/anaconda3/envs/Braket/lib/python3.10/site-packages (from qiskit-terra==0.24.0->qiskit) (5.0.0)\n",
      "Requirement already satisfied: symengine<0.10,>=0.9 in /home/ec2-user/anaconda3/envs/Braket/lib/python3.10/site-packages (from qiskit-terra==0.24.0->qiskit) (0.9.2)\n",
      "Requirement already satisfied: six>=1.5 in /home/ec2-user/anaconda3/envs/Braket/lib/python3.10/site-packages (from python-dateutil>=2.8.0->qiskit-ibmq-provider==0.20.2->qiskit) (1.16.0)\n",
      "Requirement already satisfied: charset-normalizer<4,>=2 in /home/ec2-user/anaconda3/envs/Braket/lib/python3.10/site-packages (from requests>=2.19->qiskit-ibmq-provider==0.20.2->qiskit) (3.1.0)\n",
      "Requirement already satisfied: idna<4,>=2.5 in /home/ec2-user/anaconda3/envs/Braket/lib/python3.10/site-packages (from requests>=2.19->qiskit-ibmq-provider==0.20.2->qiskit) (3.4)\n",
      "Requirement already satisfied: certifi>=2017.4.17 in /home/ec2-user/anaconda3/envs/Braket/lib/python3.10/site-packages (from requests>=2.19->qiskit-ibmq-provider==0.20.2->qiskit) (2022.12.7)\n",
      "Requirement already satisfied: ntlm-auth>=1.0.2 in /home/ec2-user/anaconda3/envs/Braket/lib/python3.10/site-packages (from requests-ntlm<=1.1.0->qiskit-ibmq-provider==0.20.2->qiskit) (1.5.0)\n",
      "Requirement already satisfied: cryptography>=1.3 in /home/ec2-user/anaconda3/envs/Braket/lib/python3.10/site-packages (from requests-ntlm<=1.1.0->qiskit-ibmq-provider==0.20.2->qiskit) (40.0.2)\n",
      "Requirement already satisfied: pbr!=2.1.0,>=2.0.0 in /home/ec2-user/anaconda3/envs/Braket/lib/python3.10/site-packages (from stevedore>=3.0.0->qiskit-terra==0.24.0->qiskit) (5.11.1)\n",
      "Requirement already satisfied: mpmath>=0.19 in /home/ec2-user/anaconda3/envs/Braket/lib/python3.10/site-packages (from sympy>=1.3->qiskit-terra==0.24.0->qiskit) (1.3.0)\n",
      "Requirement already satisfied: cffi>=1.12 in /home/ec2-user/anaconda3/envs/Braket/lib/python3.10/site-packages (from cryptography>=1.3->requests-ntlm<=1.1.0->qiskit-ibmq-provider==0.20.2->qiskit) (1.15.1)\n",
      "Requirement already satisfied: pycparser in /home/ec2-user/anaconda3/envs/Braket/lib/python3.10/site-packages (from cffi>=1.12->cryptography>=1.3->requests-ntlm<=1.1.0->qiskit-ibmq-provider==0.20.2->qiskit) (2.21)\n"
     ]
    }
   ],
   "source": [
    "!pip install qiskit"
   ]
  },
  {
   "cell_type": "code",
   "execution_count": 2,
   "id": "c5b4812c-22e6-4048-9229-1011bb62f762",
   "metadata": {
    "tags": []
   },
   "outputs": [
    {
     "name": "stdout",
     "output_type": "stream",
     "text": [
      "Looking in indexes: https://pypi.org/simple, https://pip.repos.neuron.amazonaws.com\n",
      "Requirement already satisfied: qiskit in /home/ec2-user/anaconda3/envs/Braket/lib/python3.10/site-packages (0.43.0)\n",
      "Requirement already satisfied: qiskit-terra==0.24.0 in /home/ec2-user/anaconda3/envs/Braket/lib/python3.10/site-packages (from qiskit) (0.24.0)\n",
      "Requirement already satisfied: qiskit-aer==0.12.0 in /home/ec2-user/anaconda3/envs/Braket/lib/python3.10/site-packages (from qiskit) (0.12.0)\n",
      "Requirement already satisfied: qiskit-ibmq-provider==0.20.2 in /home/ec2-user/anaconda3/envs/Braket/lib/python3.10/site-packages (from qiskit) (0.20.2)\n",
      "Requirement already satisfied: numpy>=1.16.3 in /home/ec2-user/anaconda3/envs/Braket/lib/python3.10/site-packages (from qiskit-aer==0.12.0->qiskit) (1.23.5)\n",
      "Requirement already satisfied: scipy>=1.0 in /home/ec2-user/anaconda3/envs/Braket/lib/python3.10/site-packages (from qiskit-aer==0.12.0->qiskit) (1.9.3)\n",
      "Requirement already satisfied: requests>=2.19 in /home/ec2-user/anaconda3/envs/Braket/lib/python3.10/site-packages (from qiskit-ibmq-provider==0.20.2->qiskit) (2.28.2)\n",
      "Requirement already satisfied: requests-ntlm<=1.1.0 in /home/ec2-user/anaconda3/envs/Braket/lib/python3.10/site-packages (from qiskit-ibmq-provider==0.20.2->qiskit) (1.1.0)\n",
      "Requirement already satisfied: urllib3>=1.21.1 in /home/ec2-user/anaconda3/envs/Braket/lib/python3.10/site-packages (from qiskit-ibmq-provider==0.20.2->qiskit) (1.26.15)\n",
      "Requirement already satisfied: python-dateutil>=2.8.0 in /home/ec2-user/anaconda3/envs/Braket/lib/python3.10/site-packages (from qiskit-ibmq-provider==0.20.2->qiskit) (2.8.2)\n",
      "Requirement already satisfied: websocket-client>=1.5.1 in /home/ec2-user/anaconda3/envs/Braket/lib/python3.10/site-packages (from qiskit-ibmq-provider==0.20.2->qiskit) (1.5.1)\n",
      "Requirement already satisfied: websockets>=10.0 in /home/ec2-user/anaconda3/envs/Braket/lib/python3.10/site-packages (from qiskit-ibmq-provider==0.20.2->qiskit) (11.0.3)\n",
      "Requirement already satisfied: rustworkx>=0.12.0 in /home/ec2-user/anaconda3/envs/Braket/lib/python3.10/site-packages (from qiskit-terra==0.24.0->qiskit) (0.12.1)\n",
      "Requirement already satisfied: ply>=3.10 in /home/ec2-user/anaconda3/envs/Braket/lib/python3.10/site-packages (from qiskit-terra==0.24.0->qiskit) (3.11)\n",
      "Requirement already satisfied: psutil>=5 in /home/ec2-user/anaconda3/envs/Braket/lib/python3.10/site-packages (from qiskit-terra==0.24.0->qiskit) (5.9.5)\n",
      "Requirement already satisfied: sympy>=1.3 in /home/ec2-user/anaconda3/envs/Braket/lib/python3.10/site-packages (from qiskit-terra==0.24.0->qiskit) (1.11.1)\n",
      "Requirement already satisfied: dill>=0.3 in /home/ec2-user/anaconda3/envs/Braket/lib/python3.10/site-packages (from qiskit-terra==0.24.0->qiskit) (0.3.6)\n",
      "Requirement already satisfied: stevedore>=3.0.0 in /home/ec2-user/anaconda3/envs/Braket/lib/python3.10/site-packages (from qiskit-terra==0.24.0->qiskit) (5.0.0)\n",
      "Requirement already satisfied: symengine<0.10,>=0.9 in /home/ec2-user/anaconda3/envs/Braket/lib/python3.10/site-packages (from qiskit-terra==0.24.0->qiskit) (0.9.2)\n",
      "Requirement already satisfied: six>=1.5 in /home/ec2-user/anaconda3/envs/Braket/lib/python3.10/site-packages (from python-dateutil>=2.8.0->qiskit-ibmq-provider==0.20.2->qiskit) (1.16.0)\n",
      "Requirement already satisfied: charset-normalizer<4,>=2 in /home/ec2-user/anaconda3/envs/Braket/lib/python3.10/site-packages (from requests>=2.19->qiskit-ibmq-provider==0.20.2->qiskit) (3.1.0)\n",
      "Requirement already satisfied: idna<4,>=2.5 in /home/ec2-user/anaconda3/envs/Braket/lib/python3.10/site-packages (from requests>=2.19->qiskit-ibmq-provider==0.20.2->qiskit) (3.4)\n",
      "Requirement already satisfied: certifi>=2017.4.17 in /home/ec2-user/anaconda3/envs/Braket/lib/python3.10/site-packages (from requests>=2.19->qiskit-ibmq-provider==0.20.2->qiskit) (2022.12.7)\n",
      "Requirement already satisfied: ntlm-auth>=1.0.2 in /home/ec2-user/anaconda3/envs/Braket/lib/python3.10/site-packages (from requests-ntlm<=1.1.0->qiskit-ibmq-provider==0.20.2->qiskit) (1.5.0)\n",
      "Requirement already satisfied: cryptography>=1.3 in /home/ec2-user/anaconda3/envs/Braket/lib/python3.10/site-packages (from requests-ntlm<=1.1.0->qiskit-ibmq-provider==0.20.2->qiskit) (40.0.2)\n",
      "Requirement already satisfied: pbr!=2.1.0,>=2.0.0 in /home/ec2-user/anaconda3/envs/Braket/lib/python3.10/site-packages (from stevedore>=3.0.0->qiskit-terra==0.24.0->qiskit) (5.11.1)\n",
      "Requirement already satisfied: mpmath>=0.19 in /home/ec2-user/anaconda3/envs/Braket/lib/python3.10/site-packages (from sympy>=1.3->qiskit-terra==0.24.0->qiskit) (1.3.0)\n",
      "Requirement already satisfied: cffi>=1.12 in /home/ec2-user/anaconda3/envs/Braket/lib/python3.10/site-packages (from cryptography>=1.3->requests-ntlm<=1.1.0->qiskit-ibmq-provider==0.20.2->qiskit) (1.15.1)\n",
      "Requirement already satisfied: pycparser in /home/ec2-user/anaconda3/envs/Braket/lib/python3.10/site-packages (from cffi>=1.12->cryptography>=1.3->requests-ntlm<=1.1.0->qiskit-ibmq-provider==0.20.2->qiskit) (2.21)\n",
      "Note: you may need to restart the kernel to use updated packages.\n"
     ]
    }
   ],
   "source": [
    "pip install qiskit"
   ]
  },
  {
   "cell_type": "code",
   "execution_count": 3,
   "id": "595bae1b-4a94-4486-9a7c-d78de1461621",
   "metadata": {
    "tags": []
   },
   "outputs": [
    {
     "name": "stdout",
     "output_type": "stream",
     "text": [
      "Looking in indexes: https://pypi.org/simple, https://pip.repos.neuron.amazonaws.com\n",
      "Requirement already satisfied: qiskit[finance] in /home/ec2-user/anaconda3/envs/Braket/lib/python3.10/site-packages (0.43.0)\n",
      "Requirement already satisfied: qiskit-terra==0.24.0 in /home/ec2-user/anaconda3/envs/Braket/lib/python3.10/site-packages (from qiskit[finance]) (0.24.0)\n",
      "Requirement already satisfied: qiskit-aer==0.12.0 in /home/ec2-user/anaconda3/envs/Braket/lib/python3.10/site-packages (from qiskit[finance]) (0.12.0)\n",
      "Requirement already satisfied: qiskit-ibmq-provider==0.20.2 in /home/ec2-user/anaconda3/envs/Braket/lib/python3.10/site-packages (from qiskit[finance]) (0.20.2)\n",
      "Requirement already satisfied: qiskit-finance>=0.3.3 in /home/ec2-user/anaconda3/envs/Braket/lib/python3.10/site-packages (from qiskit[finance]) (0.3.4)\n",
      "Requirement already satisfied: numpy>=1.16.3 in /home/ec2-user/anaconda3/envs/Braket/lib/python3.10/site-packages (from qiskit-aer==0.12.0->qiskit[finance]) (1.23.5)\n",
      "Requirement already satisfied: scipy>=1.0 in /home/ec2-user/anaconda3/envs/Braket/lib/python3.10/site-packages (from qiskit-aer==0.12.0->qiskit[finance]) (1.9.3)\n",
      "Requirement already satisfied: requests>=2.19 in /home/ec2-user/anaconda3/envs/Braket/lib/python3.10/site-packages (from qiskit-ibmq-provider==0.20.2->qiskit[finance]) (2.28.2)\n",
      "Requirement already satisfied: requests-ntlm<=1.1.0 in /home/ec2-user/anaconda3/envs/Braket/lib/python3.10/site-packages (from qiskit-ibmq-provider==0.20.2->qiskit[finance]) (1.1.0)\n",
      "Requirement already satisfied: urllib3>=1.21.1 in /home/ec2-user/anaconda3/envs/Braket/lib/python3.10/site-packages (from qiskit-ibmq-provider==0.20.2->qiskit[finance]) (1.26.15)\n",
      "Requirement already satisfied: python-dateutil>=2.8.0 in /home/ec2-user/anaconda3/envs/Braket/lib/python3.10/site-packages (from qiskit-ibmq-provider==0.20.2->qiskit[finance]) (2.8.2)\n",
      "Requirement already satisfied: websocket-client>=1.5.1 in /home/ec2-user/anaconda3/envs/Braket/lib/python3.10/site-packages (from qiskit-ibmq-provider==0.20.2->qiskit[finance]) (1.5.1)\n",
      "Requirement already satisfied: websockets>=10.0 in /home/ec2-user/anaconda3/envs/Braket/lib/python3.10/site-packages (from qiskit-ibmq-provider==0.20.2->qiskit[finance]) (11.0.3)\n",
      "Requirement already satisfied: rustworkx>=0.12.0 in /home/ec2-user/anaconda3/envs/Braket/lib/python3.10/site-packages (from qiskit-terra==0.24.0->qiskit[finance]) (0.12.1)\n",
      "Requirement already satisfied: ply>=3.10 in /home/ec2-user/anaconda3/envs/Braket/lib/python3.10/site-packages (from qiskit-terra==0.24.0->qiskit[finance]) (3.11)\n",
      "Requirement already satisfied: psutil>=5 in /home/ec2-user/anaconda3/envs/Braket/lib/python3.10/site-packages (from qiskit-terra==0.24.0->qiskit[finance]) (5.9.5)\n",
      "Requirement already satisfied: sympy>=1.3 in /home/ec2-user/anaconda3/envs/Braket/lib/python3.10/site-packages (from qiskit-terra==0.24.0->qiskit[finance]) (1.11.1)\n",
      "Requirement already satisfied: dill>=0.3 in /home/ec2-user/anaconda3/envs/Braket/lib/python3.10/site-packages (from qiskit-terra==0.24.0->qiskit[finance]) (0.3.6)\n",
      "Requirement already satisfied: stevedore>=3.0.0 in /home/ec2-user/anaconda3/envs/Braket/lib/python3.10/site-packages (from qiskit-terra==0.24.0->qiskit[finance]) (5.0.0)\n",
      "Requirement already satisfied: symengine<0.10,>=0.9 in /home/ec2-user/anaconda3/envs/Braket/lib/python3.10/site-packages (from qiskit-terra==0.24.0->qiskit[finance]) (0.9.2)\n",
      "Requirement already satisfied: qiskit-optimization>=0.2.0 in /home/ec2-user/anaconda3/envs/Braket/lib/python3.10/site-packages (from qiskit-finance>=0.3.3->qiskit[finance]) (0.5.0)\n",
      "Requirement already satisfied: fastdtw in /home/ec2-user/anaconda3/envs/Braket/lib/python3.10/site-packages (from qiskit-finance>=0.3.3->qiskit[finance]) (0.3.4)\n",
      "Requirement already satisfied: setuptools>=40.1.0 in /home/ec2-user/anaconda3/envs/Braket/lib/python3.10/site-packages (from qiskit-finance>=0.3.3->qiskit[finance]) (67.7.2)\n",
      "Requirement already satisfied: pandas in /home/ec2-user/anaconda3/envs/Braket/lib/python3.10/site-packages (from qiskit-finance>=0.3.3->qiskit[finance]) (2.0.0)\n",
      "Requirement already satisfied: nasdaq-data-link in /home/ec2-user/anaconda3/envs/Braket/lib/python3.10/site-packages (from qiskit-finance>=0.3.3->qiskit[finance]) (1.0.4)\n",
      "Requirement already satisfied: yfinance>=0.1.70 in /home/ec2-user/anaconda3/envs/Braket/lib/python3.10/site-packages (from qiskit-finance>=0.3.3->qiskit[finance]) (0.2.18)\n",
      "Requirement already satisfied: certifi in /home/ec2-user/anaconda3/envs/Braket/lib/python3.10/site-packages (from qiskit-finance>=0.3.3->qiskit[finance]) (2022.12.7)\n",
      "Requirement already satisfied: six>=1.5 in /home/ec2-user/anaconda3/envs/Braket/lib/python3.10/site-packages (from python-dateutil>=2.8.0->qiskit-ibmq-provider==0.20.2->qiskit[finance]) (1.16.0)\n",
      "Requirement already satisfied: docplex!=2.24.231,>=2.21.207 in /home/ec2-user/anaconda3/envs/Braket/lib/python3.10/site-packages (from qiskit-optimization>=0.2.0->qiskit-finance>=0.3.3->qiskit[finance]) (2.25.236)\n",
      "Requirement already satisfied: networkx>=2.6.3 in /home/ec2-user/anaconda3/envs/Braket/lib/python3.10/site-packages (from qiskit-optimization>=0.2.0->qiskit-finance>=0.3.3->qiskit[finance]) (2.8.8)\n",
      "Requirement already satisfied: charset-normalizer<4,>=2 in /home/ec2-user/anaconda3/envs/Braket/lib/python3.10/site-packages (from requests>=2.19->qiskit-ibmq-provider==0.20.2->qiskit[finance]) (3.1.0)\n",
      "Requirement already satisfied: idna<4,>=2.5 in /home/ec2-user/anaconda3/envs/Braket/lib/python3.10/site-packages (from requests>=2.19->qiskit-ibmq-provider==0.20.2->qiskit[finance]) (3.4)\n",
      "Requirement already satisfied: ntlm-auth>=1.0.2 in /home/ec2-user/anaconda3/envs/Braket/lib/python3.10/site-packages (from requests-ntlm<=1.1.0->qiskit-ibmq-provider==0.20.2->qiskit[finance]) (1.5.0)\n",
      "Requirement already satisfied: cryptography>=1.3 in /home/ec2-user/anaconda3/envs/Braket/lib/python3.10/site-packages (from requests-ntlm<=1.1.0->qiskit-ibmq-provider==0.20.2->qiskit[finance]) (40.0.2)\n",
      "Requirement already satisfied: pbr!=2.1.0,>=2.0.0 in /home/ec2-user/anaconda3/envs/Braket/lib/python3.10/site-packages (from stevedore>=3.0.0->qiskit-terra==0.24.0->qiskit[finance]) (5.11.1)\n",
      "Requirement already satisfied: mpmath>=0.19 in /home/ec2-user/anaconda3/envs/Braket/lib/python3.10/site-packages (from sympy>=1.3->qiskit-terra==0.24.0->qiskit[finance]) (1.3.0)\n",
      "Requirement already satisfied: multitasking>=0.0.7 in /home/ec2-user/anaconda3/envs/Braket/lib/python3.10/site-packages (from yfinance>=0.1.70->qiskit-finance>=0.3.3->qiskit[finance]) (0.0.11)\n",
      "Requirement already satisfied: lxml>=4.9.1 in /home/ec2-user/anaconda3/envs/Braket/lib/python3.10/site-packages (from yfinance>=0.1.70->qiskit-finance>=0.3.3->qiskit[finance]) (4.9.2)\n",
      "Requirement already satisfied: appdirs>=1.4.4 in /home/ec2-user/anaconda3/envs/Braket/lib/python3.10/site-packages (from yfinance>=0.1.70->qiskit-finance>=0.3.3->qiskit[finance]) (1.4.4)\n",
      "Requirement already satisfied: pytz>=2022.5 in /home/ec2-user/anaconda3/envs/Braket/lib/python3.10/site-packages (from yfinance>=0.1.70->qiskit-finance>=0.3.3->qiskit[finance]) (2023.3)\n",
      "Requirement already satisfied: frozendict>=2.3.4 in /home/ec2-user/anaconda3/envs/Braket/lib/python3.10/site-packages (from yfinance>=0.1.70->qiskit-finance>=0.3.3->qiskit[finance]) (2.3.8)\n",
      "Requirement already satisfied: beautifulsoup4>=4.11.1 in /home/ec2-user/anaconda3/envs/Braket/lib/python3.10/site-packages (from yfinance>=0.1.70->qiskit-finance>=0.3.3->qiskit[finance]) (4.12.2)\n",
      "Requirement already satisfied: html5lib>=1.1 in /home/ec2-user/anaconda3/envs/Braket/lib/python3.10/site-packages (from yfinance>=0.1.70->qiskit-finance>=0.3.3->qiskit[finance]) (1.1)\n",
      "Requirement already satisfied: tzdata>=2022.1 in /home/ec2-user/anaconda3/envs/Braket/lib/python3.10/site-packages (from pandas->qiskit-finance>=0.3.3->qiskit[finance]) (2023.3)\n",
      "Requirement already satisfied: inflection>=0.3.1 in /home/ec2-user/anaconda3/envs/Braket/lib/python3.10/site-packages (from nasdaq-data-link->qiskit-finance>=0.3.3->qiskit[finance]) (0.5.1)\n",
      "Requirement already satisfied: more-itertools in /home/ec2-user/anaconda3/envs/Braket/lib/python3.10/site-packages (from nasdaq-data-link->qiskit-finance>=0.3.3->qiskit[finance]) (9.1.0)\n",
      "Requirement already satisfied: soupsieve>1.2 in /home/ec2-user/anaconda3/envs/Braket/lib/python3.10/site-packages (from beautifulsoup4>=4.11.1->yfinance>=0.1.70->qiskit-finance>=0.3.3->qiskit[finance]) (2.4.1)\n",
      "Requirement already satisfied: cffi>=1.12 in /home/ec2-user/anaconda3/envs/Braket/lib/python3.10/site-packages (from cryptography>=1.3->requests-ntlm<=1.1.0->qiskit-ibmq-provider==0.20.2->qiskit[finance]) (1.15.1)\n",
      "Requirement already satisfied: webencodings in /home/ec2-user/anaconda3/envs/Braket/lib/python3.10/site-packages (from html5lib>=1.1->yfinance>=0.1.70->qiskit-finance>=0.3.3->qiskit[finance]) (0.5.1)\n",
      "Requirement already satisfied: pycparser in /home/ec2-user/anaconda3/envs/Braket/lib/python3.10/site-packages (from cffi>=1.12->cryptography>=1.3->requests-ntlm<=1.1.0->qiskit-ibmq-provider==0.20.2->qiskit[finance]) (2.21)\n",
      "Note: you may need to restart the kernel to use updated packages.\n"
     ]
    }
   ],
   "source": [
    "pip install qiskit[finance]"
   ]
  },
  {
   "cell_type": "code",
   "execution_count": 23,
   "id": "710222de-9572-4223-a1f1-25c0529f209d",
   "metadata": {
    "tags": []
   },
   "outputs": [],
   "source": [
    "from qiskit.algorithms.minimum_eigensolvers import NumPyMinimumEigensolver, QAOA, SamplingVQE\n",
    "from qiskit.algorithms.optimizers import COBYLA\n",
    "from qiskit.circuit.library import TwoLocal\n",
    "from qiskit.result import QuasiDistribution\n",
    "from qiskit_aer.primitives import Sampler\n",
    "from qiskit_finance.applications.optimization import PortfolioOptimization\n",
    "from qiskit_finance.data_providers import RandomDataProvider\n",
    "from qiskit_optimization.algorithms import MinimumEigenOptimizer\n",
    "import numpy as np\n",
    "import matplotlib.pyplot as plt\n",
    "import datetime\n",
    "%matplotlib inline\n",
    "from qiskit_finance import QiskitFinanceError\n",
    "from qiskit_finance.data_providers import *\n",
    "import datetime\n",
    "import matplotlib.pyplot as plt\n",
    "from pandas.plotting import register_matplotlib_converters\n",
    "\n",
    "register_matplotlib_converters()"
   ]
  },
  {
   "cell_type": "code",
   "execution_count": 30,
   "id": "d188e7bf-6de3-4fe3-ba5e-6f9a9b202e44",
   "metadata": {
    "tags": []
   },
   "outputs": [
    {
     "data": {
      "image/png": "[encoded data removed]",
      "text/plain": [
       "<Figure size 640x480 with 1 Axes>"
      ]
     },
     "metadata": {},
     "output_type": "display_data"
    }
   ],
   "source": [
    "num_assets = 5\n",
    "seed = 1234\n",
    "\n",
    "# Generate expected return and covariance matrix from (random) time-series\n",
    "stocks = [(\"TICKER%s\" % i) for i in range(num_assets)]\n",
    "data = RandomDataProvider(\n",
    "    tickers=stocks,\n",
    "    start=datetime.datetime(2016, 1, 1),\n",
    "    end=datetime.datetime(2016, 1, 30),\n",
    "    seed=seed,\n",
    ")\n",
    "data.run()\n",
    "mu = data.get_period_return_mean_vector()\n",
    "sigma = data.get_period_return_covariance_matrix()\n",
    "try:\n",
    "    data = YahooDataProvider(\n",
    "        tickers=[\"MSFT\", \"AAPL\", \"GOOG\"],\n",
    "        start=datetime.datetime(2021, 1, 1),\n",
    "        end=datetime.datetime(2021, 12, 31),\n",
    "    )\n",
    "    data.run()\n",
    "    for (cnt, s) in enumerate(data._tickers):\n",
    "        plt.plot(data._data[cnt], label=s)\n",
    "    plt.legend(loc=\"upper center\", bbox_to_anchor=(0.5, 1.1), ncol=3)\n",
    "    plt.xticks(rotation=90)\n",
    "    plt.show()\n",
    "except QiskitFinanceError as ex:\n",
    "    data = None\n",
    "    print(ex)\n"
   ]
  },
  {
   "cell_type": "code",
   "execution_count": 31,
   "id": "6175dab2-cd1e-4037-b675-cb5808ba21e9",
   "metadata": {
    "tags": []
   },
   "outputs": [
    {
     "data": {
      "image/png": "[encoded data removed]",
      "text/plain": [
       "<Figure size 640x480 with 1 Axes>"
      ]
     },
     "metadata": {},
     "output_type": "display_data"
    }
   ],
   "source": [
    "plt.imshow(sigma, interpolation=\"nearest\")\n",
    "plt.show()"
   ]
  },
  {
   "cell_type": "code",
   "execution_count": 34,
   "id": "25636e5f-b029-4e15-8b36-0d228b847d29",
   "metadata": {
    "tags": []
   },
   "outputs": [
    {
     "data": {
      "text/plain": [
       "<QuadraticProgram: minimize 0.00031031611712545033*x_0^2 - 0.00016484212727705..., 5 variables, 1 constraints, 'Portfolio optimization'>"
      ]
     },
     "execution_count": 34,
     "metadata": {},
     "output_type": "execute_result"
    }
   ],
   "source": [
    "q = 0.5  # set risk factor\n",
    "budget = num_assets // 2  # set budget\n",
    "penalty = num_assets  # set parameter to scale the budget penalty term\n",
    "\n",
    "portfolio = PortfolioOptimization(\n",
    "    expected_returns=mu, covariances=sigma, risk_factor=q, budget=budget\n",
    ")\n",
    "qp = portfolio.to_quadratic_program()\n",
    "qp"
   ]
  },
  {
   "cell_type": "code",
   "execution_count": 32,
   "id": "c4fa3614-6092-4440-b139-3768dc49dd60",
   "metadata": {
    "tags": []
   },
   "outputs": [],
   "source": [
    "def print_result(result):\n",
    "    selection = result.x\n",
    "    value = result.fval\n",
    "    print(\"Optimal: selection {}, value {:.4f}\".format(selection, value))\n",
    "\n",
    "    eigenstate = result.min_eigen_solver_result.eigenstate\n",
    "    probabilities = (\n",
    "        eigenstate.binary_probabilities()\n",
    "        if isinstance(eigenstate, QuasiDistribution)\n",
    "        else {k: np.abs(v) ** 2 for k, v in eigenstate.to_dict().items()}\n",
    "    )\n",
    "    print(\"\\n----------------- Full result ---------------------\")\n",
    "    print(\"selection\\tvalue\\t\\tprobability\")\n",
    "    print(\"---------------------------------------------------\")\n",
    "    probabilities = sorted(probabilities.items(), key=lambda x: x[1], reverse=True)\n",
    "\n",
    "    for k, v in probabilities:\n",
    "        x = np.array([int(i) for i in list(reversed(k))])\n",
    "        value = portfolio.to_quadratic_program().objective.evaluate(x)\n",
    "        print(\"%10s\\t%.4f\\t\\t%.4f\" % (x, value, v))"
   ]
  },
  {
   "cell_type": "code",
   "execution_count": 35,
   "id": "8376782f-9525-4b49-925d-f47ed9bc87bf",
   "metadata": {
    "tags": []
   },
   "outputs": [
    {
     "name": "stdout",
     "output_type": "stream",
     "text": [
      "Optimal: selection [0. 0. 1. 1. 0.], value -0.0135\n",
      "\n",
      "----------------- Full result ---------------------\n",
      "selection\tvalue\t\tprobability\n",
      "---------------------------------------------------\n",
      "[0 0 1 1 0]\t-0.0135\t\t1.0000\n"
     ]
    }
   ],
   "source": [
    "exact_mes = NumPyMinimumEigensolver()\n",
    "exact_eigensolver = MinimumEigenOptimizer(exact_mes)\n",
    "\n",
    "result = exact_eigensolver.solve(qp)\n",
    "\n",
    "print_result(result)"
   ]
  },
  {
   "cell_type": "code",
   "execution_count": 36,
   "id": "2c5c830f-3612-4dea-9782-12ba5a3eea59",
   "metadata": {
    "tags": []
   },
   "outputs": [
    {
     "name": "stdout",
     "output_type": "stream",
     "text": [
      "Optimal: selection [0. 0. 1. 1. 0.], value -0.0135\n",
      "\n",
      "----------------- Full result ---------------------\n",
      "selection\tvalue\t\tprobability\n",
      "---------------------------------------------------\n",
      "[1 1 0 0 0]\t0.0019\t\t0.3789\n",
      "[1 0 0 1 0]\t-0.0107\t\t0.0762\n",
      "[0 0 1 1 0]\t-0.0135\t\t0.0713\n",
      "[1 0 1 1 0]\t-0.0159\t\t0.0645\n",
      "[0 0 1 1 1]\t-0.0129\t\t0.0615\n",
      "[1 1 0 0 1]\t0.0025\t\t0.0420\n",
      "[0 1 0 0 1]\t0.0051\t\t0.0400\n",
      "[0 0 1 0 1]\t-0.0048\t\t0.0361\n",
      "[1 0 1 0 0]\t-0.0077\t\t0.0361\n",
      "[0 1 0 0 0]\t0.0045\t\t0.0352\n",
      "[0 0 0 1 1]\t-0.0076\t\t0.0322\n",
      "[0 0 1 0 0]\t-0.0053\t\t0.0254\n",
      "[0 0 0 1 0]\t-0.0082\t\t0.0205\n",
      "[1 0 0 1 1]\t-0.0101\t\t0.0186\n",
      "[1 0 0 0 1]\t-0.0020\t\t0.0137\n",
      "[1 1 0 1 0]\t-0.0063\t\t0.0117\n",
      "[0 1 1 0 0]\t-0.0007\t\t0.0098\n",
      "[1 0 1 0 1]\t-0.0072\t\t0.0078\n",
      "[0 0 0 0 0]\t0.0000\t\t0.0049\n",
      "[1 1 1 0 1]\t-0.0027\t\t0.0039\n",
      "[0 1 0 1 0]\t-0.0036\t\t0.0039\n",
      "[1 0 0 0 0]\t-0.0025\t\t0.0029\n",
      "[1 1 0 1 1]\t-0.0055\t\t0.0010\n",
      "[1 1 1 0 0]\t-0.0033\t\t0.0010\n",
      "[0 1 1 0 1]\t-0.0002\t\t0.0010\n"
     ]
    }
   ],
   "source": [
    "from qiskit.utils import algorithm_globals\n",
    "\n",
    "algorithm_globals.random_seed = 1234\n",
    "\n",
    "cobyla = COBYLA()\n",
    "cobyla.set_options(maxiter=500)\n",
    "ry = TwoLocal(num_assets, \"ry\", \"cz\", reps=3, entanglement=\"full\")\n",
    "vqe_mes = SamplingVQE(sampler=Sampler(), ansatz=ry, optimizer=cobyla)\n",
    "vqe = MinimumEigenOptimizer(vqe_mes)\n",
    "result = vqe.solve(qp)\n",
    "\n",
    "print_result(result)"
   ]
  },
  {
   "cell_type": "code",
   "execution_count": 13,
   "id": "57bf2ec3-c40d-491b-86a1-2b5441c6a6f6",
   "metadata": {
    "tags": []
   },
   "outputs": [
    {
     "name": "stdout",
     "output_type": "stream",
     "text": [
      "Optimal: selection [1. 0. 0. 1.], value -0.0149\n",
      "\n",
      "----------------- Full result ---------------------\n",
      "selection\tvalue\t\tprobability\n",
      "---------------------------------------------------\n",
      " [1 0 1 0]\t-0.0140\t\t0.1719\n",
      " [0 0 1 1]\t-0.0010\t\t0.1641\n",
      " [1 1 0 0]\t-0.0130\t\t0.1641\n",
      " [1 0 0 1]\t-0.0149\t\t0.1631\n",
      " [0 1 0 1]\t0.0002\t\t0.1562\n",
      " [0 1 1 0]\t0.0008\t\t0.1523\n",
      " [1 1 1 1]\t-0.0139\t\t0.0059\n",
      " [1 1 1 0]\t-0.0130\t\t0.0049\n",
      " [0 0 0 0]\t0.0000\t\t0.0049\n",
      " [1 0 0 0]\t-0.0140\t\t0.0029\n",
      " [0 1 1 1]\t-0.0000\t\t0.0029\n",
      " [1 1 0 1]\t-0.0139\t\t0.0020\n",
      " [1 0 1 1]\t-0.0150\t\t0.0020\n",
      " [0 0 1 0]\t-0.0001\t\t0.0020\n",
      " [0 0 0 1]\t-0.0008\t\t0.0010\n"
     ]
    }
   ],
   "source": [
    "algorithm_globals.random_seed = 1234\n",
    "\n",
    "cobyla = COBYLA()\n",
    "cobyla.set_options(maxiter=250)\n",
    "qaoa_mes = QAOA(sampler=Sampler(), optimizer=cobyla, reps=3)\n",
    "qaoa = MinimumEigenOptimizer(qaoa_mes)\n",
    "result = qaoa.solve(qp)\n",
    "\n",
    "print_result(result)"
   ]
  }
 ],
 "metadata": {
  "kernelspec": {
   "display_name": "conda_braket",
   "language": "python",
   "name": "conda_braket"
  },
  "language_info": {
   "codemirror_mode": {
    "name": "ipython",
    "version": 3
   },
   "file_extension": ".py",
   "mimetype": "text/x-python",
   "name": "python",
   "nbconvert_exporter": "python",
   "pygments_lexer": "ipython3",
   "version": "3.10.10"
  }
 },
 "nbformat": 4,
 "nbformat_minor": 5
}
