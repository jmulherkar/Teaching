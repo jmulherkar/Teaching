{
  "nbformat": 4,
  "nbformat_minor": 0,
  "metadata": {
    "colab": {
      "provenance": []
    },
    "kernelspec": {
      "name": "python3",
      "display_name": "Python 3"
    },
    "language_info": {
      "name": "python"
    }
  },
  "cells": [
    {
      "cell_type": "markdown",
      "source": [
        "# CS405 Quantum Computation Project\n",
        "\n",
        "# Group 10\n",
        "# Project topic : Quantum Optimization Algorithms\n",
        "## Quantum Approximate Optimization Algorithm (QAOA)\n",
        "\n",
        "## 202003020 - Prathav Kevadiya\n",
        "## 202003025 - Preet Mevawalla\n",
        "## 202003048 - Prayag Patel\n",
        "\n",
        "## [Google Colab Link](https://colab.research.google.com/drive/1hq6xiTdUHgVCootwLD146A2tiHtlrvlJ?usp=sharing)"
      ],
      "metadata": {
        "id": "7mMEwlpVfIBe"
      }
    },
    {
      "cell_type": "code",
      "source": [
        "!pip install qiskit"
      ],
      "metadata": {
        "colab": {
          "base_uri": "https://localhost:8080/"
        },
        "id": "kQLmOvXTUnOI",
        "outputId": "a14d37d7-2902-4888-a92e-b8bdd764b7f1"
      },
      "execution_count": 18,
      "outputs": [
        {
          "output_type": "stream",
          "name": "stdout",
          "text": [
            "Looking in indexes: https://pypi.org/simple, https://us-python.pkg.dev/colab-wheels/public/simple/\n",
            "Requirement already satisfied: qiskit in /usr/local/lib/python3.10/dist-packages (0.43.0)\n",
            "Requirement already satisfied: qiskit-terra==0.24.0 in /usr/local/lib/python3.10/dist-packages (from qiskit) (0.24.0)\n",
            "Requirement already satisfied: qiskit-aer==0.12.0 in /usr/local/lib/python3.10/dist-packages (from qiskit) (0.12.0)\n",
            "Requirement already satisfied: qiskit-ibmq-provider==0.20.2 in /usr/local/lib/python3.10/dist-packages (from qiskit) (0.20.2)\n",
            "Requirement already satisfied: numpy>=1.16.3 in /usr/local/lib/python3.10/dist-packages (from qiskit-aer==0.12.0->qiskit) (1.22.4)\n",
            "Requirement already satisfied: scipy>=1.0 in /usr/local/lib/python3.10/dist-packages (from qiskit-aer==0.12.0->qiskit) (1.10.1)\n",
            "Requirement already satisfied: requests>=2.19 in /usr/local/lib/python3.10/dist-packages (from qiskit-ibmq-provider==0.20.2->qiskit) (2.27.1)\n",
            "Requirement already satisfied: requests-ntlm<=1.1.0 in /usr/local/lib/python3.10/dist-packages (from qiskit-ibmq-provider==0.20.2->qiskit) (1.1.0)\n",
            "Requirement already satisfied: urllib3>=1.21.1 in /usr/local/lib/python3.10/dist-packages (from qiskit-ibmq-provider==0.20.2->qiskit) (1.26.15)\n",
            "Requirement already satisfied: python-dateutil>=2.8.0 in /usr/local/lib/python3.10/dist-packages (from qiskit-ibmq-provider==0.20.2->qiskit) (2.8.2)\n",
            "Requirement already satisfied: websocket-client>=1.5.1 in /usr/local/lib/python3.10/dist-packages (from qiskit-ibmq-provider==0.20.2->qiskit) (1.5.1)\n",
            "Requirement already satisfied: websockets>=10.0 in /usr/local/lib/python3.10/dist-packages (from qiskit-ibmq-provider==0.20.2->qiskit) (11.0.3)\n",
            "Requirement already satisfied: rustworkx>=0.12.0 in /usr/local/lib/python3.10/dist-packages (from qiskit-terra==0.24.0->qiskit) (0.12.1)\n",
            "Requirement already satisfied: ply>=3.10 in /usr/local/lib/python3.10/dist-packages (from qiskit-terra==0.24.0->qiskit) (3.11)\n",
            "Requirement already satisfied: psutil>=5 in /usr/local/lib/python3.10/dist-packages (from qiskit-terra==0.24.0->qiskit) (5.9.5)\n",
            "Requirement already satisfied: sympy>=1.3 in /usr/local/lib/python3.10/dist-packages (from qiskit-terra==0.24.0->qiskit) (1.11.1)\n",
            "Requirement already satisfied: dill>=0.3 in /usr/local/lib/python3.10/dist-packages (from qiskit-terra==0.24.0->qiskit) (0.3.6)\n",
            "Requirement already satisfied: stevedore>=3.0.0 in /usr/local/lib/python3.10/dist-packages (from qiskit-terra==0.24.0->qiskit) (5.1.0)\n",
            "Requirement already satisfied: symengine<0.10,>=0.9 in /usr/local/lib/python3.10/dist-packages (from qiskit-terra==0.24.0->qiskit) (0.9.2)\n",
            "Requirement already satisfied: six>=1.5 in /usr/local/lib/python3.10/dist-packages (from python-dateutil>=2.8.0->qiskit-ibmq-provider==0.20.2->qiskit) (1.16.0)\n",
            "Requirement already satisfied: certifi>=2017.4.17 in /usr/local/lib/python3.10/dist-packages (from requests>=2.19->qiskit-ibmq-provider==0.20.2->qiskit) (2022.12.7)\n",
            "Requirement already satisfied: charset-normalizer~=2.0.0 in /usr/local/lib/python3.10/dist-packages (from requests>=2.19->qiskit-ibmq-provider==0.20.2->qiskit) (2.0.12)\n",
            "Requirement already satisfied: idna<4,>=2.5 in /usr/local/lib/python3.10/dist-packages (from requests>=2.19->qiskit-ibmq-provider==0.20.2->qiskit) (3.4)\n",
            "Requirement already satisfied: ntlm-auth>=1.0.2 in /usr/local/lib/python3.10/dist-packages (from requests-ntlm<=1.1.0->qiskit-ibmq-provider==0.20.2->qiskit) (1.5.0)\n",
            "Requirement already satisfied: cryptography>=1.3 in /usr/local/lib/python3.10/dist-packages (from requests-ntlm<=1.1.0->qiskit-ibmq-provider==0.20.2->qiskit) (40.0.2)\n",
            "Requirement already satisfied: pbr!=2.1.0,>=2.0.0 in /usr/local/lib/python3.10/dist-packages (from stevedore>=3.0.0->qiskit-terra==0.24.0->qiskit) (5.11.1)\n",
            "Requirement already satisfied: mpmath>=0.19 in /usr/local/lib/python3.10/dist-packages (from sympy>=1.3->qiskit-terra==0.24.0->qiskit) (1.3.0)\n",
            "Requirement already satisfied: cffi>=1.12 in /usr/local/lib/python3.10/dist-packages (from cryptography>=1.3->requests-ntlm<=1.1.0->qiskit-ibmq-provider==0.20.2->qiskit) (1.15.1)\n",
            "Requirement already satisfied: pycparser in /usr/local/lib/python3.10/dist-packages (from cffi>=1.12->cryptography>=1.3->requests-ntlm<=1.1.0->qiskit-ibmq-provider==0.20.2->qiskit) (2.21)\n"
          ]
        }
      ]
    },
    {
      "cell_type": "markdown",
      "source": [
        "**Qiskit**"
      ],
      "metadata": {
        "id": "bWYZU4UpvbkM"
      }
    },
    {
      "cell_type": "code",
      "execution_count": 19,
      "metadata": {
        "id": "YhJyNB_XUUys"
      },
      "outputs": [],
      "source": [
        "import networkx as nx\n",
        "import matplotlib.pyplot as plt"
      ]
    },
    {
      "cell_type": "code",
      "source": [
        "import networkx as nx\n",
        "\n",
        "G = nx.Graph()\n",
        "# graph type 1\n",
        "# G.add_nodes_from([0, 1, 2, 3, 4, 5])\n",
        "# G.add_edges_from([(0, 1), (1, 2), (0, 3), (3, 4),(4,5),(5,0),(2,0)])\n",
        "# graph type 2\n",
        "G.add_nodes_from([0, 1, 2, 3, 4, 5])\n",
        "G.add_edges_from([(0, 1), (1, 2), (0, 3), (3, 4),(4,5),(5,0),(2,0),(1,3)])\n",
        "\n",
        "nx.draw(G, with_labels=True, alpha=0.8, node_size=500)"
      ],
      "metadata": {
        "colab": {
          "base_uri": "https://localhost:8080/",
          "height": 516
        },
        "id": "61a-Y_dMUXVE",
        "outputId": "04209cca-ee51-4e79-db69-c22e54af3386"
      },
      "execution_count": 20,
      "outputs": [
        {
          "output_type": "display_data",
          "data": {
            "text/plain": [
              "<Figure size 640x480 with 1 Axes>"
            ],
            "image/png": "[encoded data removed]"
          },
          "metadata": {}
        }
      ]
    },
    {
      "cell_type": "code",
      "source": [
        "from qiskit import QuantumCircuit, ClassicalRegister, QuantumRegister\n",
        "from qiskit import Aer, execute\n",
        "from qiskit.circuit import Parameter\n",
        "\n",
        "# Adjacency is essentially a matrix which tells you which nodes are\n",
        "# connected. This matrix is given as a sparse matrix, so we need to\n",
        "# convert it to a dense matrix\n",
        "adjacency = nx.adjacency_matrix(G).todense()\n",
        "\n",
        "nqubits = 6\n",
        "\n",
        "beta = Parameter(\"$\\\\beta$\")\n",
        "qc_mix = QuantumCircuit(nqubits)\n",
        "for i in range(0, nqubits):\n",
        "    qc_mix.rx(2 * beta, i)\n",
        "    \n",
        "qc_mix.draw()"
      ],
      "metadata": {
        "colab": {
          "base_uri": "https://localhost:8080/",
          "height": 217
        },
        "id": "-YOJtbVmUhLO",
        "outputId": "2d2ccd99-5254-4ada-c46e-29e7eb8c829f"
      },
      "execution_count": 21,
      "outputs": [
        {
          "output_type": "execute_result",
          "data": {
            "text/plain": [
              "     ┌───────────────┐\n",
              "q_0: ┤ Rx(2*$\\beta$) ├\n",
              "     ├───────────────┤\n",
              "q_1: ┤ Rx(2*$\\beta$) ├\n",
              "     ├───────────────┤\n",
              "q_2: ┤ Rx(2*$\\beta$) ├\n",
              "     ├───────────────┤\n",
              "q_3: ┤ Rx(2*$\\beta$) ├\n",
              "     ├───────────────┤\n",
              "q_4: ┤ Rx(2*$\\beta$) ├\n",
              "     ├───────────────┤\n",
              "q_5: ┤ Rx(2*$\\beta$) ├\n",
              "     └───────────────┘"
            ],
            "text/html": [
              "<pre style=\"word-wrap: normal;white-space: pre;background: #fff0;line-height: 1.1;font-family: &quot;Courier New&quot;,Courier,monospace\">     ┌───────────────┐\n",
              "q_0: ┤ Rx(2*$\\beta$) ├\n",
              "     ├───────────────┤\n",
              "q_1: ┤ Rx(2*$\\beta$) ├\n",
              "     ├───────────────┤\n",
              "q_2: ┤ Rx(2*$\\beta$) ├\n",
              "     ├───────────────┤\n",
              "q_3: ┤ Rx(2*$\\beta$) ├\n",
              "     ├───────────────┤\n",
              "q_4: ┤ Rx(2*$\\beta$) ├\n",
              "     ├───────────────┤\n",
              "q_5: ┤ Rx(2*$\\beta$) ├\n",
              "     └───────────────┘</pre>"
            ]
          },
          "metadata": {},
          "execution_count": 21
        }
      ]
    },
    {
      "cell_type": "code",
      "source": [
        "gamma = Parameter(\"$\\\\gamma$\")\n",
        "qc_p = QuantumCircuit(nqubits)\n",
        "for pair in list(G.edges()):  # pairs of nodes\n",
        "    qc_p.rzz(2 * gamma, pair[0], pair[1])\n",
        "    qc_p.barrier()\n",
        "    \n",
        "qc_p.decompose().draw()"
      ],
      "metadata": {
        "colab": {
          "base_uri": "https://localhost:8080/",
          "height": 818
        },
        "id": "qAMXNrSOUjy2",
        "outputId": "97003c7a-e197-434c-a0f7-6f8650205b0a"
      },
      "execution_count": 22,
      "outputs": [
        {
          "output_type": "execute_result",
          "data": {
            "text/plain": [
              "                                  ░                              ░      »\n",
              "q_0: ──■──────────────────────■───░───■──────────────────────■───░───■──»\n",
              "     ┌─┴─┐┌────────────────┐┌─┴─┐ ░   │                      │   ░   │  »\n",
              "q_1: ┤ X ├┤ Rz(2*$\\gamma$) ├┤ X ├─░───┼──────────────────────┼───░───┼──»\n",
              "     └───┘└────────────────┘└───┘ ░   │                      │   ░   │  »\n",
              "q_2: ─────────────────────────────░───┼──────────────────────┼───░───┼──»\n",
              "                                  ░ ┌─┴─┐┌────────────────┐┌─┴─┐ ░   │  »\n",
              "q_3: ─────────────────────────────░─┤ X ├┤ Rz(2*$\\gamma$) ├┤ X ├─░───┼──»\n",
              "                                  ░ └───┘└────────────────┘└───┘ ░   │  »\n",
              "q_4: ─────────────────────────────░──────────────────────────────░───┼──»\n",
              "                                  ░                              ░ ┌─┴─┐»\n",
              "q_5: ─────────────────────────────░──────────────────────────────░─┤ X ├»\n",
              "                                  ░                              ░ └───┘»\n",
              "«                             ░                              ░      »\n",
              "«q_0: ────────────────────■───░───■──────────────────────■───░──────»\n",
              "«                         │   ░   │                      │   ░      »\n",
              "«q_1: ────────────────────┼───░───┼──────────────────────┼───░───■──»\n",
              "«                         │   ░ ┌─┴─┐┌────────────────┐┌─┴─┐ ░ ┌─┴─┐»\n",
              "«q_2: ────────────────────┼───░─┤ X ├┤ Rz(2*$\\gamma$) ├┤ X ├─░─┤ X ├»\n",
              "«                         │   ░ └───┘└────────────────┘└───┘ ░ └───┘»\n",
              "«q_3: ────────────────────┼───░──────────────────────────────░──────»\n",
              "«                         │   ░                              ░      »\n",
              "«q_4: ────────────────────┼───░──────────────────────────────░──────»\n",
              "«     ┌────────────────┐┌─┴─┐ ░                              ░      »\n",
              "«q_5: ┤ Rz(2*$\\gamma$) ├┤ X ├─░──────────────────────────────░──────»\n",
              "«     └────────────────┘└───┘ ░                              ░      »\n",
              "«                             ░                              ░      »\n",
              "«q_0: ────────────────────────░──────────────────────────────░──────»\n",
              "«                             ░                              ░      »\n",
              "«q_1: ────────────────────■───░───■──────────────────────■───░──────»\n",
              "«     ┌────────────────┐┌─┴─┐ ░   │                      │   ░      »\n",
              "«q_2: ┤ Rz(2*$\\gamma$) ├┤ X ├─░───┼──────────────────────┼───░──────»\n",
              "«     └────────────────┘└───┘ ░ ┌─┴─┐┌────────────────┐┌─┴─┐ ░      »\n",
              "«q_3: ────────────────────────░─┤ X ├┤ Rz(2*$\\gamma$) ├┤ X ├─░───■──»\n",
              "«                             ░ └───┘└────────────────┘└───┘ ░ ┌─┴─┐»\n",
              "«q_4: ────────────────────────░──────────────────────────────░─┤ X ├»\n",
              "«                             ░                              ░ └───┘»\n",
              "«q_5: ────────────────────────░──────────────────────────────░──────»\n",
              "«                             ░                              ░      »\n",
              "«                             ░                              ░ \n",
              "«q_0: ────────────────────────░──────────────────────────────░─\n",
              "«                             ░                              ░ \n",
              "«q_1: ────────────────────────░──────────────────────────────░─\n",
              "«                             ░                              ░ \n",
              "«q_2: ────────────────────────░──────────────────────────────░─\n",
              "«                             ░                              ░ \n",
              "«q_3: ────────────────────■───░──────────────────────────────░─\n",
              "«     ┌────────────────┐┌─┴─┐ ░                              ░ \n",
              "«q_4: ┤ Rz(2*$\\gamma$) ├┤ X ├─░───■──────────────────────■───░─\n",
              "«     └────────────────┘└───┘ ░ ┌─┴─┐┌────────────────┐┌─┴─┐ ░ \n",
              "«q_5: ────────────────────────░─┤ X ├┤ Rz(2*$\\gamma$) ├┤ X ├─░─\n",
              "«                             ░ └───┘└────────────────┘└───┘ ░ "
            ],
            "text/html": [
              "<pre style=\"word-wrap: normal;white-space: pre;background: #fff0;line-height: 1.1;font-family: &quot;Courier New&quot;,Courier,monospace\">                                  ░                              ░      »\n",
              "q_0: ──■──────────────────────■───░───■──────────────────────■───░───■──»\n",
              "     ┌─┴─┐┌────────────────┐┌─┴─┐ ░   │                      │   ░   │  »\n",
              "q_1: ┤ X ├┤ Rz(2*$\\gamma$) ├┤ X ├─░───┼──────────────────────┼───░───┼──»\n",
              "     └───┘└────────────────┘└───┘ ░   │                      │   ░   │  »\n",
              "q_2: ─────────────────────────────░───┼──────────────────────┼───░───┼──»\n",
              "                                  ░ ┌─┴─┐┌────────────────┐┌─┴─┐ ░   │  »\n",
              "q_3: ─────────────────────────────░─┤ X ├┤ Rz(2*$\\gamma$) ├┤ X ├─░───┼──»\n",
              "                                  ░ └───┘└────────────────┘└───┘ ░   │  »\n",
              "q_4: ─────────────────────────────░──────────────────────────────░───┼──»\n",
              "                                  ░                              ░ ┌─┴─┐»\n",
              "q_5: ─────────────────────────────░──────────────────────────────░─┤ X ├»\n",
              "                                  ░                              ░ └───┘»\n",
              "«                             ░                              ░      »\n",
              "«q_0: ────────────────────■───░───■──────────────────────■───░──────»\n",
              "«                         │   ░   │                      │   ░      »\n",
              "«q_1: ────────────────────┼───░───┼──────────────────────┼───░───■──»\n",
              "«                         │   ░ ┌─┴─┐┌────────────────┐┌─┴─┐ ░ ┌─┴─┐»\n",
              "«q_2: ────────────────────┼───░─┤ X ├┤ Rz(2*$\\gamma$) ├┤ X ├─░─┤ X ├»\n",
              "«                         │   ░ └───┘└────────────────┘└───┘ ░ └───┘»\n",
              "«q_3: ────────────────────┼───░──────────────────────────────░──────»\n",
              "«                         │   ░                              ░      »\n",
              "«q_4: ────────────────────┼───░──────────────────────────────░──────»\n",
              "«     ┌────────────────┐┌─┴─┐ ░                              ░      »\n",
              "«q_5: ┤ Rz(2*$\\gamma$) ├┤ X ├─░──────────────────────────────░──────»\n",
              "«     └────────────────┘└───┘ ░                              ░      »\n",
              "«                             ░                              ░      »\n",
              "«q_0: ────────────────────────░──────────────────────────────░──────»\n",
              "«                             ░                              ░      »\n",
              "«q_1: ────────────────────■───░───■──────────────────────■───░──────»\n",
              "«     ┌────────────────┐┌─┴─┐ ░   │                      │   ░      »\n",
              "«q_2: ┤ Rz(2*$\\gamma$) ├┤ X ├─░───┼──────────────────────┼───░──────»\n",
              "«     └────────────────┘└───┘ ░ ┌─┴─┐┌────────────────┐┌─┴─┐ ░      »\n",
              "«q_3: ────────────────────────░─┤ X ├┤ Rz(2*$\\gamma$) ├┤ X ├─░───■──»\n",
              "«                             ░ └───┘└────────────────┘└───┘ ░ ┌─┴─┐»\n",
              "«q_4: ────────────────────────░──────────────────────────────░─┤ X ├»\n",
              "«                             ░                              ░ └───┘»\n",
              "«q_5: ────────────────────────░──────────────────────────────░──────»\n",
              "«                             ░                              ░      »\n",
              "«                             ░                              ░ \n",
              "«q_0: ────────────────────────░──────────────────────────────░─\n",
              "«                             ░                              ░ \n",
              "«q_1: ────────────────────────░──────────────────────────────░─\n",
              "«                             ░                              ░ \n",
              "«q_2: ────────────────────────░──────────────────────────────░─\n",
              "«                             ░                              ░ \n",
              "«q_3: ────────────────────■───░──────────────────────────────░─\n",
              "«     ┌────────────────┐┌─┴─┐ ░                              ░ \n",
              "«q_4: ┤ Rz(2*$\\gamma$) ├┤ X ├─░───■──────────────────────■───░─\n",
              "«     └────────────────┘└───┘ ░ ┌─┴─┐┌────────────────┐┌─┴─┐ ░ \n",
              "«q_5: ────────────────────────░─┤ X ├┤ Rz(2*$\\gamma$) ├┤ X ├─░─\n",
              "«                             ░ └───┘└────────────────┘└───┘ ░ </pre>"
            ]
          },
          "metadata": {},
          "execution_count": 22
        }
      ]
    },
    {
      "cell_type": "markdown",
      "source": [
        "# Initial State"
      ],
      "metadata": {
        "id": "TFnRSFsQgoTX"
      }
    },
    {
      "cell_type": "code",
      "source": [
        "qc_0 = QuantumCircuit(nqubits)\n",
        "for i in range(0, nqubits):\n",
        "    qc_0.h(i)\n",
        "    \n",
        "qc_0.draw()"
      ],
      "metadata": {
        "colab": {
          "base_uri": "https://localhost:8080/",
          "height": 217
        },
        "id": "jEWWWderUxlN",
        "outputId": "6c761b8c-a210-421a-87a1-b291400444f8"
      },
      "execution_count": 23,
      "outputs": [
        {
          "output_type": "execute_result",
          "data": {
            "text/plain": [
              "     ┌───┐\n",
              "q_0: ┤ H ├\n",
              "     ├───┤\n",
              "q_1: ┤ H ├\n",
              "     ├───┤\n",
              "q_2: ┤ H ├\n",
              "     ├───┤\n",
              "q_3: ┤ H ├\n",
              "     ├───┤\n",
              "q_4: ┤ H ├\n",
              "     ├───┤\n",
              "q_5: ┤ H ├\n",
              "     └───┘"
            ],
            "text/html": [
              "<pre style=\"word-wrap: normal;white-space: pre;background: #fff0;line-height: 1.1;font-family: &quot;Courier New&quot;,Courier,monospace\">     ┌───┐\n",
              "q_0: ┤ H ├\n",
              "     ├───┤\n",
              "q_1: ┤ H ├\n",
              "     ├───┤\n",
              "q_2: ┤ H ├\n",
              "     ├───┤\n",
              "q_3: ┤ H ├\n",
              "     ├───┤\n",
              "q_4: ┤ H ├\n",
              "     ├───┤\n",
              "q_5: ┤ H ├\n",
              "     └───┘</pre>"
            ]
          },
          "metadata": {},
          "execution_count": 23
        }
      ]
    },
    {
      "cell_type": "markdown",
      "source": [
        "# QAOA Circuit"
      ],
      "metadata": {
        "id": "-q8pXP-mg0mS"
      }
    },
    {
      "cell_type": "code",
      "source": [
        "qc_qaoa = QuantumCircuit(nqubits)\n",
        "\n",
        "qc_qaoa.append(qc_0, [i for i in range(0, nqubits)])\n",
        "qc_qaoa.append(qc_p, [i for i in range(0, nqubits)])\n",
        "qc_qaoa.append(qc_mix, [i for i in range(0, nqubits)])\n",
        "\n",
        "qc_qaoa.decompose().decompose().draw()"
      ],
      "metadata": {
        "colab": {
          "base_uri": "https://localhost:8080/",
          "height": 1000
        },
        "id": "SVLYvt8tU0y7",
        "outputId": "e80fe421-395d-4920-8164-f88fca1fe6fa"
      },
      "execution_count": 24,
      "outputs": [
        {
          "output_type": "execute_result",
          "data": {
            "text/plain": [
              "     ┌─────────┐                             ░                              ░ »\n",
              "q_0: ┤ U2(0,π) ├──■──────────────────────■───░───■──────────────────────■───░─»\n",
              "     ├─────────┤┌─┴─┐┌────────────────┐┌─┴─┐ ░   │                      │   ░ »\n",
              "q_1: ┤ U2(0,π) ├┤ X ├┤ Rz(2*$\\gamma$) ├┤ X ├─░───┼──────────────────────┼───░─»\n",
              "     ├─────────┤└───┘└────────────────┘└───┘ ░   │                      │   ░ »\n",
              "q_2: ┤ U2(0,π) ├─────────────────────────────░───┼──────────────────────┼───░─»\n",
              "     ├─────────┤                             ░ ┌─┴─┐┌────────────────┐┌─┴─┐ ░ »\n",
              "q_3: ┤ U2(0,π) ├─────────────────────────────░─┤ X ├┤ Rz(2*$\\gamma$) ├┤ X ├─░─»\n",
              "     ├─────────┤                             ░ └───┘└────────────────┘└───┘ ░ »\n",
              "q_4: ┤ U2(0,π) ├─────────────────────────────░──────────────────────────────░─»\n",
              "     ├─────────┤                             ░                              ░ »\n",
              "q_5: ┤ U2(0,π) ├─────────────────────────────░──────────────────────────────░─»\n",
              "     └─────────┘                             ░                              ░ »\n",
              "«                                  ░                              ░      »\n",
              "«q_0: ──■──────────────────────■───░───■──────────────────────■───░──────»\n",
              "«       │                      │   ░   │                      │   ░      »\n",
              "«q_1: ──┼──────────────────────┼───░───┼──────────────────────┼───░───■──»\n",
              "«       │                      │   ░ ┌─┴─┐┌────────────────┐┌─┴─┐ ░ ┌─┴─┐»\n",
              "«q_2: ──┼──────────────────────┼───░─┤ X ├┤ Rz(2*$\\gamma$) ├┤ X ├─░─┤ X ├»\n",
              "«       │                      │   ░ └───┘└────────────────┘└───┘ ░ └───┘»\n",
              "«q_3: ──┼──────────────────────┼───░──────────────────────────────░──────»\n",
              "«       │                      │   ░                              ░      »\n",
              "«q_4: ──┼──────────────────────┼───░──────────────────────────────░──────»\n",
              "«     ┌─┴─┐┌────────────────┐┌─┴─┐ ░                              ░      »\n",
              "«q_5: ┤ X ├┤ Rz(2*$\\gamma$) ├┤ X ├─░──────────────────────────────░──────»\n",
              "«     └───┘└────────────────┘└───┘ ░                              ░      »\n",
              "«                             ░                              ░      »\n",
              "«q_0: ────────────────────────░──────────────────────────────░──────»\n",
              "«                             ░                              ░      »\n",
              "«q_1: ────────────────────■───░───■──────────────────────■───░──────»\n",
              "«     ┌────────────────┐┌─┴─┐ ░   │                      │   ░      »\n",
              "«q_2: ┤ Rz(2*$\\gamma$) ├┤ X ├─░───┼──────────────────────┼───░──────»\n",
              "«     └────────────────┘└───┘ ░ ┌─┴─┐┌────────────────┐┌─┴─┐ ░      »\n",
              "«q_3: ────────────────────────░─┤ X ├┤ Rz(2*$\\gamma$) ├┤ X ├─░───■──»\n",
              "«                             ░ └───┘└────────────────┘└───┘ ░ ┌─┴─┐»\n",
              "«q_4: ────────────────────────░──────────────────────────────░─┤ X ├»\n",
              "«                             ░                              ░ └───┘»\n",
              "«q_5: ────────────────────────░──────────────────────────────░──────»\n",
              "«                             ░                              ░      »\n",
              "«                             ░                              ░ »\n",
              "«q_0: ────────────────────────░──────────────────────────────░─»\n",
              "«                             ░                              ░ »\n",
              "«q_1: ────────────────────────░──────────────────────────────░─»\n",
              "«                             ░                              ░ »\n",
              "«q_2: ────────────────────────░──────────────────────────────░─»\n",
              "«                             ░                              ░ »\n",
              "«q_3: ────────────────────■───░──────────────────────────────░─»\n",
              "«     ┌────────────────┐┌─┴─┐ ░                              ░ »\n",
              "«q_4: ┤ Rz(2*$\\gamma$) ├┤ X ├─░───■──────────────────────■───░─»\n",
              "«     └────────────────┘└───┘ ░ ┌─┴─┐┌────────────────┐┌─┴─┐ ░ »\n",
              "«q_5: ────────────────────────░─┤ X ├┤ Rz(2*$\\gamma$) ├┤ X ├─░─»\n",
              "«                             ░ └───┘└────────────────┘└───┘ ░ »\n",
              "«     ┌────────────────┐\n",
              "«q_0: ┤ R(2*$\\beta$,0) ├\n",
              "«     ├────────────────┤\n",
              "«q_1: ┤ R(2*$\\beta$,0) ├\n",
              "«     ├────────────────┤\n",
              "«q_2: ┤ R(2*$\\beta$,0) ├\n",
              "«     ├────────────────┤\n",
              "«q_3: ┤ R(2*$\\beta$,0) ├\n",
              "«     ├────────────────┤\n",
              "«q_4: ┤ R(2*$\\beta$,0) ├\n",
              "«     ├────────────────┤\n",
              "«q_5: ┤ R(2*$\\beta$,0) ├\n",
              "«     └────────────────┘"
            ],
            "text/html": [
              "<pre style=\"word-wrap: normal;white-space: pre;background: #fff0;line-height: 1.1;font-family: &quot;Courier New&quot;,Courier,monospace\">     ┌─────────┐                             ░                              ░ »\n",
              "q_0: ┤ U2(0,π) ├──■──────────────────────■───░───■──────────────────────■───░─»\n",
              "     ├─────────┤┌─┴─┐┌────────────────┐┌─┴─┐ ░   │                      │   ░ »\n",
              "q_1: ┤ U2(0,π) ├┤ X ├┤ Rz(2*$\\gamma$) ├┤ X ├─░───┼──────────────────────┼───░─»\n",
              "     ├─────────┤└───┘└────────────────┘└───┘ ░   │                      │   ░ »\n",
              "q_2: ┤ U2(0,π) ├─────────────────────────────░───┼──────────────────────┼───░─»\n",
              "     ├─────────┤                             ░ ┌─┴─┐┌────────────────┐┌─┴─┐ ░ »\n",
              "q_3: ┤ U2(0,π) ├─────────────────────────────░─┤ X ├┤ Rz(2*$\\gamma$) ├┤ X ├─░─»\n",
              "     ├─────────┤                             ░ └───┘└────────────────┘└───┘ ░ »\n",
              "q_4: ┤ U2(0,π) ├─────────────────────────────░──────────────────────────────░─»\n",
              "     ├─────────┤                             ░                              ░ »\n",
              "q_5: ┤ U2(0,π) ├─────────────────────────────░──────────────────────────────░─»\n",
              "     └─────────┘                             ░                              ░ »\n",
              "«                                  ░                              ░      »\n",
              "«q_0: ──■──────────────────────■───░───■──────────────────────■───░──────»\n",
              "«       │                      │   ░   │                      │   ░      »\n",
              "«q_1: ──┼──────────────────────┼───░───┼──────────────────────┼───░───■──»\n",
              "«       │                      │   ░ ┌─┴─┐┌────────────────┐┌─┴─┐ ░ ┌─┴─┐»\n",
              "«q_2: ──┼──────────────────────┼───░─┤ X ├┤ Rz(2*$\\gamma$) ├┤ X ├─░─┤ X ├»\n",
              "«       │                      │   ░ └───┘└────────────────┘└───┘ ░ └───┘»\n",
              "«q_3: ──┼──────────────────────┼───░──────────────────────────────░──────»\n",
              "«       │                      │   ░                              ░      »\n",
              "«q_4: ──┼──────────────────────┼───░──────────────────────────────░──────»\n",
              "«     ┌─┴─┐┌────────────────┐┌─┴─┐ ░                              ░      »\n",
              "«q_5: ┤ X ├┤ Rz(2*$\\gamma$) ├┤ X ├─░──────────────────────────────░──────»\n",
              "«     └───┘└────────────────┘└───┘ ░                              ░      »\n",
              "«                             ░                              ░      »\n",
              "«q_0: ────────────────────────░──────────────────────────────░──────»\n",
              "«                             ░                              ░      »\n",
              "«q_1: ────────────────────■───░───■──────────────────────■───░──────»\n",
              "«     ┌────────────────┐┌─┴─┐ ░   │                      │   ░      »\n",
              "«q_2: ┤ Rz(2*$\\gamma$) ├┤ X ├─░───┼──────────────────────┼───░──────»\n",
              "«     └────────────────┘└───┘ ░ ┌─┴─┐┌────────────────┐┌─┴─┐ ░      »\n",
              "«q_3: ────────────────────────░─┤ X ├┤ Rz(2*$\\gamma$) ├┤ X ├─░───■──»\n",
              "«                             ░ └───┘└────────────────┘└───┘ ░ ┌─┴─┐»\n",
              "«q_4: ────────────────────────░──────────────────────────────░─┤ X ├»\n",
              "«                             ░                              ░ └───┘»\n",
              "«q_5: ────────────────────────░──────────────────────────────░──────»\n",
              "«                             ░                              ░      »\n",
              "«                             ░                              ░ »\n",
              "«q_0: ────────────────────────░──────────────────────────────░─»\n",
              "«                             ░                              ░ »\n",
              "«q_1: ────────────────────────░──────────────────────────────░─»\n",
              "«                             ░                              ░ »\n",
              "«q_2: ────────────────────────░──────────────────────────────░─»\n",
              "«                             ░                              ░ »\n",
              "«q_3: ────────────────────■───░──────────────────────────────░─»\n",
              "«     ┌────────────────┐┌─┴─┐ ░                              ░ »\n",
              "«q_4: ┤ Rz(2*$\\gamma$) ├┤ X ├─░───■──────────────────────■───░─»\n",
              "«     └────────────────┘└───┘ ░ ┌─┴─┐┌────────────────┐┌─┴─┐ ░ »\n",
              "«q_5: ────────────────────────░─┤ X ├┤ Rz(2*$\\gamma$) ├┤ X ├─░─»\n",
              "«                             ░ └───┘└────────────────┘└───┘ ░ »\n",
              "«     ┌────────────────┐\n",
              "«q_0: ┤ R(2*$\\beta$,0) ├\n",
              "«     ├────────────────┤\n",
              "«q_1: ┤ R(2*$\\beta$,0) ├\n",
              "«     ├────────────────┤\n",
              "«q_2: ┤ R(2*$\\beta$,0) ├\n",
              "«     ├────────────────┤\n",
              "«q_3: ┤ R(2*$\\beta$,0) ├\n",
              "«     ├────────────────┤\n",
              "«q_4: ┤ R(2*$\\beta$,0) ├\n",
              "«     ├────────────────┤\n",
              "«q_5: ┤ R(2*$\\beta$,0) ├\n",
              "«     └────────────────┘</pre>"
            ]
          },
          "metadata": {},
          "execution_count": 24
        }
      ]
    },
    {
      "cell_type": "markdown",
      "source": [
        "# Max Cut problem Using QAOA"
      ],
      "metadata": {
        "id": "Zq2iz1DthQcR"
      }
    },
    {
      "cell_type": "code",
      "source": [
        "def maxcut_obj(x, G):\n",
        "    \"\"\"\n",
        "    Given a bitstring as a solution, this function returns\n",
        "    the number of edges shared between the two partitions\n",
        "    of the graph.\n",
        "    \n",
        "    Args:\n",
        "        x: str\n",
        "           solution bitstring\n",
        "           \n",
        "        G: networkx graph\n",
        "        \n",
        "    Returns:\n",
        "        obj: float\n",
        "             Objective\n",
        "    \"\"\"\n",
        "    obj = 0\n",
        "    for i, j in G.edges():\n",
        "        if x[i] != x[j]:\n",
        "            obj -= 1\n",
        "            \n",
        "    return obj\n",
        "\n",
        "\n",
        "def compute_expectation(counts, G):\n",
        "    \n",
        "    \"\"\"\n",
        "    Computes expectation value based on measurement results\n",
        "    \n",
        "    Args:\n",
        "        counts: dict\n",
        "                key as bitstring, val as count\n",
        "           \n",
        "        G: networkx graph\n",
        "        \n",
        "    Returns:\n",
        "        avg: float\n",
        "             expectation value\n",
        "    \"\"\"\n",
        "    \n",
        "    avg = 0\n",
        "    sum_count = 0\n",
        "    for bitstring, count in counts.items():\n",
        "        \n",
        "        obj = maxcut_obj(bitstring[::-1], G)\n",
        "        avg += obj * count\n",
        "        sum_count += count\n",
        "        \n",
        "    return avg/sum_count\n",
        "\n",
        "\n",
        "# We will also bring the different circuit components that\n",
        "# build the qaoa circuit under a single function\n",
        "def create_qaoa_circ(G, theta):\n",
        "    \n",
        "    \"\"\"\n",
        "    Creates a parametrized qaoa circuit\n",
        "    \n",
        "    Args:  \n",
        "        G: networkx graph\n",
        "        theta: list\n",
        "               unitary parameters\n",
        "                     \n",
        "    Returns:\n",
        "        qc: qiskit circuit\n",
        "    \"\"\"\n",
        "    \n",
        "    nqubits = len(G.nodes())\n",
        "    p = len(theta)//2  # number of alternating unitaries\n",
        "    qc = QuantumCircuit(nqubits)\n",
        "    \n",
        "    beta = theta[:p]\n",
        "    gamma = theta[p:]\n",
        "    \n",
        "    # initial_state\n",
        "    for i in range(0, nqubits):\n",
        "        qc.h(i)\n",
        "    \n",
        "    for irep in range(0, p):\n",
        "        \n",
        "        # problem unitary\n",
        "        for pair in list(G.edges()):\n",
        "            qc.rzz(2 * gamma[irep], pair[0], pair[1])\n",
        "\n",
        "        # mixer unitary\n",
        "        for i in range(0, nqubits):\n",
        "            qc.rx(2 * beta[irep], i)\n",
        "            \n",
        "    qc.measure_all()\n",
        "        \n",
        "    return qc\n",
        "\n",
        "# Finally we write a function that executes the circuit on the chosen backend\n",
        "def get_expectation(G, shots=512):\n",
        "    \n",
        "    \"\"\"\n",
        "    Runs parametrized circuit\n",
        "    \n",
        "    Args:\n",
        "        G: networkx graph\n",
        "        p: int,\n",
        "           Number of repetitions of unitaries\n",
        "    \"\"\"\n",
        "    \n",
        "    backend = Aer.get_backend('qasm_simulator')\n",
        "    backend.shots = shots\n",
        "    \n",
        "    def execute_circ(theta):\n",
        "        \n",
        "        qc = create_qaoa_circ(G, theta)\n",
        "        counts = backend.run(qc, seed_simulator=10, \n",
        "                             nshots=512).result().get_counts()\n",
        "        \n",
        "        return compute_expectation(counts, G)\n",
        "    \n",
        "    return execute_circ"
      ],
      "metadata": {
        "id": "q_0i7FgeU3MY"
      },
      "execution_count": 25,
      "outputs": []
    },
    {
      "cell_type": "markdown",
      "source": [
        "# RESULTS"
      ],
      "metadata": {
        "id": "azUcAUBrgQFm"
      }
    },
    {
      "cell_type": "code",
      "source": [
        "from scipy.optimize import minimize\n",
        "\n",
        "\n",
        "expectation = get_expectation(G)\n",
        "print(expectation)\n",
        "res = minimize(expectation, \n",
        "                      [1.0, 1.0], \n",
        "                      method='COBYLA')\n",
        "print(res)"
      ],
      "metadata": {
        "colab": {
          "base_uri": "https://localhost:8080/"
        },
        "id": "IuoqzegbU6L1",
        "outputId": "67e6b8cf-58bb-4309-dc67-40c975bf6c76"
      },
      "execution_count": 26,
      "outputs": [
        {
          "output_type": "stream",
          "name": "stdout",
          "text": [
            "<function get_expectation.<locals>.execute_circ at 0x7fbc3d0b8af0>\n",
            " message: Optimization terminated successfully.\n",
            " success: True\n",
            "  status: 1\n",
            "     fun: -5.341796875\n",
            "       x: [ 2.787e+00  3.201e-01]\n",
            "    nfev: 34\n",
            "   maxcv: 0.0\n"
          ]
        }
      ]
    },
    {
      "cell_type": "code",
      "source": [
        "from qiskit.visualization import plot_histogram\n",
        "\n",
        "backend = Aer.get_backend('aer_simulator')\n",
        "backend.shots = 512\n",
        "\n",
        "qc_res = create_qaoa_circ(G, res.x)\n",
        "# print(qc_res)\n",
        "counts = backend.run(qc_res, seed_simulator=10).result().get_counts()\n",
        "# for i, j in keys(counts),values(counts):\n",
        "#   if(j>60):\n",
        "#     print(i,j)\n",
        "print(backend.run(qc_res, seed_simulator=10).result().get_counts())\n",
        "plot_histogram(counts)"
      ],
      "metadata": {
        "id": "6YfZ5rJIVCq5",
        "colab": {
          "base_uri": "https://localhost:8080/",
          "height": 544
        },
        "outputId": "9478bed9-c05d-479a-8515-b45607073229"
      },
      "execution_count": 27,
      "outputs": [
        {
          "output_type": "stream",
          "name": "stdout",
          "text": [
            "{'101011': 2, '110111': 1, '000100': 2, '110001': 6, '111010': 7, '010010': 4, '000101': 4, '011111': 7, '011010': 22, '101111': 9, '100001': 13, '000001': 6, '110010': 29, '000000': 2, '011001': 21, '001101': 31, '101000': 6, '100010': 23, '011110': 13, '111000': 2, '110101': 9, '101101': 9, '010110': 25, '111100': 13, '011100': 35, '010101': 68, '111011': 1, '010111': 5, '011101': 17, '101001': 43, '111101': 1, '001000': 2, '001100': 13, '001110': 3, '111110': 4, '010001': 30, '001001': 34, '110100': 19, '001010': 6, '101110': 30, '111111': 1, '010011': 110, '010000': 8, '100110': 25, '100101': 17, '101010': 64, '101100': 104, '001011': 11, '000011': 14, '100000': 6, '000010': 1, '110110': 41, '100011': 34, '110011': 11}\n"
          ]
        },
        {
          "output_type": "execute_result",
          "data": {
            "text/plain": [
              "<Figure size 700x500 with 1 Axes>"
            ],
            "image/png": "[encoded data removed]"
          },
          "metadata": {},
          "execution_count": 27
        }
      ]
    },
    {
      "cell_type": "markdown",
      "source": [
        "**PENNYLANE**"
      ],
      "metadata": {
        "id": "WQAz956KvnMr"
      }
    },
    {
      "cell_type": "code",
      "source": [
        "!pip install pennylane"
      ],
      "metadata": {
        "colab": {
          "base_uri": "https://localhost:8080/"
        },
        "id": "yJPWU2zWwL5x",
        "outputId": "c6b940fc-8ef2-4650-e234-bc159f710860"
      },
      "execution_count": 28,
      "outputs": [
        {
          "output_type": "stream",
          "name": "stdout",
          "text": [
            "Looking in indexes: https://pypi.org/simple, https://us-python.pkg.dev/colab-wheels/public/simple/\n",
            "Requirement already satisfied: pennylane in /usr/local/lib/python3.10/dist-packages (0.30.0)\n",
            "Requirement already satisfied: numpy<1.24 in /usr/local/lib/python3.10/dist-packages (from pennylane) (1.22.4)\n",
            "Requirement already satisfied: scipy in /usr/local/lib/python3.10/dist-packages (from pennylane) (1.10.1)\n",
            "Requirement already satisfied: networkx in /usr/local/lib/python3.10/dist-packages (from pennylane) (3.1)\n",
            "Requirement already satisfied: rustworkx in /usr/local/lib/python3.10/dist-packages (from pennylane) (0.12.1)\n",
            "Requirement already satisfied: autograd in /usr/local/lib/python3.10/dist-packages (from pennylane) (1.5)\n",
            "Requirement already satisfied: toml in /usr/local/lib/python3.10/dist-packages (from pennylane) (0.10.2)\n",
            "Requirement already satisfied: appdirs in /usr/local/lib/python3.10/dist-packages (from pennylane) (1.4.4)\n",
            "Requirement already satisfied: semantic-version>=2.7 in /usr/local/lib/python3.10/dist-packages (from pennylane) (2.10.0)\n",
            "Requirement already satisfied: autoray>=0.3.1 in /usr/local/lib/python3.10/dist-packages (from pennylane) (0.6.3)\n",
            "Requirement already satisfied: cachetools in /usr/local/lib/python3.10/dist-packages (from pennylane) (5.3.0)\n",
            "Requirement already satisfied: pennylane-lightning>=0.30 in /usr/local/lib/python3.10/dist-packages (from pennylane) (0.30.0)\n",
            "Requirement already satisfied: requests in /usr/local/lib/python3.10/dist-packages (from pennylane) (2.27.1)\n",
            "Requirement already satisfied: future>=0.15.2 in /usr/local/lib/python3.10/dist-packages (from autograd->pennylane) (0.18.3)\n",
            "Requirement already satisfied: urllib3<1.27,>=1.21.1 in /usr/local/lib/python3.10/dist-packages (from requests->pennylane) (1.26.15)\n",
            "Requirement already satisfied: certifi>=2017.4.17 in /usr/local/lib/python3.10/dist-packages (from requests->pennylane) (2022.12.7)\n",
            "Requirement already satisfied: charset-normalizer~=2.0.0 in /usr/local/lib/python3.10/dist-packages (from requests->pennylane) (2.0.12)\n",
            "Requirement already satisfied: idna<4,>=2.5 in /usr/local/lib/python3.10/dist-packages (from requests->pennylane) (3.4)\n"
          ]
        }
      ]
    },
    {
      "cell_type": "code",
      "source": [
        "import pennylane as qml\n",
        "from pennylane import numpy as np\n",
        "\n",
        "np.random.seed(42)\n"
      ],
      "metadata": {
        "id": "8pgwgX_jvr7D"
      },
      "execution_count": 29,
      "outputs": []
    },
    {
      "cell_type": "code",
      "source": [
        "n_wires = 4\n",
        "graph = [(0, 1), (0, 3), (1, 2), (2, 3)]\n",
        "\n",
        "# unitary operator U_B with parameter beta\n",
        "def U_B(beta):\n",
        "    for wire in range(n_wires):\n",
        "        qml.RX(2 * beta, wires=wire)\n",
        "\n",
        "\n",
        "# unitary operator U_C with parameter gamma\n",
        "def U_C(gamma):\n",
        "    for edge in graph:\n",
        "        wire1 = edge[0]\n",
        "        wire2 = edge[1]\n",
        "        qml.CNOT(wires=[wire1, wire2])\n",
        "        qml.RZ(gamma, wires=wire2)\n",
        "        qml.CNOT(wires=[wire1, wire2])"
      ],
      "metadata": {
        "id": "KCpxVLYUvvQ6"
      },
      "execution_count": 30,
      "outputs": []
    },
    {
      "cell_type": "code",
      "source": [
        "def bitstring_to_int(bit_string_sample):\n",
        "    bit_string = \"\".join(str(bs) for bs in bit_string_sample)\n",
        "    return int(bit_string, base=2)\n"
      ],
      "metadata": {
        "id": "I8EUJF7MwVU0"
      },
      "execution_count": 31,
      "outputs": []
    },
    {
      "cell_type": "code",
      "source": [
        "dev = qml.device(\"default.qubit\", wires=n_wires, shots=1)"
      ],
      "metadata": {
        "id": "dBXFJuCpwX32"
      },
      "execution_count": 32,
      "outputs": []
    },
    {
      "cell_type": "code",
      "source": [
        "@qml.qnode(dev)\n",
        "def circuit(gammas, betas, edge=None, n_layers=1):\n",
        "    # apply Hadamards to get the n qubit |+> state\n",
        "    for wire in range(n_wires):\n",
        "        qml.Hadamard(wires=wire)\n",
        "    # p instances of unitary operators\n",
        "    for i in range(n_layers):\n",
        "        U_C(gammas[i])\n",
        "        U_B(betas[i])\n",
        "    if edge is None:\n",
        "        # measurement phase\n",
        "        return qml.sample()\n",
        "    # during the optimization phase we are evaluating a term\n",
        "    # in the objective using expval\n",
        "    H = qml.PauliZ(edge[0]) @ qml.PauliZ(edge[1])\n",
        "    return qml.expval(H)\n"
      ],
      "metadata": {
        "id": "lJpVC9JPwa2u"
      },
      "execution_count": 33,
      "outputs": []
    },
    {
      "cell_type": "code",
      "source": [
        "def qaoa_maxcut(n_layers=1):\n",
        "    print(\"\\np={:d}\".format(n_layers))\n",
        "\n",
        "    # initialize the parameters near zero\n",
        "    init_params = 0.01 * np.random.rand(2, n_layers, requires_grad=True)\n",
        "\n",
        "    # minimize the negative of the objective function\n",
        "    def objective(params):\n",
        "        gammas = params[0]\n",
        "        betas = params[1]\n",
        "        neg_obj = 0\n",
        "        for edge in graph:\n",
        "            # objective for the MaxCut problem\n",
        "            neg_obj -= 0.5 * (1 - circuit(gammas, betas, edge=edge, n_layers=n_layers))\n",
        "        return neg_obj\n",
        "\n",
        "    # initialize optimizer: Adagrad works well empirically\n",
        "    opt = qml.AdagradOptimizer(stepsize=0.5)\n",
        "\n",
        "    # optimize parameters in objective\n",
        "    params = init_params\n",
        "    steps = 30\n",
        "    for i in range(steps):\n",
        "        params = opt.step(objective, params)\n",
        "        if (i + 1) % 5 == 0:\n",
        "            print(\"Objective after step {:5d}: {: .7f}\".format(i + 1, -objective(params)))\n",
        "\n",
        "    # sample measured bitstrings 100 times\n",
        "    bit_strings = []\n",
        "    n_samples = 100\n",
        "    for i in range(0, n_samples):\n",
        "        bit_strings.append(bitstring_to_int(circuit(params[0], params[1], edge=None, n_layers=n_layers)))\n",
        "\n",
        "    # print optimal parameters and most frequently sampled bitstring\n",
        "    counts = np.bincount(np.array(bit_strings))\n",
        "    most_freq_bit_string = np.argmax(counts)\n",
        "    print(\"Optimized (gamma, beta) vectors:\\n{}\".format(params[:, :n_layers]))\n",
        "    print(\"Most frequently sampled bit string is: {:04b}\".format(most_freq_bit_string))\n",
        "\n",
        "    return -objective(params), bit_strings\n",
        "\n",
        "\n",
        "# perform qaoa on our graph with p=1,2 and\n",
        "# keep the bitstring sample lists\n",
        "bitstrings1 = qaoa_maxcut(n_layers=1)[1]\n",
        "bitstrings2 = qaoa_maxcut(n_layers=2)[1]"
      ],
      "metadata": {
        "colab": {
          "base_uri": "https://localhost:8080/"
        },
        "id": "RmVIVmIewdum",
        "outputId": "81bf6ea9-3388-427d-f2b5-aea906a08dab"
      },
      "execution_count": 17,
      "outputs": [
        {
          "output_type": "stream",
          "name": "stdout",
          "text": [
            "\n",
            "p=1\n",
            "Objective after step     5:  4.0000000\n",
            "Objective after step    10:  3.0000000\n",
            "Objective after step    15:  4.0000000\n",
            "Objective after step    20:  3.0000000\n",
            "Objective after step    25:  3.0000000\n",
            "Objective after step    30:  3.0000000\n",
            "Optimized (gamma, beta) vectors:\n",
            "[[-0.63789432]\n",
            " [ 0.42900392]]\n",
            "Most frequently sampled bit string is: 1010\n",
            "\n",
            "p=2\n",
            "Objective after step     5:  2.0000000\n",
            "Objective after step    10:  4.0000000\n",
            "Objective after step    15:  3.0000000\n",
            "Objective after step    20:  4.0000000\n",
            "Objective after step    25:  4.0000000\n",
            "Objective after step    30:  4.0000000\n",
            "Optimized (gamma, beta) vectors:\n",
            "[[-1.63774005  0.95207792]\n",
            " [-0.36133511 -0.85343068]]\n",
            "Most frequently sampled bit string is: 0101\n"
          ]
        }
      ]
    }
  ]
}