{
  "nbformat": 4,
  "nbformat_minor": 0,
  "metadata": {
    "colab": {
      "provenance": []
    },
    "kernelspec": {
      "name": "python3",
      "display_name": "Python 3"
    },
    "language_info": {
      "name": "python"
    }
  },
  "cells": [
    {
      "cell_type": "markdown",
      "source": [
        "## Group 4\n",
        "\n",
        "Binal Patel(202003035)\n",
        "\n",
        "Vivek davara(202003009)\n",
        "\n",
        "Hardik Jani(202003041)\n",
        "\n"
      ],
      "metadata": {
        "id": "JgD6an7e18mD"
      }
    },
    {
      "cell_type": "code",
      "source": [
        "pip install qiskit"
      ],
      "metadata": {
        "colab": {
          "base_uri": "https://localhost:8080/"
        },
        "id": "7KCeQxPtn6zQ",
        "outputId": "f251574f-ba30-45c0-af05-8e3aa311ef3d"
      },
      "execution_count": null,
      "outputs": [
        {
          "output_type": "stream",
          "name": "stdout",
          "text": [
            "Looking in indexes: https://pypi.org/simple, https://us-python.pkg.dev/colab-wheels/public/simple/\n",
            "Collecting qiskit\n",
            "  Downloading qiskit-0.43.0.tar.gz (10.0 kB)\n",
            "  Installing build dependencies ... \u001b[?25l\u001b[?25hdone\n",
            "  Getting requirements to build wheel ... \u001b[?25l\u001b[?25hdone\n",
            "  Installing backend dependencies ... \u001b[?25l\u001b[?25hdone\n",
            "  Preparing metadata (pyproject.toml) ... \u001b[?25l\u001b[?25hdone\n",
            "Collecting qiskit-terra==0.24.0 (from qiskit)\n",
            "  Downloading qiskit_terra-0.24.0-cp310-cp310-manylinux_2_17_x86_64.manylinux2014_x86_64.whl (5.9 MB)\n",
            "\u001b[2K     \u001b[90m━━━━━━━━━━━━━━━━━━━━━━━━━━━━━━━━━━━━━━━━\u001b[0m \u001b[32m5.9/5.9 MB\u001b[0m \u001b[31m43.7 MB/s\u001b[0m eta \u001b[36m0:00:00\u001b[0m\n",
            "\u001b[?25hCollecting qiskit-aer==0.12.0 (from qiskit)\n",
            "  Downloading qiskit_aer-0.12.0-cp310-cp310-manylinux_2_17_x86_64.manylinux2014_x86_64.whl (12.8 MB)\n",
            "\u001b[2K     \u001b[90m━━━━━━━━━━━━━━━━━━━━━━━━━━━━━━━━━━━━━━━━\u001b[0m \u001b[32m12.8/12.8 MB\u001b[0m \u001b[31m52.9 MB/s\u001b[0m eta \u001b[36m0:00:00\u001b[0m\n",
            "\u001b[?25hCollecting qiskit-ibmq-provider==0.20.2 (from qiskit)\n",
            "  Downloading qiskit_ibmq_provider-0.20.2-py3-none-any.whl (241 kB)\n",
            "\u001b[2K     \u001b[90m━━━━━━━━━━━━━━━━━━━━━━━━━━━━━━━━━━━━━━\u001b[0m \u001b[32m241.5/241.5 kB\u001b[0m \u001b[31m21.9 MB/s\u001b[0m eta \u001b[36m0:00:00\u001b[0m\n",
            "\u001b[?25hRequirement already satisfied: numpy>=1.16.3 in /usr/local/lib/python3.10/dist-packages (from qiskit-aer==0.12.0->qiskit) (1.22.4)\n",
            "Requirement already satisfied: scipy>=1.0 in /usr/local/lib/python3.10/dist-packages (from qiskit-aer==0.12.0->qiskit) (1.10.1)\n",
            "Requirement already satisfied: requests>=2.19 in /usr/local/lib/python3.10/dist-packages (from qiskit-ibmq-provider==0.20.2->qiskit) (2.27.1)\n",
            "Collecting requests-ntlm<=1.1.0 (from qiskit-ibmq-provider==0.20.2->qiskit)\n",
            "  Downloading requests_ntlm-1.1.0-py2.py3-none-any.whl (5.7 kB)\n",
            "Requirement already satisfied: urllib3>=1.21.1 in /usr/local/lib/python3.10/dist-packages (from qiskit-ibmq-provider==0.20.2->qiskit) (1.26.15)\n",
            "Requirement already satisfied: python-dateutil>=2.8.0 in /usr/local/lib/python3.10/dist-packages (from qiskit-ibmq-provider==0.20.2->qiskit) (2.8.2)\n",
            "Requirement already satisfied: websocket-client>=1.5.1 in /usr/local/lib/python3.10/dist-packages (from qiskit-ibmq-provider==0.20.2->qiskit) (1.5.1)\n",
            "Collecting websockets>=10.0 (from qiskit-ibmq-provider==0.20.2->qiskit)\n",
            "  Downloading websockets-11.0.3-cp310-cp310-manylinux_2_5_x86_64.manylinux1_x86_64.manylinux_2_17_x86_64.manylinux2014_x86_64.whl (129 kB)\n",
            "\u001b[2K     \u001b[90m━━━━━━━━━━━━━━━━━━━━━━━━━━━━━━━━━━━━━━\u001b[0m \u001b[32m129.9/129.9 kB\u001b[0m \u001b[31m13.1 MB/s\u001b[0m eta \u001b[36m0:00:00\u001b[0m\n",
            "\u001b[?25hCollecting rustworkx>=0.12.0 (from qiskit-terra==0.24.0->qiskit)\n",
            "  Downloading rustworkx-0.12.1-cp310-cp310-manylinux_2_17_x86_64.manylinux2014_x86_64.whl (1.9 MB)\n",
            "\u001b[2K     \u001b[90m━━━━━━━━━━━━━━━━━━━━━━━━━━━━━━━━━━━━━━━━\u001b[0m \u001b[32m1.9/1.9 MB\u001b[0m \u001b[31m72.5 MB/s\u001b[0m eta \u001b[36m0:00:00\u001b[0m\n",
            "\u001b[?25hCollecting ply>=3.10 (from qiskit-terra==0.24.0->qiskit)\n",
            "  Downloading ply-3.11-py2.py3-none-any.whl (49 kB)\n",
            "\u001b[2K     \u001b[90m━━━━━━━━━━━━━━━━━━━━━━━━━━━━━━━━━━━━━━━━\u001b[0m \u001b[32m49.6/49.6 kB\u001b[0m \u001b[31m4.8 MB/s\u001b[0m eta \u001b[36m0:00:00\u001b[0m\n",
            "\u001b[?25hRequirement already satisfied: psutil>=5 in /usr/local/lib/python3.10/dist-packages (from qiskit-terra==0.24.0->qiskit) (5.9.5)\n",
            "Requirement already satisfied: sympy>=1.3 in /usr/local/lib/python3.10/dist-packages (from qiskit-terra==0.24.0->qiskit) (1.11.1)\n",
            "Collecting dill>=0.3 (from qiskit-terra==0.24.0->qiskit)\n",
            "  Downloading dill-0.3.6-py3-none-any.whl (110 kB)\n",
            "\u001b[2K     \u001b[90m━━━━━━━━━━━━━━━━━━━━━━━━━━━━━━━━━━━━━━\u001b[0m \u001b[32m110.5/110.5 kB\u001b[0m \u001b[31m12.1 MB/s\u001b[0m eta \u001b[36m0:00:00\u001b[0m\n",
            "\u001b[?25hCollecting stevedore>=3.0.0 (from qiskit-terra==0.24.0->qiskit)\n",
            "  Downloading stevedore-5.0.0-py3-none-any.whl (49 kB)\n",
            "\u001b[2K     \u001b[90m━━━━━━━━━━━━━━━━━━━━━━━━━━━━━━━━━━━━━━━━\u001b[0m \u001b[32m49.6/49.6 kB\u001b[0m \u001b[31m4.5 MB/s\u001b[0m eta \u001b[36m0:00:00\u001b[0m\n",
            "\u001b[?25hCollecting symengine<0.10,>=0.9 (from qiskit-terra==0.24.0->qiskit)\n",
            "  Downloading symengine-0.9.2-cp310-cp310-manylinux2010_x86_64.whl (37.5 MB)\n",
            "\u001b[2K     \u001b[90m━━━━━━━━━━━━━━━━━━━━━━━━━━━━━━━━━━━━━━━━\u001b[0m \u001b[32m37.5/37.5 MB\u001b[0m \u001b[31m16.2 MB/s\u001b[0m eta \u001b[36m0:00:00\u001b[0m\n",
            "\u001b[?25hRequirement already satisfied: six>=1.5 in /usr/local/lib/python3.10/dist-packages (from python-dateutil>=2.8.0->qiskit-ibmq-provider==0.20.2->qiskit) (1.16.0)\n",
            "Requirement already satisfied: certifi>=2017.4.17 in /usr/local/lib/python3.10/dist-packages (from requests>=2.19->qiskit-ibmq-provider==0.20.2->qiskit) (2022.12.7)\n",
            "Requirement already satisfied: charset-normalizer~=2.0.0 in /usr/local/lib/python3.10/dist-packages (from requests>=2.19->qiskit-ibmq-provider==0.20.2->qiskit) (2.0.12)\n",
            "Requirement already satisfied: idna<4,>=2.5 in /usr/local/lib/python3.10/dist-packages (from requests>=2.19->qiskit-ibmq-provider==0.20.2->qiskit) (3.4)\n",
            "Collecting ntlm-auth>=1.0.2 (from requests-ntlm<=1.1.0->qiskit-ibmq-provider==0.20.2->qiskit)\n",
            "  Downloading ntlm_auth-1.5.0-py2.py3-none-any.whl (29 kB)\n",
            "Requirement already satisfied: cryptography>=1.3 in /usr/local/lib/python3.10/dist-packages (from requests-ntlm<=1.1.0->qiskit-ibmq-provider==0.20.2->qiskit) (40.0.2)\n",
            "Collecting pbr!=2.1.0,>=2.0.0 (from stevedore>=3.0.0->qiskit-terra==0.24.0->qiskit)\n",
            "  Downloading pbr-5.11.1-py2.py3-none-any.whl (112 kB)\n",
            "\u001b[2K     \u001b[90m━━━━━━━━━━━━━━━━━━━━━━━━━━━━━━━━━━━━━━\u001b[0m \u001b[32m112.7/112.7 kB\u001b[0m \u001b[31m10.3 MB/s\u001b[0m eta \u001b[36m0:00:00\u001b[0m\n",
            "\u001b[?25hRequirement already satisfied: mpmath>=0.19 in /usr/local/lib/python3.10/dist-packages (from sympy>=1.3->qiskit-terra==0.24.0->qiskit) (1.3.0)\n",
            "Requirement already satisfied: cffi>=1.12 in /usr/local/lib/python3.10/dist-packages (from cryptography>=1.3->requests-ntlm<=1.1.0->qiskit-ibmq-provider==0.20.2->qiskit) (1.15.1)\n",
            "Requirement already satisfied: pycparser in /usr/local/lib/python3.10/dist-packages (from cffi>=1.12->cryptography>=1.3->requests-ntlm<=1.1.0->qiskit-ibmq-provider==0.20.2->qiskit) (2.21)\n",
            "Building wheels for collected packages: qiskit\n",
            "  Building wheel for qiskit (pyproject.toml) ... \u001b[?25l\u001b[?25hdone\n",
            "  Created wheel for qiskit: filename=qiskit-0.43.0-py3-none-any.whl size=7996 sha256=c5f12548f01ba790287d76aa6aead7edad2f0edb5db8d8a21f10e90a64444b05\n",
            "  Stored in directory: /root/.cache/pip/wheels/11/fe/bc/59531707126e693bad48c61c0b86f3870b49f8f7ad49c18209\n",
            "Successfully built qiskit\n",
            "Installing collected packages: ply, websockets, symengine, rustworkx, pbr, ntlm-auth, dill, stevedore, requests-ntlm, qiskit-terra, qiskit-ibmq-provider, qiskit-aer, qiskit\n",
            "Successfully installed dill-0.3.6 ntlm-auth-1.5.0 pbr-5.11.1 ply-3.11 qiskit-0.43.0 qiskit-aer-0.12.0 qiskit-ibmq-provider-0.20.2 qiskit-terra-0.24.0 requests-ntlm-1.1.0 rustworkx-0.12.1 stevedore-5.0.0 symengine-0.9.2 websockets-11.0.3\n"
          ]
        }
      ]
    },
    {
      "cell_type": "code",
      "execution_count": null,
      "metadata": {
        "id": "RukHbQ6khsvg"
      },
      "outputs": [],
      "source": [
        "from qiskit import QuantumCircuit, Aer, execute\n",
        "from qiskit.visualization import plot_histogram\n",
        "import numpy as np"
      ]
    },
    {
      "cell_type": "code",
      "source": [
        "from qiskit import QuantumCircuit, Aer, execute\n",
        "from qiskit.visualization import plot_histogram\n",
        "\n",
        "# Define the oracle function\n",
        "def oracle_function(input_string):\n",
        "    n = len(input_string)\n",
        "    \n",
        "    # Create a quantum circuit with n+1 qubits\n",
        "    circuit = QuantumCircuit(n+1)\n",
        "    \n",
        "    # Apply the oracle function using controlled gates\n",
        "    for i in range(n):\n",
        "        if input_string[i] == '1':\n",
        "            circuit.x(i)\n",
        "    \n",
        "    # Apply a controlled-X gate\n",
        "    circuit.cx(0, n)\n",
        "    \n",
        "    # Reverse the controlled gates\n",
        "    for i in range(n):\n",
        "        if input_string[i] == '1':\n",
        "            circuit.x(i)\n",
        "    \n",
        "    # Convert the circuit to a gate\n",
        "    oracle_gate = circuit.to_gate()\n",
        "    \n",
        "    return oracle_gate\n",
        "\n",
        "\n",
        "# Define the Hidden Subgroup Problem quantum algorithm\n",
        "def hsp_algorithm(oracle):\n",
        "    n = oracle.num_qubits - 1\n",
        "    \n",
        "    # Create a quantum circuit with n+1 qubits\n",
        "    circuit = QuantumCircuit(n+1, n)\n",
        "    \n",
        "    # Apply Hadamard gates to the input qubits\n",
        "    circuit.h(range(n))\n",
        "    \n",
        "    # Apply the oracle gate\n",
        "    circuit.append(oracle, range(n+1))\n",
        "    \n",
        "    # Apply Hadamard gates to the input qubits\n",
        "    circuit.h(range(n))\n",
        "    \n",
        "    # Measure the input qubits\n",
        "    circuit.measure(range(n), range(n))\n",
        "    \n",
        "    return circuit\n",
        "\n",
        "\n",
        "# Example usage\n",
        "input_string = '000'\n",
        "\n",
        "# Create the oracle gate\n",
        "oracle = oracle_function(input_string)\n",
        "\n",
        "# Create the Hidden Subgroup Problem circuit\n",
        "hsp_circuit = hsp_algorithm(oracle)\n",
        "\n",
        "# Run the circuit on a simulator\n",
        "backend = Aer.get_backend('qasm_simulator')\n",
        "job = execute(hsp_circuit, backend, shots=1000)\n",
        "result = job.result()\n",
        "counts = result.get_counts()\n",
        "\n",
        "# Print the measurement results\n",
        "print(\"Measurement results:\")\n",
        "print(counts)\n",
        "\n",
        "# Plot a histogram of the results\n",
        "plot_histogram(counts)"
      ],
      "metadata": {
        "colab": {
          "base_uri": "https://localhost:8080/",
          "height": 507
        },
        "id": "oOZyDDQx3Z0R",
        "outputId": "32c259b2-6b49-422c-e69e-4e12ce5e0f31"
      },
      "execution_count": null,
      "outputs": [
        {
          "output_type": "stream",
          "name": "stdout",
          "text": [
            "Measurement results:\n",
            "{'001': 506, '000': 494}\n"
          ]
        },
        {
          "output_type": "execute_result",
          "data": {
            "text/plain": [
              "<Figure size 700x500 with 1 Axes>"
            ],
            "image/png": "[encoded data removed]"
          },
          "metadata": {},
          "execution_count": 18
        }
      ]
    }
  ]
}