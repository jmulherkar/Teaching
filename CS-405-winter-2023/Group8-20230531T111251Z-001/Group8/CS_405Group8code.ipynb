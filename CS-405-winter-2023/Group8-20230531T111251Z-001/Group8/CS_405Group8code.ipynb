{
  "cells": [
    {
      "cell_type": "markdown",
      "source": [
        "# BB84"
      ],
      "metadata": {
        "id": "w8YpHbB0OsBI"
      }
    },
    {
      "cell_type": "markdown",
      "source": [
        "202003019 - Jay Patel \\\\\n",
        "202003038 - Priyanshu Parmar \\\\\n",
        "202003045 - Aditya Shah"
      ],
      "metadata": {
        "id": "dhCiASUXPI10"
      }
    },
    {
      "cell_type": "code",
      "execution_count": 1,
      "metadata": {
        "colab": {
          "base_uri": "https://localhost:8080/"
        },
        "id": "SZhrsJLwzAUH",
        "outputId": "6ecd6145-d10f-4966-bc6c-da82f7e6debc"
      },
      "outputs": [
        {
          "output_type": "stream",
          "name": "stdout",
          "text": [
            "Looking in indexes: https://pypi.org/simple, https://us-python.pkg.dev/colab-wheels/public/simple/\n",
            "Collecting qiskit\n",
            "  Downloading qiskit-0.43.0.tar.gz (10.0 kB)\n",
            "  Installing build dependencies ... \u001b[?25l\u001b[?25hdone\n",
            "  Getting requirements to build wheel ... \u001b[?25l\u001b[?25hdone\n",
            "  Installing backend dependencies ... \u001b[?25l\u001b[?25hdone\n",
            "  Preparing metadata (pyproject.toml) ... \u001b[?25l\u001b[?25hdone\n",
            "Collecting qiskit-terra==0.24.0 (from qiskit)\n",
            "  Downloading qiskit_terra-0.24.0-cp310-cp310-manylinux_2_17_x86_64.manylinux2014_x86_64.whl (5.9 MB)\n",
            "\u001b[2K     \u001b[90m━━━━━━━━━━━━━━━━━━━━━━━━━━━━━━━━━━━━━━━━\u001b[0m \u001b[32m5.9/5.9 MB\u001b[0m \u001b[31m55.1 MB/s\u001b[0m eta \u001b[36m0:00:00\u001b[0m\n",
            "\u001b[?25hCollecting qiskit-aer==0.12.0 (from qiskit)\n",
            "  Downloading qiskit_aer-0.12.0-cp310-cp310-manylinux_2_17_x86_64.manylinux2014_x86_64.whl (12.8 MB)\n",
            "\u001b[2K     \u001b[90m━━━━━━━━━━━━━━━━━━━━━━━━━━━━━━━━━━━━━━━\u001b[0m \u001b[32m12.8/12.8 MB\u001b[0m \u001b[31m128.4 MB/s\u001b[0m eta \u001b[36m0:00:00\u001b[0m\n",
            "\u001b[?25hCollecting qiskit-ibmq-provider==0.20.2 (from qiskit)\n",
            "  Downloading qiskit_ibmq_provider-0.20.2-py3-none-any.whl (241 kB)\n",
            "\u001b[2K     \u001b[90m━━━━━━━━━━━━━━━━━━━━━━━━━━━━━━━━━━━━━━\u001b[0m \u001b[32m241.5/241.5 kB\u001b[0m \u001b[31m29.5 MB/s\u001b[0m eta \u001b[36m0:00:00\u001b[0m\n",
            "\u001b[?25hRequirement already satisfied: numpy>=1.16.3 in /usr/local/lib/python3.10/dist-packages (from qiskit-aer==0.12.0->qiskit) (1.22.4)\n",
            "Requirement already satisfied: scipy>=1.0 in /usr/local/lib/python3.10/dist-packages (from qiskit-aer==0.12.0->qiskit) (1.10.1)\n",
            "Requirement already satisfied: requests>=2.19 in /usr/local/lib/python3.10/dist-packages (from qiskit-ibmq-provider==0.20.2->qiskit) (2.27.1)\n",
            "Collecting requests-ntlm<=1.1.0 (from qiskit-ibmq-provider==0.20.2->qiskit)\n",
            "  Downloading requests_ntlm-1.1.0-py2.py3-none-any.whl (5.7 kB)\n",
            "Requirement already satisfied: urllib3>=1.21.1 in /usr/local/lib/python3.10/dist-packages (from qiskit-ibmq-provider==0.20.2->qiskit) (1.26.15)\n",
            "Requirement already satisfied: python-dateutil>=2.8.0 in /usr/local/lib/python3.10/dist-packages (from qiskit-ibmq-provider==0.20.2->qiskit) (2.8.2)\n",
            "Requirement already satisfied: websocket-client>=1.5.1 in /usr/local/lib/python3.10/dist-packages (from qiskit-ibmq-provider==0.20.2->qiskit) (1.5.1)\n",
            "Collecting websockets>=10.0 (from qiskit-ibmq-provider==0.20.2->qiskit)\n",
            "  Downloading websockets-11.0.3-cp310-cp310-manylinux_2_5_x86_64.manylinux1_x86_64.manylinux_2_17_x86_64.manylinux2014_x86_64.whl (129 kB)\n",
            "\u001b[2K     \u001b[90m━━━━━━━━━━━━━━━━━━━━━━━━━━━━━━━━━━━━━━\u001b[0m \u001b[32m129.9/129.9 kB\u001b[0m \u001b[31m19.7 MB/s\u001b[0m eta \u001b[36m0:00:00\u001b[0m\n",
            "\u001b[?25hCollecting rustworkx>=0.12.0 (from qiskit-terra==0.24.0->qiskit)\n",
            "  Downloading rustworkx-0.12.1-cp310-cp310-manylinux_2_17_x86_64.manylinux2014_x86_64.whl (1.9 MB)\n",
            "\u001b[2K     \u001b[90m━━━━━━━━━━━━━━━━━━━━━━━━━━━━━━━━━━━━━━━━\u001b[0m \u001b[32m1.9/1.9 MB\u001b[0m \u001b[31m113.6 MB/s\u001b[0m eta \u001b[36m0:00:00\u001b[0m\n",
            "\u001b[?25hCollecting ply>=3.10 (from qiskit-terra==0.24.0->qiskit)\n",
            "  Downloading ply-3.11-py2.py3-none-any.whl (49 kB)\n",
            "\u001b[2K     \u001b[90m━━━━━━━━━━━━━━━━━━━━━━━━━━━━━━━━━━━━━━━━\u001b[0m \u001b[32m49.6/49.6 kB\u001b[0m \u001b[31m7.9 MB/s\u001b[0m eta \u001b[36m0:00:00\u001b[0m\n",
            "\u001b[?25hRequirement already satisfied: psutil>=5 in /usr/local/lib/python3.10/dist-packages (from qiskit-terra==0.24.0->qiskit) (5.9.5)\n",
            "Requirement already satisfied: sympy>=1.3 in /usr/local/lib/python3.10/dist-packages (from qiskit-terra==0.24.0->qiskit) (1.11.1)\n",
            "Collecting dill>=0.3 (from qiskit-terra==0.24.0->qiskit)\n",
            "  Downloading dill-0.3.6-py3-none-any.whl (110 kB)\n",
            "\u001b[2K     \u001b[90m━━━━━━━━━━━━━━━━━━━━━━━━━━━━━━━━━━━━━━\u001b[0m \u001b[32m110.5/110.5 kB\u001b[0m \u001b[31m18.0 MB/s\u001b[0m eta \u001b[36m0:00:00\u001b[0m\n",
            "\u001b[?25hCollecting stevedore>=3.0.0 (from qiskit-terra==0.24.0->qiskit)\n",
            "  Downloading stevedore-5.1.0-py3-none-any.whl (49 kB)\n",
            "\u001b[2K     \u001b[90m━━━━━━━━━━━━━━━━━━━━━━━━━━━━━━━━━━━━━━━━\u001b[0m \u001b[32m49.6/49.6 kB\u001b[0m \u001b[31m8.0 MB/s\u001b[0m eta \u001b[36m0:00:00\u001b[0m\n",
            "\u001b[?25hCollecting symengine<0.10,>=0.9 (from qiskit-terra==0.24.0->qiskit)\n",
            "  Downloading symengine-0.9.2-cp310-cp310-manylinux2010_x86_64.whl (37.5 MB)\n",
            "\u001b[2K     \u001b[90m━━━━━━━━━━━━━━━━━━━━━━━━━━━━━━━━━━━━━━━━\u001b[0m \u001b[32m37.5/37.5 MB\u001b[0m \u001b[31m19.1 MB/s\u001b[0m eta \u001b[36m0:00:00\u001b[0m\n",
            "\u001b[?25hRequirement already satisfied: six>=1.5 in /usr/local/lib/python3.10/dist-packages (from python-dateutil>=2.8.0->qiskit-ibmq-provider==0.20.2->qiskit) (1.16.0)\n",
            "Requirement already satisfied: certifi>=2017.4.17 in /usr/local/lib/python3.10/dist-packages (from requests>=2.19->qiskit-ibmq-provider==0.20.2->qiskit) (2022.12.7)\n",
            "Requirement already satisfied: charset-normalizer~=2.0.0 in /usr/local/lib/python3.10/dist-packages (from requests>=2.19->qiskit-ibmq-provider==0.20.2->qiskit) (2.0.12)\n",
            "Requirement already satisfied: idna<4,>=2.5 in /usr/local/lib/python3.10/dist-packages (from requests>=2.19->qiskit-ibmq-provider==0.20.2->qiskit) (3.4)\n",
            "Collecting ntlm-auth>=1.0.2 (from requests-ntlm<=1.1.0->qiskit-ibmq-provider==0.20.2->qiskit)\n",
            "  Downloading ntlm_auth-1.5.0-py2.py3-none-any.whl (29 kB)\n",
            "Requirement already satisfied: cryptography>=1.3 in /usr/local/lib/python3.10/dist-packages (from requests-ntlm<=1.1.0->qiskit-ibmq-provider==0.20.2->qiskit) (40.0.2)\n",
            "Collecting pbr!=2.1.0,>=2.0.0 (from stevedore>=3.0.0->qiskit-terra==0.24.0->qiskit)\n",
            "  Downloading pbr-5.11.1-py2.py3-none-any.whl (112 kB)\n",
            "\u001b[2K     \u001b[90m━━━━━━━━━━━━━━━━━━━━━━━━━━━━━━━━━━━━━━\u001b[0m \u001b[32m112.7/112.7 kB\u001b[0m \u001b[31m15.9 MB/s\u001b[0m eta \u001b[36m0:00:00\u001b[0m\n",
            "\u001b[?25hRequirement already satisfied: mpmath>=0.19 in /usr/local/lib/python3.10/dist-packages (from sympy>=1.3->qiskit-terra==0.24.0->qiskit) (1.3.0)\n",
            "Requirement already satisfied: cffi>=1.12 in /usr/local/lib/python3.10/dist-packages (from cryptography>=1.3->requests-ntlm<=1.1.0->qiskit-ibmq-provider==0.20.2->qiskit) (1.15.1)\n",
            "Requirement already satisfied: pycparser in /usr/local/lib/python3.10/dist-packages (from cffi>=1.12->cryptography>=1.3->requests-ntlm<=1.1.0->qiskit-ibmq-provider==0.20.2->qiskit) (2.21)\n",
            "Building wheels for collected packages: qiskit\n",
            "  Building wheel for qiskit (pyproject.toml) ... \u001b[?25l\u001b[?25hdone\n",
            "  Created wheel for qiskit: filename=qiskit-0.43.0-py3-none-any.whl size=7996 sha256=66fe0de31daad4a6881ebbbc5aab74318b24495cfc56c9f12d2477326c2a6875\n",
            "  Stored in directory: /root/.cache/pip/wheels/11/fe/bc/59531707126e693bad48c61c0b86f3870b49f8f7ad49c18209\n",
            "Successfully built qiskit\n",
            "Installing collected packages: ply, websockets, symengine, rustworkx, pbr, ntlm-auth, dill, stevedore, requests-ntlm, qiskit-terra, qiskit-ibmq-provider, qiskit-aer, qiskit\n",
            "Successfully installed dill-0.3.6 ntlm-auth-1.5.0 pbr-5.11.1 ply-3.11 qiskit-0.43.0 qiskit-aer-0.12.0 qiskit-ibmq-provider-0.20.2 qiskit-terra-0.24.0 requests-ntlm-1.1.0 rustworkx-0.12.1 stevedore-5.1.0 symengine-0.9.2 websockets-11.0.3\n"
          ]
        }
      ],
      "source": [
        "!pip install qiskit"
      ]
    },
    {
      "cell_type": "code",
      "execution_count": 2,
      "metadata": {
        "id": "NxjpfiiW12Ii"
      },
      "outputs": [],
      "source": [
        "from qiskit import QuantumCircuit, execute, Aer\n",
        "from qiskit.visualization import plot_histogram, plot_bloch_multivector\n",
        "from numpy.random import randint\n",
        "import numpy as np\n",
        "from qiskit.providers.aer import QasmSimulator\n",
        "from qiskit import QuantumCircuit\n",
        "from qiskit.visualization import circuit_drawer\n",
        "\n",
        "from qiskit import QuantumCircuit, execute, Aer\n",
        "from qiskit.providers.aer import QasmSimulator\n",
        "import numpy as np"
      ]
    },
    {
      "cell_type": "code",
      "execution_count": 3,
      "metadata": {
        "id": "-kGG83325UbP"
      },
      "outputs": [],
      "source": [
        "def bb84_circuit(state, basis, measurement_basis):\n",
        "   \n",
        "    #state: array of 0s and 1s denoting the state to be encoded\n",
        "    #basis: array of 0s and 1s denoting the basis to be used for encoding\n",
        "                #0 -> Computational Basis\n",
        "                #1 -> Hadamard Basis\n",
        "    #meas_basis: array of 0s and 1s denoting the basis to be used for measurement\n",
        "                #0 -> Computational Basis\n",
        "                #1 -> Hadamard Basis\n",
        "\n",
        "    num_qubits = len(state)\n",
        "    \n",
        "    circuit = QuantumCircuit(num_qubits)\n",
        "\n",
        "    # Sender prepares qubits\n",
        "    for i in range(len(basis)):\n",
        "        if state[i] == 1:\n",
        "            circuit.x(i)\n",
        "        if basis[i] == 1:\n",
        "            circuit.h(i)\n",
        "   \n",
        "\n",
        "    # Measuring action performed by Bob\n",
        "    for i in range(len(measurement_basis)):\n",
        "        if measurement_basis[i] == 1:\n",
        "            circuit.h(i)\n",
        "\n",
        "       \n",
        "    circuit.measure_all()\n",
        "    # circuit.draw('mpl')\n",
        "    # circuit_drawer(circuit, output='mpl')\n",
        "    \n",
        "    return circuit"
      ]
    },
    {
      "cell_type": "code",
      "execution_count": 4,
      "metadata": {
        "colab": {
          "base_uri": "https://localhost:8080/"
        },
        "id": "ry8ldpZM5QcC",
        "outputId": "620347e9-8133-4f3c-cf4e-94471b6567f7"
      },
      "outputs": [
        {
          "output_type": "stream",
          "name": "stdout",
          "text": [
            "Alice's State:\t [1 1 0 0 1 0 0 1 0 0 0 0 1 1 1 0 1 1 1 1 0 1 1 1 1 0 1 1 1 1 1 1]\n",
            "Alice's Bases:\t [1 1 0 0 0 1 0 1 1 1 0 0 1 0 1 0 0 0 0 1 0 0 0 0 0 0 1 0 0 0 0 1]\n",
            "Bob's Bases:\t [0 0 1 0 1 1 1 1 1 1 0 0 1 0 1 1 1 1 1 0 1 0 1 1 1 1 0 0 0 1 1 1]\n"
          ]
        }
      ],
      "source": [
        "num_qubits = 32\n",
        "\n",
        "alice_basis = np.random.randint(2, size=num_qubits)\n",
        "alice_state = np.random.randint(2, size=num_qubits)\n",
        "bob_basis = np.random.randint(2, size=num_qubits)\n",
        "\n",
        "\n",
        "print(f\"Alice's State:\\t {np.array2string(alice_state)}\")\n",
        "print(f\"Alice's Bases:\\t {np.array2string(alice_basis)}\")\n",
        "print(f\"Bob's Bases:\\t {np.array2string(bob_basis)}\")"
      ]
    },
    {
      "cell_type": "code",
      "execution_count": 5,
      "metadata": {
        "colab": {
          "base_uri": "https://localhost:8080/"
        },
        "id": "aTw8UpEk5VO3",
        "outputId": "ec05b5c5-8f12-4ed5-dc0d-e7d1d7b5310d"
      },
      "outputs": [
        {
          "output_type": "stream",
          "name": "stdout",
          "text": [
            "Key: 00100001111111 \n",
            "Key Size: 14\n"
          ]
        }
      ],
      "source": [
        "circuit = bb84_circuit(alice_state, alice_basis, bob_basis)\n",
        "key = execute(circuit.reverse_bits(),backend=QasmSimulator(),shots=1).result().get_counts().most_frequent()\n",
        "\n",
        "shifted_key = ''\n",
        "for i in range(num_qubits):\n",
        "    if alice_basis[i] == bob_basis[i]:\n",
        "         shifted_key += str(key[i])\n",
        "print(f\"Key: {shifted_key} \\nKey Size: {len(shifted_key)}\")"
      ]
    },
    {
      "cell_type": "code",
      "execution_count": 6,
      "metadata": {
        "id": "7u86SaTT06JW"
      },
      "outputs": [],
      "source": [
        "\n",
        "\n",
        "# num_qubits = 32\n",
        "\n",
        "# alice_basis = np.random.randint(2, size=num_qubits)\n",
        "# alice_state = np.random.randint(2, size=num_qubits)\n",
        "# bob_basis = np.random.randint(2, size=num_qubits)\n",
        "\n",
        "# print(f\"Alice's State:\\t {np.array2string(alice_state)}\")\n",
        "# print(f\"Alice's Bases:\\t {np.array2string(alice_basis)}\")\n",
        "# print(f\"Bob's Bases:\\t {np.array2string(bob_basis)}\")\n",
        "\n",
        "def bb84_circuit_eve(state, basis, measurement_basis, eve_present):\n",
        "    num_qubits = len(state)\n",
        "    circuit = QuantumCircuit(num_qubits, num_qubits)\n",
        "\n",
        "    # Sender prepares qubits\n",
        "    for i in range(num_qubits):\n",
        "        if state[i] == 1:\n",
        "            circuit.x(i)\n",
        "        if basis[i] == 1:\n",
        "            circuit.h(i)\n",
        "\n",
        "    # Eavesdropper (Eve) intercepts and measures qubits\n",
        "    if eve_present:\n",
        "        eve_basis = np.random.randint(2, size=num_qubits)\n",
        "        for i in range(num_qubits):\n",
        "            if eve_basis[i] == 1:\n",
        "                circuit.h(i)\n",
        "            circuit.measure(i, i)\n",
        "        # return circuit\n",
        "\n",
        "    # Measuring action performed by Bob\n",
        "    for i in range(num_qubits):\n",
        "        if measurement_basis[i] == 1:\n",
        "            circuit.h(i)\n",
        "    \n",
        "    circuit.measure(range(num_qubits), range(num_qubits))\n",
        "    \n",
        "    return circuit"
      ]
    },
    {
      "cell_type": "code",
      "execution_count": 7,
      "metadata": {
        "colab": {
          "base_uri": "https://localhost:8080/"
        },
        "id": "Fd5a_K9SrdRC",
        "outputId": "db42929d-e832-4c76-9cc4-f1341dd5a06f"
      },
      "outputs": [
        {
          "output_type": "stream",
          "name": "stdout",
          "text": [
            "Alice's State:\t [0 0 0 0 1 0 0 0 1 0 0 0 1 1 0 1 1 1 1 1 0 1 1 1 1 0 1 1 1 1 1 0]\n",
            "Alice's Bases:\t [0 1 1 0 1 1 0 1 0 1 0 0 1 1 0 1 1 1 1 0 1 0 0 1 1 0 0 1 0 0 0 1]\n",
            "Bob's Bases:\t [0 1 1 0 0 0 1 0 0 0 0 0 0 0 0 0 0 0 0 0 1 0 0 1 1 0 0 0 0 1 1 0]\n"
          ]
        }
      ],
      "source": [
        "num_qubits = 32\n",
        "\n",
        "alice_basis = np.random.randint(2, size=num_qubits)\n",
        "alice_state = np.random.randint(2, size=num_qubits)\n",
        "bob_basis = np.random.randint(2, size=num_qubits)\n",
        "\n",
        "\n",
        "print(f\"Alice's State:\\t {np.array2string(alice_state)}\")\n",
        "print(f\"Alice's Bases:\\t {np.array2string(alice_basis)}\")\n",
        "print(f\"Bob's Bases:\\t {np.array2string(bob_basis)}\")"
      ]
    },
    {
      "cell_type": "code",
      "execution_count": 8,
      "metadata": {
        "colab": {
          "base_uri": "https://localhost:8080/"
        },
        "id": "8VIOBGZ_rfDH",
        "outputId": "b3b45630-7b48-4592-eb76-6793f94d0e09"
      },
      "outputs": [
        {
          "output_type": "stream",
          "name": "stdout",
          "text": [
            "Key: 00101001001101011 \n",
            "Bob's Key: 00001000101111011\n",
            "Key Size: 17\n",
            "Difference between the shifted key and bob's key 13\n"
          ]
        }
      ],
      "source": [
        "circuit = bb84_circuit_eve(alice_state, alice_basis, bob_basis, 1)\n",
        "key = execute(circuit.reverse_bits(),backend=QasmSimulator(),shots=1).result().get_counts().most_frequent()\n",
        "\n",
        "shifted_key = ''\n",
        "bob_key = ''\n",
        "count = 0\n",
        "for i in range(num_qubits):\n",
        "    if alice_basis[i] == bob_basis[i]:\n",
        "         shifted_key += str(key[i])\n",
        "         bob_key += str(alice_state[i])\n",
        "         if(str(key[i]) != str(alice_state[i])):\n",
        "            count += 1\n",
        "\n",
        "print(f\"Key: {shifted_key} \\nBob's Key: {bob_key}\")\n",
        "print(f\"Key Size: {len(shifted_key)}\")\n",
        "\n",
        "# count = 0\n",
        "# for i in range(len(shifted_key)):\n",
        "#     if shifted_key[i] != bob_key[i]:\n",
        "#         count += 1\n",
        "print(f\"Difference between the shifted key and bob's key\", len(shifted_key) - count)"
      ]
    },
    {
      "cell_type": "code",
      "source": [],
      "metadata": {
        "id": "fcBbsSTTPRuU"
      },
      "execution_count": 8,
      "outputs": []
    }
  ],
  "metadata": {
    "colab": {
      "provenance": []
    },
    "kernelspec": {
      "display_name": "Python 3",
      "name": "python3"
    },
    "language_info": {
      "name": "python"
    }
  },
  "nbformat": 4,
  "nbformat_minor": 0
}