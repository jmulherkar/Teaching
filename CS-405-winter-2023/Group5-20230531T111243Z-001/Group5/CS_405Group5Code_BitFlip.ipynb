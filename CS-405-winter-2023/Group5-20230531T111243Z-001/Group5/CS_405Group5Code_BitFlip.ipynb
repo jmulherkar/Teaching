{
 "cells": [
  {
   "attachments": {},
   "cell_type": "markdown",
   "metadata": {},
   "source": [
    "Name : Chhagani Krunal ,ID : 202001158\n",
    "Name : Ninama Vipul , ID : 202001218\n",
    "Name : Harsh metkel , ID : 202001154"
   ]
  },
  {
   "cell_type": "code",
   "execution_count": 249,
   "metadata": {
    "colab": {
     "base_uri": "https://localhost:8080/",
     "height": 618
    },
    "id": "uhga0h2NiaE7",
    "outputId": "0c883776-4b37-452d-fec5-f8c374147fc3",
    "tags": []
   },
   "outputs": [],
   "source": [
    "\n",
    "import random\n",
    "from qiskit import QuantumCircuit, Aer, execute,assemble,QuantumRegister, ClassicalRegister\n",
    "from qiskit.visualization import plot_histogram, plot_bloch_multivector,plot_bloch_vector\n",
    "from numpy.random import randint\n",
    "import numpy as np\n",
    "import qiskit.quantum_info as qi\n",
    "from qiskit.quantum_info import random_statevector, Statevector\n",
    "from qiskit import QuantumCircuit, execute\n",
    "from qiskit.providers.aer import QasmSimulator"
   ]
  },
  {
   "cell_type": "code",
   "execution_count": 250,
   "metadata": {
    "colab": {
     "base_uri": "https://localhost:8080/",
     "height": 618
    },
    "id": "uhga0h2NiaE7",
    "outputId": "0c883776-4b37-452d-fec5-f8c374147fc3",
    "tags": []
   },
   "outputs": [],
   "source": [
    "# function for applying error to all qubits\n",
    "def apply_error(qc, qubits, p):\n",
    "    for qubit in qubits:\n",
    "        if random.random() < p:\n",
    "            qc.x(qubit)"
   ]
  },
  {
   "cell_type": "code",
   "execution_count": 251,
   "metadata": {
    "colab": {
     "base_uri": "https://localhost:8080/",
     "height": 618
    },
    "id": "uhga0h2NiaE7",
    "outputId": "0c883776-4b37-452d-fec5-f8c374147fc3",
    "tags": []
   },
   "outputs": [],
   "source": [
    "def bit_flip_circuit():\n",
    "    # Define the number of qubits\n",
    "    num_qubits = 1\n",
    "\n",
    "    # Generate a random statevector\n",
    "\n",
    "    random_state = random_statevector(2 ** num_qubits)\n",
    "    # ket 0 state\n",
    "\n",
    "    zero = Statevector([1,0])\n",
    "\n",
    "    # Create the circuit\n",
    "    qr= QuantumRegister(5)\n",
    "    cr= ClassicalRegister(2)\n",
    "    qc = QuantumCircuit(qr,cr)  # 5 qubits and 2 classical bits\n",
    "    qc.initialize(random_state.data,qr[0])\n",
    "    qc.save_statevector(label='v1')\n",
    "    # initial = random_state ^ zero ^ zero ^ zero ^ zero  # inital vector is tensor product of 5 qubits\n",
    "\n",
    "    # Encoding\n",
    "    qc.cx(0, 1)  # CNOT gate (controlled-X gate) between qubit 0 (main qubit) and qubit 1 (ancillary qubit)\n",
    "    qc.cx(0, 2)  # CNOT gate between qubit 0 and qubit 2\n",
    "    qc.save_statevector(label='v2')\n",
    "    qc.barrier()\n",
    "\n",
    "    # Apply error\n",
    "    error_probability = 0.5  # Set the error probability to 0.1\n",
    "    qubits_to_apply_error = [0, 1, 2]  # Apply error to all three qubits\n",
    "    apply_error(qc, qubits_to_apply_error, error_probability)  # Introduce errors to the qubits\n",
    "    qc.save_statevector(label='v3')\n",
    "    qc.barrier()\n",
    "\n",
    "    # Error Detection\n",
    "    qc.cx(0, 3)  # CNOT gate between qubit 0 (ancillary qubit) and qubit 3 (error detection qubit)\n",
    "    qc.cx(1, 3)  # CNOT gate between qubit 1 and qubit 3 (error detection qubit)\n",
    "    qc.cx(0,4)   # CNOT gate between qubit 0 and qubit 4 (error detection qubit)\n",
    "    qc.cx(2,4)   # CNOT gate between qubit 1 and qubit 4 (error detection qubit)\n",
    "    qc.save_statevector(label='v4')\n",
    "    qc.measure([3,4],[0,1])  # Measure error detection qubits 3 and 4 and store the result in classical bits 0 and 1\n",
    "\n",
    "    qc.barrier()\n",
    "    # Apply error correction based on measurement result\n",
    "    # if measurement gives 00 then simply ignore\n",
    "    qc.x(1).c_if(cr,1)  # Apply an X gate to qubit 1 if the measurement result is 1  01 \n",
    "    qc.x(2).c_if(cr,2) # Apply an X gate to qubit 2 if the measurement result is 2  10\n",
    "    qc.x(0).c_if(cr,3)  # Apply an X gate to qubit 0 if the measurement result is 3 11\n",
    "    qc.save_statevector(label='v5')\n",
    "    qc.barrier()\n",
    "    # Decoding\n",
    "    qc.cx(0, 1)  # CNOT gate between qubit 0 and qubit 1\n",
    "    qc.cx(0,2) # CNOT gate between qubit 0 and qubit 2\n",
    "\n",
    "    qc.save_statevector(label='v6')\n",
    "    qc.barrier()\n",
    "    return qc"
   ]
  },
  {
   "cell_type": "code",
   "execution_count": 252,
   "metadata": {
    "colab": {
     "base_uri": "https://localhost:8080/"
    },
    "id": "QdlSzFc1lkkE",
    "outputId": "52826991-90a0-48e0-884f-c16c47c049df",
    "tags": []
   },
   "outputs": [
    {
     "data": {
      "text/html": [
       "<pre style=\"word-wrap: normal;white-space: pre;background: #fff0;line-height: 1.1;font-family: &quot;Courier New&quot;,Courier,monospace\">         ┌────────────────────────────────────────────────┐ v1            v2 »\n",
       "q7891_0: ┤ Initialize(-0.37322+0.71016j,-0.1197-0.58486j) ├─░────■────■───░──»\n",
       "         └────────────────────────────────────────────────┘ ░  ┌─┴─┐  │   ░  »\n",
       "q7891_1: ───────────────────────────────────────────────────░──┤ X ├──┼───░──»\n",
       "                                                            ░  └───┘┌─┴─┐ ░  »\n",
       "q7891_2: ───────────────────────────────────────────────────░───────┤ X ├─░──»\n",
       "                                                            ░       └───┘ ░  »\n",
       "q7891_3: ───────────────────────────────────────────────────░─────────────░──»\n",
       "                                                            ░             ░  »\n",
       "q7891_4: ───────────────────────────────────────────────────░─────────────░──»\n",
       "                                                            ░             ░  »\n",
       "c1159: 2/════════════════════════════════════════════════════════════════════»\n",
       "                                                                             »\n",
       "«          ░ ┌───┐ v3  ░                      v4        ░                ┌───┐ »\n",
       "«q7891_0: ─░─┤ X ├─░───░───■─────────■────────░─────────░────────────────┤ X ├─»\n",
       "«          ░ ├───┤ ░   ░   │         │        ░         ░  ┌───┐         └─╥─┘ »\n",
       "«q7891_1: ─░─┤ X ├─░───░───┼────■────┼────────░─────────░──┤ X ├───────────╫───»\n",
       "«          ░ └───┘ ░   ░   │    │    │        ░         ░  └─╥─┘  ┌───┐    ║   »\n",
       "«q7891_2: ─░───────░───░───┼────┼────┼────■───░─────────░────╫────┤ X ├────╫───»\n",
       "«          ░       ░   ░ ┌─┴─┐┌─┴─┐  │    │   ░  ┌─┐    ░    ║    └─╥─┘    ║   »\n",
       "«q7891_3: ─░───────░───░─┤ X ├┤ X ├──┼────┼───░──┤M├────░────╫──────╫──────╫───»\n",
       "«          ░       ░   ░ └───┘└───┘┌─┴─┐┌─┴─┐ ░  └╥┘┌─┐ ░    ║      ║      ║   »\n",
       "«q7891_4: ─░───────░───░───────────┤ X ├┤ X ├─░───╫─┤M├─░────╫──────╫──────╫───»\n",
       "«          ░       ░   ░           └───┘└───┘ ░   ║ └╥┘ ░ ┌──╨──┐┌──╨──┐┌──╨──┐»\n",
       "«c1159: 2/════════════════════════════════════════╩══╩════╡ 0x1 ╞╡ 0x2 ╞╡ 0x3 ╞»\n",
       "«                                                 0  1    └─────┘└─────┘└─────┘»\n",
       "«          v5  ░            v6  ░ \n",
       "«q7891_0: ─░───░───■────■───░───░─\n",
       "«          ░   ░ ┌─┴─┐  │   ░   ░ \n",
       "«q7891_1: ─░───░─┤ X ├──┼───░───░─\n",
       "«          ░   ░ └───┘┌─┴─┐ ░   ░ \n",
       "«q7891_2: ─░───░──────┤ X ├─░───░─\n",
       "«          ░   ░      └───┘ ░   ░ \n",
       "«q7891_3: ─░───░────────────░───░─\n",
       "«          ░   ░            ░   ░ \n",
       "«q7891_4: ─░───░────────────░───░─\n",
       "«          ░   ░            ░   ░ \n",
       "«c1159: 2/════════════════════════\n",
       "«                                 </pre>"
      ],
      "text/plain": [
       "         ┌────────────────────────────────────────────────┐ v1            v2 »\n",
       "q7891_0: ┤ Initialize(-0.37322+0.71016j,-0.1197-0.58486j) ├─░────■────■───░──»\n",
       "         └────────────────────────────────────────────────┘ ░  ┌─┴─┐  │   ░  »\n",
       "q7891_1: ───────────────────────────────────────────────────░──┤ X ├──┼───░──»\n",
       "                                                            ░  └───┘┌─┴─┐ ░  »\n",
       "q7891_2: ───────────────────────────────────────────────────░───────┤ X ├─░──»\n",
       "                                                            ░       └───┘ ░  »\n",
       "q7891_3: ───────────────────────────────────────────────────░─────────────░──»\n",
       "                                                            ░             ░  »\n",
       "q7891_4: ───────────────────────────────────────────────────░─────────────░──»\n",
       "                                                            ░             ░  »\n",
       "c1159: 2/════════════════════════════════════════════════════════════════════»\n",
       "                                                                             »\n",
       "«          ░ ┌───┐ v3  ░                      v4        ░                ┌───┐ »\n",
       "«q7891_0: ─░─┤ X ├─░───░───■─────────■────────░─────────░────────────────┤ X ├─»\n",
       "«          ░ ├───┤ ░   ░   │         │        ░         ░  ┌───┐         └─╥─┘ »\n",
       "«q7891_1: ─░─┤ X ├─░───░───┼────■────┼────────░─────────░──┤ X ├───────────╫───»\n",
       "«          ░ └───┘ ░   ░   │    │    │        ░         ░  └─╥─┘  ┌───┐    ║   »\n",
       "«q7891_2: ─░───────░───░───┼────┼────┼────■───░─────────░────╫────┤ X ├────╫───»\n",
       "«          ░       ░   ░ ┌─┴─┐┌─┴─┐  │    │   ░  ┌─┐    ░    ║    └─╥─┘    ║   »\n",
       "«q7891_3: ─░───────░───░─┤ X ├┤ X ├──┼────┼───░──┤M├────░────╫──────╫──────╫───»\n",
       "«          ░       ░   ░ └───┘└───┘┌─┴─┐┌─┴─┐ ░  └╥┘┌─┐ ░    ║      ║      ║   »\n",
       "«q7891_4: ─░───────░───░───────────┤ X ├┤ X ├─░───╫─┤M├─░────╫──────╫──────╫───»\n",
       "«          ░       ░   ░           └───┘└───┘ ░   ║ └╥┘ ░ ┌──╨──┐┌──╨──┐┌──╨──┐»\n",
       "«c1159: 2/════════════════════════════════════════╩══╩════╡ 0x1 ╞╡ 0x2 ╞╡ 0x3 ╞»\n",
       "«                                                 0  1    └─────┘└─────┘└─────┘»\n",
       "«          v5  ░            v6  ░ \n",
       "«q7891_0: ─░───░───■────■───░───░─\n",
       "«          ░   ░ ┌─┴─┐  │   ░   ░ \n",
       "«q7891_1: ─░───░─┤ X ├──┼───░───░─\n",
       "«          ░   ░ └───┘┌─┴─┐ ░   ░ \n",
       "«q7891_2: ─░───░──────┤ X ├─░───░─\n",
       "«          ░   ░      └───┘ ░   ░ \n",
       "«q7891_3: ─░───░────────────░───░─\n",
       "«          ░   ░            ░   ░ \n",
       "«q7891_4: ─░───░────────────░───░─\n",
       "«          ░   ░            ░   ░ \n",
       "«c1159: 2/════════════════════════\n",
       "«                                 "
      ]
     },
     "execution_count": 252,
     "metadata": {},
     "output_type": "execute_result"
    }
   ],
   "source": [
    "# Simulate the circuit\n",
    "qc = bit_flip_circuit()\n",
    "qc.draw()"
   ]
  },
  {
   "cell_type": "code",
   "execution_count": 245,
   "metadata": {
    "colab": {
     "base_uri": "https://localhost:8080/"
    },
    "id": "QdlSzFc1lkkE",
    "outputId": "52826991-90a0-48e0-884f-c16c47c049df",
    "tags": []
   },
   "outputs": [
    {
     "name": "stdout",
     "output_type": "stream",
     "text": [
      "{'00': 1}\n"
     ]
    }
   ],
   "source": [
    "simulator = Aer.get_backend('qasm_simulator')\n",
    "job = execute(qc, simulator, shots=1)\n",
    "result = job.result()\n",
    "counts = result.get_counts(qc)\n",
    "print(counts)\n",
    "sv1 = result.data(0)['v1']\n",
    "sv2 = result.data(0)['v2']\n",
    "sv3 = result.data(0)['v3']\n",
    "sv4 = result.data(0)['v4']\n",
    "sv5 = result.data(0)['v5']\n",
    "sv6 = result.data(0)['v6']"
   ]
  },
  {
   "cell_type": "code",
   "execution_count": 246,
   "metadata": {
    "colab": {
     "base_uri": "https://localhost:8080/",
     "height": 39
    },
    "id": "1iIhQqkNRgui",
    "outputId": "adb11d7e-18cb-4e04-ec7d-8a812986ec1c",
    "tags": []
   },
   "outputs": [
    {
     "data": {
      "text/latex": [
       "$$afterInitializatingTheCircuit:(-0.809725296321 + 0.438935551623 i) |00000\\rangle+(-0.157538915751 + 0.356176944851 i) |00001\\rangle$$"
      ],
      "text/plain": [
       "<IPython.core.display.Latex object>"
      ]
     },
     "execution_count": 246,
     "metadata": {},
     "output_type": "execute_result"
    }
   ],
   "source": [
    "sv1.draw('latex', prefix='afterInitializatingTheCircuit:')"
   ]
  },
  {
   "cell_type": "code",
   "execution_count": 247,
   "metadata": {
    "colab": {
     "base_uri": "https://localhost:8080/",
     "height": 39
    },
    "id": "w9xxAzEhRjDy",
    "outputId": "889e2710-050a-4691-d0cc-f0c4d3fb2e74",
    "tags": []
   },
   "outputs": [
    {
     "data": {
      "text/latex": [
       "$$afterEncoding:(-0.809725296321 + 0.438935551623 i) |00000\\rangle+(-0.157538915751 + 0.356176944851 i) |00111\\rangle$$"
      ],
      "text/plain": [
       "<IPython.core.display.Latex object>"
      ]
     },
     "execution_count": 247,
     "metadata": {},
     "output_type": "execute_result"
    }
   ],
   "source": [
    "\n",
    "sv2.draw('latex', prefix='afterEncoding:')\n"
   ]
  },
  {
   "cell_type": "code",
   "execution_count": 248,
   "metadata": {
    "colab": {
     "base_uri": "https://localhost:8080/",
     "height": 39
    },
    "id": "RTqu3MUERljX",
    "outputId": "c6172ade-1df6-48ce-9561-36f9286d18e8",
    "tags": []
   },
   "outputs": [
    {
     "data": {
      "text/latex": [
       "$$afterErrorIntroduced:(-0.809725296321 + 0.438935551623 i) |00000\\rangle+(-0.157538915751 + 0.356176944851 i) |00111\\rangle$$"
      ],
      "text/plain": [
       "<IPython.core.display.Latex object>"
      ]
     },
     "execution_count": 248,
     "metadata": {},
     "output_type": "execute_result"
    }
   ],
   "source": [
    "\n",
    "sv3.draw('latex', prefix='afterErrorIntroduced:')\n"
   ]
  },
  {
   "cell_type": "code",
   "execution_count": 236,
   "metadata": {
    "colab": {
     "base_uri": "https://localhost:8080/",
     "height": 39
    },
    "id": "yHR87TtIRn3c",
    "outputId": "86d982d4-c35e-4621-f1b6-e63ba8dc21b3",
    "tags": []
   },
   "outputs": [
    {
     "data": {
      "text/latex": [
       "$$afterErrorDetection:(-0.07659826752 - 0.978061708337 i) |10011\\rangle+(-0.018941391735 - 0.192793215069 i) |10100\\rangle$$"
      ],
      "text/plain": [
       "<IPython.core.display.Latex object>"
      ]
     },
     "execution_count": 236,
     "metadata": {},
     "output_type": "execute_result"
    }
   ],
   "source": [
    "\n",
    "sv4.draw('latex', prefix='afterErrorDetection:')"
   ]
  },
  {
   "cell_type": "code",
   "execution_count": 237,
   "metadata": {
    "colab": {
     "base_uri": "https://localhost:8080/",
     "height": 39
    },
    "id": "oMxoA8pwRp4-",
    "outputId": "a407e75f-3654-4272-900f-625101209ccc",
    "tags": []
   },
   "outputs": [
    {
     "data": {
      "text/latex": [
       "$$afterErrorCorrection:(-0.018941391735 - 0.192793215069 i) |10000\\rangle+(-0.07659826752 - 0.978061708337 i) |10111\\rangle$$"
      ],
      "text/plain": [
       "<IPython.core.display.Latex object>"
      ]
     },
     "execution_count": 237,
     "metadata": {},
     "output_type": "execute_result"
    }
   ],
   "source": [
    "\n",
    "sv5.draw('latex', prefix='afterErrorCorrection:')"
   ]
  },
  {
   "cell_type": "code",
   "execution_count": 238,
   "metadata": {
    "colab": {
     "base_uri": "https://localhost:8080/",
     "height": 39
    },
    "id": "208YHqVQTFFK",
    "outputId": "2810e888-9302-4de9-afbf-34e56e98aaaf",
    "tags": []
   },
   "outputs": [
    {
     "data": {
      "text/latex": [
       "$$afterDecoding:(-0.018941391735 - 0.192793215069 i) |10000\\rangle+(-0.07659826752 - 0.978061708337 i) |10001\\rangle$$"
      ],
      "text/plain": [
       "<IPython.core.display.Latex object>"
      ]
     },
     "execution_count": 238,
     "metadata": {},
     "output_type": "execute_result"
    }
   ],
   "source": [
    "sv6.draw('latex', prefix='afterDecoding:')"
   ]
  },
  {
   "cell_type": "code",
   "execution_count": 239,
   "metadata": {
    "colab": {
     "base_uri": "https://localhost:8080/",
     "height": 39
    },
    "id": "208YHqVQTFFK",
    "outputId": "2810e888-9302-4de9-afbf-34e56e98aaaf",
    "tags": []
   },
   "outputs": [],
   "source": [
    "initial = sv1\n",
    "final = sv6\n",
    "\n",
    "\n",
    "one = initial.probabilities_dict([0,1,2])\n",
    "two = final.probabilities_dict([0,1,2])\n"
   ]
  },
  {
   "cell_type": "code",
   "execution_count": 240,
   "metadata": {
    "colab": {
     "base_uri": "https://localhost:8080/",
     "height": 39
    },
    "id": "208YHqVQTFFK",
    "outputId": "2810e888-9302-4de9-afbf-34e56e98aaaf",
    "tags": []
   },
   "outputs": [
    {
     "name": "stdout",
     "output_type": "stream",
     "text": [
      "Error has been detected and corrected\n"
     ]
    }
   ],
   "source": [
    "# sv6.draw('latex', prefix='Statevector6:')\n",
    "if all(abs(one[qubit] - two[qubit]) < 1e-10 for qubit in one):\n",
    "    print(\"Error has been detected and corrected\")\n",
    "else:\n",
    "    print(\"Error has not been detected!\")"
   ]
  }
 ],
 "metadata": {
  "colab": {
   "provenance": []
  },
  "kernelspec": {
   "display_name": "conda_braket",
   "language": "python",
   "name": "conda_braket"
  },
  "language_info": {
   "codemirror_mode": {
    "name": "ipython",
    "version": 3
   },
   "file_extension": ".py",
   "mimetype": "text/x-python",
   "name": "python",
   "nbconvert_exporter": "python",
   "pygments_lexer": "ipython3",
   "version": "3.10.11"
  }
 },
 "nbformat": 4,
 "nbformat_minor": 4
}
