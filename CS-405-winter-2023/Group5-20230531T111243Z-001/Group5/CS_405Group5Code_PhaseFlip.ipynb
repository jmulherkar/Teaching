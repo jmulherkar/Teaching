{
 "cells": [
  {
   "attachments": {},
   "cell_type": "markdown",
   "metadata": {},
   "source": [
    "Name : Chhagani Krunal ,ID : 202001158\n",
    "Name : Ninama Vipul , ID : 202001218\n",
    "Name : Harsh metkel , ID : 202001154"
   ]
  },
  {
   "cell_type": "code",
   "execution_count": 81,
   "metadata": {
    "colab": {
     "base_uri": "https://localhost:8080/",
     "height": 618
    },
    "id": "qGHjRx_xPDdT",
    "outputId": "5052fa74-d977-4cf9-83a0-741ec030509d",
    "tags": []
   },
   "outputs": [],
   "source": [
    "import random\n",
    "from qiskit import QuantumCircuit, Aer, execute,assemble,QuantumRegister, ClassicalRegister\n",
    "from qiskit.visualization import plot_histogram, plot_bloch_multivector,plot_bloch_vector\n",
    "from numpy.random import randint\n",
    "import numpy as np\n",
    "import qiskit.quantum_info as qi\n",
    "from qiskit.quantum_info import random_statevector, Statevector\n",
    "from qiskit import QuantumCircuit, execute\n",
    "import qiskit.quantum_info as qi\n",
    "from qiskit.providers.aer import QasmSimulator"
   ]
  },
  {
   "cell_type": "code",
   "execution_count": 82,
   "metadata": {
    "colab": {
     "base_uri": "https://localhost:8080/",
     "height": 618
    },
    "id": "qGHjRx_xPDdT",
    "outputId": "5052fa74-d977-4cf9-83a0-741ec030509d",
    "tags": []
   },
   "outputs": [],
   "source": [
    "# function for applying error to all qubits\n",
    "def apply_error(qc, qubits, p):\n",
    "    for qubit in qubits:\n",
    "        if random.random() < p:\n",
    "            qc.z(qubit) # flip the phase of this qubit"
   ]
  },
  {
   "cell_type": "code",
   "execution_count": 83,
   "metadata": {
    "colab": {
     "base_uri": "https://localhost:8080/",
     "height": 618
    },
    "id": "qGHjRx_xPDdT",
    "outputId": "5052fa74-d977-4cf9-83a0-741ec030509d",
    "tags": []
   },
   "outputs": [],
   "source": [
    "def apply_hadamard(qc,qubits):\n",
    "    for qubit in qubits:\n",
    "        qc.h(qubit)"
   ]
  },
  {
   "cell_type": "code",
   "execution_count": 84,
   "metadata": {
    "colab": {
     "base_uri": "https://localhost:8080/",
     "height": 618
    },
    "id": "qGHjRx_xPDdT",
    "outputId": "5052fa74-d977-4cf9-83a0-741ec030509d",
    "tags": []
   },
   "outputs": [],
   "source": [
    "def phase_flip_circuit():\n",
    "    # Define the number of qubits\n",
    "    num_qubits = 1\n",
    "\n",
    "    # Generate a random statevector\n",
    "\n",
    "    random_state = random_statevector(2 ** num_qubits)\n",
    "    # ket 0 state\n",
    "\n",
    "    zero = Statevector([1,0])\n",
    "\n",
    "    # Create the circuit\n",
    "    qr= QuantumRegister(5)\n",
    "    cr= ClassicalRegister(2)\n",
    "    qc = QuantumCircuit(qr,cr)  # 5 qubits and 2 classical bits\n",
    "    qc.initialize(random_state.data,qr[0])\n",
    "    qc.save_statevector(label='v1')\n",
    "    initial =  zero ^ zero ^ zero ^ zero ^ random_state  # inital vector is tensor product of 5 qubits\n",
    "\n",
    "    # Encoding\n",
    "    qc.cx(0, 1)  # CNOT gate (controlled-X gate) between qubit 0 (main qubit) and qubit 1 (ancillary qubit)\n",
    "    qc.cx(0, 2)  # CNOT gate between qubit 0 and qubit 2\n",
    "    qc.save_statevector(label='v2')\n",
    "    qubits_to_apply_error = [0, 1, 2]  # Apply error to all three qubits in phase and hadamard\n",
    "    #Apply Hadamard gates to each qubit after encoding since we are working with phase\n",
    "    apply_hadamard(qc,qubits_to_apply_error)\n",
    "    qc.save_statevector(label='v3')\n",
    "    qc.barrier()\n",
    "\n",
    "    # Apply error\n",
    "    error_probability = 0.1  # Set the error probability to 0.1\n",
    "    apply_error(qc, qubits_to_apply_error, error_probability)  # Introduce errors to the qubits\n",
    "    qc.save_statevector(label='v4')\n",
    "    qc.barrier()\n",
    "    #apply Hadamard gates to each qubit after error is introduced\n",
    "    apply_hadamard(qc,qubits_to_apply_error)\n",
    "    qc.save_statevector(label='v5')\n",
    "    qc.barrier()\n",
    "\n",
    "    # Error Detection\n",
    "    qc.cx(0, 3)  # C-Z gate between qubit 0 (ancillary qubit) and qubit 3 (error detection qubit)\n",
    "    qc.cx(1, 3)  # C-Z gate between qubit 1 and qubit 3 (error detection qubit)\n",
    "    qc.cx(0,4)   # C-Z gate between qubit 0 and qubit 4 (error detection qubit)\n",
    "    qc.cx(2,4)   # C-Z gate between qubit 1 and qubit 4 (error detection qubit)\n",
    "    qc.save_statevector(label='v6')\n",
    "    qc.measure([3,4],[0,1])  # Measure error detection qubits 3 and 4 and store the result in classical bits 0 and 1\n",
    "    qc.barrier()\n",
    "\n",
    "    # Apply error correction based on measurement result\n",
    "    # if measurement gives 00 then simply ignore\n",
    "    qc.x(1).c_if(cr,1)  # Apply an X gate to qubit 1 if the measurement result is 1 \n",
    "    qc.x(2).c_if(cr,2) # Apply an X gate to qubit 2 if the measurement result is 2 \n",
    "    qc.x(0).c_if(cr,3)  # Apply an X gate to qubit 0 if the measurement result is 3\n",
    "    qc.save_statevector(label='v7')\n",
    "    qc.barrier()\n",
    "    # Decoding\n",
    "    qc.cx(0, 1)  # CNOT gate between qubit 0 and qubit 1\n",
    "    qc.cx(0,2) # CNOT gate between qubit 0 and qubit 2\n",
    "\n",
    "    qc.save_statevector(label='v8')\n",
    "    qc.barrier()\n",
    "    return qc"
   ]
  },
  {
   "cell_type": "code",
   "execution_count": 80,
   "metadata": {
    "colab": {
     "base_uri": "https://localhost:8080/",
     "height": 618
    },
    "id": "qGHjRx_xPDdT",
    "outputId": "5052fa74-d977-4cf9-83a0-741ec030509d",
    "tags": []
   },
   "outputs": [
    {
     "data": {
      "text/html": [
       "<pre style=\"word-wrap: normal;white-space: pre;background: #fff0;line-height: 1.1;font-family: &quot;Courier New&quot;,Courier,monospace\">       ┌────────────────────────────────────────────────┐ v1            v2 »\n",
       "q57_0: ┤ Initialize(-0.26984-0.93583j,0.18501+0.13109j) ├─░────■────■───░──»\n",
       "       └────────────────────────────────────────────────┘ ░  ┌─┴─┐  │   ░  »\n",
       "q57_1: ───────────────────────────────────────────────────░──┤ X ├──┼───░──»\n",
       "                                                          ░  └───┘┌─┴─┐ ░  »\n",
       "q57_2: ───────────────────────────────────────────────────░───────┤ X ├─░──»\n",
       "                                                          ░       └───┘ ░  »\n",
       "q57_3: ───────────────────────────────────────────────────░─────────────░──»\n",
       "                                                          ░             ░  »\n",
       "q57_4: ───────────────────────────────────────────────────░─────────────░──»\n",
       "                                                          ░             ░  »\n",
       "c11: 2/════════════════════════════════════════════════════════════════════»\n",
       "                                                                           »\n",
       "«       ┌───┐ v3  ░  v4  ░ ┌───┐ v5  ░                      v6        ░        »\n",
       "«q57_0: ┤ H ├─░───░──░───░─┤ H ├─░───░───■─────────■────────░─────────░────────»\n",
       "«       ├───┤ ░   ░  ░   ░ ├───┤ ░   ░   │         │        ░         ░  ┌───┐ »\n",
       "«q57_1: ┤ H ├─░───░──░───░─┤ H ├─░───░───┼────■────┼────────░─────────░──┤ X ├─»\n",
       "«       ├───┤ ░   ░  ░   ░ ├───┤ ░   ░   │    │    │        ░         ░  └─╥─┘ »\n",
       "«q57_2: ┤ H ├─░───░──░───░─┤ H ├─░───░───┼────┼────┼────■───░─────────░────╫───»\n",
       "«       └───┘ ░   ░  ░   ░ └───┘ ░   ░ ┌─┴─┐┌─┴─┐  │    │   ░  ┌─┐    ░    ║   »\n",
       "«q57_3: ──────░───░──░───░───────░───░─┤ X ├┤ X ├──┼────┼───░──┤M├────░────╫───»\n",
       "«             ░   ░  ░   ░       ░   ░ └───┘└───┘┌─┴─┐┌─┴─┐ ░  └╥┘┌─┐ ░    ║   »\n",
       "«q57_4: ──────░───░──░───░───────░───░───────────┤ X ├┤ X ├─░───╫─┤M├─░────╫───»\n",
       "«             ░   ░  ░   ░       ░   ░           └───┘└───┘ ░   ║ └╥┘ ░ ┌──╨──┐»\n",
       "«c11: 2/════════════════════════════════════════════════════════╩══╩════╡ 0x1 ╞»\n",
       "«                                                               0  1    └─────┘»\n",
       "«               ┌───┐  v7  ░            v8  ░ \n",
       "«q57_0: ────────┤ X ├──░───░───■────■───░───░─\n",
       "«               └─╥─┘  ░   ░ ┌─┴─┐  │   ░   ░ \n",
       "«q57_1: ──────────╫────░───░─┤ X ├──┼───░───░─\n",
       "«        ┌───┐    ║    ░   ░ └───┘┌─┴─┐ ░   ░ \n",
       "«q57_2: ─┤ X ├────╫────░───░──────┤ X ├─░───░─\n",
       "«        └─╥─┘    ║    ░   ░      └───┘ ░   ░ \n",
       "«q57_3: ───╫──────╫────░───░────────────░───░─\n",
       "«          ║      ║    ░   ░            ░   ░ \n",
       "«q57_4: ───╫──────╫────░───░────────────░───░─\n",
       "«       ┌──╨──┐┌──╨──┐ ░   ░            ░   ░ \n",
       "«c11: 2/╡ 0x2 ╞╡ 0x3 ╞════════════════════════\n",
       "«       └─────┘└─────┘                        </pre>"
      ],
      "text/plain": [
       "       ┌────────────────────────────────────────────────┐ v1            v2 »\n",
       "q57_0: ┤ Initialize(-0.26984-0.93583j,0.18501+0.13109j) ├─░────■────■───░──»\n",
       "       └────────────────────────────────────────────────┘ ░  ┌─┴─┐  │   ░  »\n",
       "q57_1: ───────────────────────────────────────────────────░──┤ X ├──┼───░──»\n",
       "                                                          ░  └───┘┌─┴─┐ ░  »\n",
       "q57_2: ───────────────────────────────────────────────────░───────┤ X ├─░──»\n",
       "                                                          ░       └───┘ ░  »\n",
       "q57_3: ───────────────────────────────────────────────────░─────────────░──»\n",
       "                                                          ░             ░  »\n",
       "q57_4: ───────────────────────────────────────────────────░─────────────░──»\n",
       "                                                          ░             ░  »\n",
       "c11: 2/════════════════════════════════════════════════════════════════════»\n",
       "                                                                           »\n",
       "«       ┌───┐ v3  ░  v4  ░ ┌───┐ v5  ░                      v6        ░        »\n",
       "«q57_0: ┤ H ├─░───░──░───░─┤ H ├─░───░───■─────────■────────░─────────░────────»\n",
       "«       ├───┤ ░   ░  ░   ░ ├───┤ ░   ░   │         │        ░         ░  ┌───┐ »\n",
       "«q57_1: ┤ H ├─░───░──░───░─┤ H ├─░───░───┼────■────┼────────░─────────░──┤ X ├─»\n",
       "«       ├───┤ ░   ░  ░   ░ ├───┤ ░   ░   │    │    │        ░         ░  └─╥─┘ »\n",
       "«q57_2: ┤ H ├─░───░──░───░─┤ H ├─░───░───┼────┼────┼────■───░─────────░────╫───»\n",
       "«       └───┘ ░   ░  ░   ░ └───┘ ░   ░ ┌─┴─┐┌─┴─┐  │    │   ░  ┌─┐    ░    ║   »\n",
       "«q57_3: ──────░───░──░───░───────░───░─┤ X ├┤ X ├──┼────┼───░──┤M├────░────╫───»\n",
       "«             ░   ░  ░   ░       ░   ░ └───┘└───┘┌─┴─┐┌─┴─┐ ░  └╥┘┌─┐ ░    ║   »\n",
       "«q57_4: ──────░───░──░───░───────░───░───────────┤ X ├┤ X ├─░───╫─┤M├─░────╫───»\n",
       "«             ░   ░  ░   ░       ░   ░           └───┘└───┘ ░   ║ └╥┘ ░ ┌──╨──┐»\n",
       "«c11: 2/════════════════════════════════════════════════════════╩══╩════╡ 0x1 ╞»\n",
       "«                                                               0  1    └─────┘»\n",
       "«               ┌───┐  v7  ░            v8  ░ \n",
       "«q57_0: ────────┤ X ├──░───░───■────■───░───░─\n",
       "«               └─╥─┘  ░   ░ ┌─┴─┐  │   ░   ░ \n",
       "«q57_1: ──────────╫────░───░─┤ X ├──┼───░───░─\n",
       "«        ┌───┐    ║    ░   ░ └───┘┌─┴─┐ ░   ░ \n",
       "«q57_2: ─┤ X ├────╫────░───░──────┤ X ├─░───░─\n",
       "«        └─╥─┘    ║    ░   ░      └───┘ ░   ░ \n",
       "«q57_3: ───╫──────╫────░───░────────────░───░─\n",
       "«          ║      ║    ░   ░            ░   ░ \n",
       "«q57_4: ───╫──────╫────░───░────────────░───░─\n",
       "«       ┌──╨──┐┌──╨──┐ ░   ░            ░   ░ \n",
       "«c11: 2/╡ 0x2 ╞╡ 0x3 ╞════════════════════════\n",
       "«       └─────┘└─────┘                        "
      ]
     },
     "execution_count": 80,
     "metadata": {},
     "output_type": "execute_result"
    }
   ],
   "source": [
    "#create quantum circuit\n",
    "qc = phase_flip_circuit()\n",
    "qc.draw()"
   ]
  },
  {
   "cell_type": "code",
   "execution_count": 78,
   "metadata": {
    "colab": {
     "base_uri": "https://localhost:8080/"
    },
    "id": "O28CxxLnV47j",
    "outputId": "ebae1e51-83a4-44f4-d1e9-6d52069d2967",
    "tags": []
   },
   "outputs": [
    {
     "name": "stdout",
     "output_type": "stream",
     "text": [
      "{'10': 1}\n"
     ]
    }
   ],
   "source": [
    "\n",
    "# Simulate the circuit\n",
    "simulator = Aer.get_backend('qasm_simulator')\n",
    "job = execute(qc, simulator, shots=1)\n",
    "result = job.result()\n",
    "counts = result.get_counts(qc)\n",
    "print(counts)\n",
    "sv1 = result.data(0)['v1']\n",
    "sv2 = result.data(0)['v2']\n",
    "sv3 = result.data(0)['v3']\n",
    "sv4 = result.data(0)['v4']\n",
    "sv5 = result.data(0)['v5']\n",
    "sv6 = result.data(0)['v6']\n",
    "sv7 = result.data(0)['v7']\n",
    "sv8 = result.data(0)['v8']\n"
   ]
  },
  {
   "cell_type": "code",
   "execution_count": 67,
   "metadata": {
    "colab": {
     "base_uri": "https://localhost:8080/",
     "height": 39
    },
    "id": "-ejyl5bmPGvH",
    "outputId": "541a6acb-85e0-41d5-af63-b69964cfcbbe",
    "tags": []
   },
   "outputs": [
    {
     "data": {
      "text/latex": [
       "$$afterInitializingTheCircuit:(-0.439215846681 - 0.132824299386 i) |00000\\rangle+(0.626552607328 + 0.629983313881 i) |00001\\rangle$$"
      ],
      "text/plain": [
       "<IPython.core.display.Latex object>"
      ]
     },
     "execution_count": 67,
     "metadata": {},
     "output_type": "execute_result"
    }
   ],
   "source": [
    "sv1.draw('latex', prefix='afterInitializingTheCircuit:')"
   ]
  },
  {
   "cell_type": "code",
   "execution_count": 68,
   "metadata": {
    "colab": {
     "base_uri": "https://localhost:8080/",
     "height": 39
    },
    "id": "lWs7WOd2PIy9",
    "outputId": "5b4e093d-583a-4233-ef94-a05d82fadf8c",
    "tags": []
   },
   "outputs": [
    {
     "data": {
      "text/latex": [
       "$$afterEncoding:(-0.439215846681 - 0.132824299386 i) |00000\\rangle+(0.626552607328 + 0.629983313881 i) |00111\\rangle$$"
      ],
      "text/plain": [
       "<IPython.core.display.Latex object>"
      ]
     },
     "execution_count": 68,
     "metadata": {},
     "output_type": "execute_result"
    }
   ],
   "source": [
    "\n",
    "sv2.draw('latex', prefix='afterEncoding:')\n"
   ]
  },
  {
   "cell_type": "code",
   "execution_count": 69,
   "metadata": {
    "colab": {
     "base_uri": "https://localhost:8080/",
     "height": 82
    },
    "id": "j-434t8lPKUG",
    "outputId": "290528b9-e568-4137-8058-93dc251e0dd0",
    "tags": []
   },
   "outputs": [
    {
     "data": {
      "text/latex": [
       "$$afterHadamard:(0.066233546909 + 0.175772255239 i) |00000\\rangle+(-0.376806050502 - 0.269693218041 i) |00001\\rangle+(-0.376806050502 - 0.269693218041 i) |00010\\rangle+(0.066233546909 + 0.175772255239 i) |00011\\rangle+(-0.376806050502 - 0.269693218041 i) |00100\\rangle+(0.066233546909 + 0.175772255239 i) |00101\\rangle+(0.066233546909 + 0.175772255239 i) |00110\\rangle+(-0.376806050502 - 0.269693218041 i) |00111\\rangle$$"
      ],
      "text/plain": [
       "<IPython.core.display.Latex object>"
      ]
     },
     "execution_count": 69,
     "metadata": {},
     "output_type": "execute_result"
    }
   ],
   "source": [
    "\n",
    "sv3.draw('latex', prefix='afterHadamard:')\n"
   ]
  },
  {
   "cell_type": "code",
   "execution_count": 70,
   "metadata": {
    "colab": {
     "base_uri": "https://localhost:8080/",
     "height": 82
    },
    "id": "i3QyPHIRPLy7",
    "outputId": "504bb64d-52cd-4b24-acdc-96d4555624c0",
    "tags": []
   },
   "outputs": [
    {
     "data": {
      "text/latex": [
       "$$afterErrorIntroduced:(0.066233546909 + 0.175772255239 i) |00000\\rangle+(0.376806050502 + 0.269693218041 i) |00001\\rangle+(0.376806050502 + 0.269693218041 i) |00010\\rangle+(0.066233546909 + 0.175772255239 i) |00011\\rangle+(-0.376806050502 - 0.269693218041 i) |00100\\rangle+(-0.066233546909 - 0.175772255239 i) |00101\\rangle+(-0.066233546909 - 0.175772255239 i) |00110\\rangle+(-0.376806050502 - 0.269693218041 i) |00111\\rangle$$"
      ],
      "text/plain": [
       "<IPython.core.display.Latex object>"
      ]
     },
     "execution_count": 70,
     "metadata": {},
     "output_type": "execute_result"
    }
   ],
   "source": [
    "\n",
    "sv4.draw('latex', prefix='afterErrorIntroduced:')"
   ]
  },
  {
   "cell_type": "code",
   "execution_count": 71,
   "metadata": {
    "colab": {
     "base_uri": "https://localhost:8080/",
     "height": 39
    },
    "id": "x8ASQ_8UPNYT",
    "outputId": "8e64e6ac-0b6b-47fa-af4c-f99953b1bdde",
    "tags": []
   },
   "outputs": [
    {
     "data": {
      "text/latex": [
       "$$afterHadamard:(-0.439215846681 - 0.132824299386 i) |00011\\rangle+(0.626552607328 + 0.629983313881 i) |00100\\rangle$$"
      ],
      "text/plain": [
       "<IPython.core.display.Latex object>"
      ]
     },
     "execution_count": 71,
     "metadata": {},
     "output_type": "execute_result"
    }
   ],
   "source": [
    "\n",
    "sv5.draw('latex', prefix='afterHadamard:')"
   ]
  },
  {
   "cell_type": "code",
   "execution_count": 72,
   "metadata": {
    "colab": {
     "base_uri": "https://localhost:8080/",
     "height": 39
    },
    "id": "xQUS-eAxPOpi",
    "outputId": "6e6ad1dc-2bca-4688-b471-9ae33163bebf",
    "tags": []
   },
   "outputs": [
    {
     "data": {
      "text/latex": [
       "$$afterErrorDetection:(-0.439215846681 - 0.132824299386 i) |10011\\rangle+(0.626552607328 + 0.629983313881 i) |10100\\rangle$$"
      ],
      "text/plain": [
       "<IPython.core.display.Latex object>"
      ]
     },
     "execution_count": 72,
     "metadata": {},
     "output_type": "execute_result"
    }
   ],
   "source": [
    "sv6.draw('latex', prefix='afterErrorDetection:')"
   ]
  },
  {
   "cell_type": "code",
   "execution_count": 73,
   "metadata": {
    "colab": {
     "base_uri": "https://localhost:8080/",
     "height": 39
    },
    "id": "39xnTzIwXtr0",
    "outputId": "f52aa362-83d7-49f0-b891-eccb7fb351b8",
    "tags": []
   },
   "outputs": [
    {
     "data": {
      "text/latex": [
       "$$afterErrorCorrection:(0.626552607328 + 0.629983313881 i) |10000\\rangle+(-0.439215846681 - 0.132824299386 i) |10111\\rangle$$"
      ],
      "text/plain": [
       "<IPython.core.display.Latex object>"
      ]
     },
     "execution_count": 73,
     "metadata": {},
     "output_type": "execute_result"
    }
   ],
   "source": [
    "sv7.draw('latex', prefix='afterErrorCorrection:')\n"
   ]
  },
  {
   "cell_type": "code",
   "execution_count": 74,
   "metadata": {
    "colab": {
     "base_uri": "https://localhost:8080/",
     "height": 39
    },
    "id": "wpJTaTvzXwaD",
    "outputId": "42081628-0914-4659-c571-30f1033abf0b",
    "tags": []
   },
   "outputs": [
    {
     "data": {
      "text/latex": [
       "$$afterDecoding:(0.626552607328 + 0.629983313881 i) |10000\\rangle+(-0.439215846681 - 0.132824299386 i) |10001\\rangle$$"
      ],
      "text/plain": [
       "<IPython.core.display.Latex object>"
      ]
     },
     "execution_count": 74,
     "metadata": {},
     "output_type": "execute_result"
    }
   ],
   "source": [
    "sv8.draw('latex', prefix='afterDecoding:')"
   ]
  },
  {
   "cell_type": "code",
   "execution_count": 75,
   "metadata": {},
   "outputs": [
    {
     "name": "stdout",
     "output_type": "stream",
     "text": [
      "{'000': 0.21055285448294234, '001': 0.7894471455170576}\n",
      "{'000': 0.7894471455170579, '001': 0.21055285448294228}\n"
     ]
    }
   ],
   "source": [
    "initial = sv1\n",
    "final = sv8\n",
    "\n",
    "\n",
    "one = initial.probabilities_dict([0,1,2])\n",
    "two = final.probabilities_dict([0,1,2])\n",
    "print(one)\n",
    "print(two)"
   ]
  },
  {
   "cell_type": "code",
   "execution_count": 76,
   "metadata": {},
   "outputs": [
    {
     "name": "stdout",
     "output_type": "stream",
     "text": [
      "Error has not been detected!\n"
     ]
    }
   ],
   "source": [
    "# sv6.draw('latex', prefix='Statevector6:')\n",
    "if all(abs(one[qubit] - two[qubit]) < 1e-10 for qubit in one):\n",
    "    print(\"Error has been detected and corrected\")\n",
    "else:\n",
    "    print(\"Error has not been detected!\")"
   ]
  }
 ],
 "metadata": {
  "colab": {
   "provenance": []
  },
  "kernelspec": {
   "display_name": "conda_braket",
   "language": "python",
   "name": "conda_braket"
  },
  "language_info": {
   "codemirror_mode": {
    "name": "ipython",
    "version": 3
   },
   "file_extension": ".py",
   "mimetype": "text/x-python",
   "name": "python",
   "nbconvert_exporter": "python",
   "pygments_lexer": "ipython3",
   "version": "3.10.11"
  }
 },
 "nbformat": 4,
 "nbformat_minor": 4
}
