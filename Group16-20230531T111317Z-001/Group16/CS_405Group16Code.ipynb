{
 "cells": [
  {
   "cell_type": "markdown",
   "id": "a477c993",
   "metadata": {
    "slideshow": {
     "slide_type": "slide"
    },
    "tags": []
   },
   "source": [
    "# 3-SAT Problem Using Grover Search Algorithm\n",
    "# 1. Kush Vasani - 202003012\n",
    "# 2. Jainil Patel - 202003027\n",
    "# 3. Pratap Ratiya - 202003036"
   ]
  },
  {
   "cell_type": "code",
   "execution_count": 93,
   "id": "61350edd",
   "metadata": {
    "tags": []
   },
   "outputs": [
    {
     "data": {
      "text/html": [
       "<pre style=\"word-wrap: normal;white-space: pre;background: #fff0;line-height: 1.1;font-family: &quot;Courier New&quot;,Courier,monospace\">           ┌─────────────────┐       ┌───┐┌───┐          ┌───┐          ┌───┐»\n",
       "q_0: ──────┤ Initialize(1,0) ├───────┤ H ├┤ X ├───────■──┤ X ├───────■──┤ X ├»\n",
       "           ├─────────────────┤       ├───┤├───┤       │  ├───┤       │  ├───┤»\n",
       "q_1: ──────┤ Initialize(1,0) ├───────┤ H ├┤ X ├───────■──┤ X ├───────■──┤ X ├»\n",
       "           ├─────────────────┤       ├───┤├───┤┌───┐  │  ├───┤┌───┐  │  ├───┤»\n",
       "q_2: ──────┤ Initialize(1,0) ├───────┤ H ├┤ X ├┤ X ├──■──┤ X ├┤ X ├──■──┤ X ├»\n",
       "           ├─────────────────┤       └───┘└───┘└───┘┌─┴─┐└───┘└───┘  │  └───┘»\n",
       "q_3: ──────┤ Initialize(1,0) ├──────────────────────┤ X ├──■─────────┼───────»\n",
       "           ├─────────────────┤                      └───┘  │       ┌─┴─┐     »\n",
       "q_4: ──────┤ Initialize(1,0) ├─────────────────────────────┼───────┤ X ├──■──»\n",
       "     ┌─────┴─────────────────┴──────┐                    ┌─┴─┐     └───┘┌─┴─┐»\n",
       "q_5: ┤ Initialize(0.70711,-0.70711) ├────────────────────┤ X ├──────────┤ X ├»\n",
       "     └──────────────────────────────┘                    └───┘          └───┘»\n",
       "c: 3/════════════════════════════════════════════════════════════════════════»\n",
       "                                                                             »\n",
       "«     ┌────────┐\n",
       "«q_0: ┤0       ├\n",
       "«     │        │\n",
       "«q_1: ┤1 U$_s$ ├\n",
       "«     │        │\n",
       "«q_2: ┤2       ├\n",
       "«     └────────┘\n",
       "«q_3: ────■─────\n",
       "«         │     \n",
       "«q_4: ────■─────\n",
       "«       ┌─┴─┐   \n",
       "«q_5: ──┤ X ├───\n",
       "«       └───┘   \n",
       "«c: 3/══════════\n",
       "«               </pre>"
      ],
      "text/plain": [
       "           ┌─────────────────┐       ┌───┐┌───┐          ┌───┐          ┌───┐»\n",
       "q_0: ──────┤ Initialize(1,0) ├───────┤ H ├┤ X ├───────■──┤ X ├───────■──┤ X ├»\n",
       "           ├─────────────────┤       ├───┤├───┤       │  ├───┤       │  ├───┤»\n",
       "q_1: ──────┤ Initialize(1,0) ├───────┤ H ├┤ X ├───────■──┤ X ├───────■──┤ X ├»\n",
       "           ├─────────────────┤       ├───┤├───┤┌───┐  │  ├───┤┌───┐  │  ├───┤»\n",
       "q_2: ──────┤ Initialize(1,0) ├───────┤ H ├┤ X ├┤ X ├──■──┤ X ├┤ X ├──■──┤ X ├»\n",
       "           ├─────────────────┤       └───┘└───┘└───┘┌─┴─┐└───┘└───┘  │  └───┘»\n",
       "q_3: ──────┤ Initialize(1,0) ├──────────────────────┤ X ├──■─────────┼───────»\n",
       "           ├─────────────────┤                      └───┘  │       ┌─┴─┐     »\n",
       "q_4: ──────┤ Initialize(1,0) ├─────────────────────────────┼───────┤ X ├──■──»\n",
       "     ┌─────┴─────────────────┴──────┐                    ┌─┴─┐     └───┘┌─┴─┐»\n",
       "q_5: ┤ Initialize(0.70711,-0.70711) ├────────────────────┤ X ├──────────┤ X ├»\n",
       "     └──────────────────────────────┘                    └───┘          └───┘»\n",
       "c: 3/════════════════════════════════════════════════════════════════════════»\n",
       "                                                                             »\n",
       "«     ┌────────┐\n",
       "«q_0: ┤0       ├\n",
       "«     │        │\n",
       "«q_1: ┤1 U$_s$ ├\n",
       "«     │        │\n",
       "«q_2: ┤2       ├\n",
       "«     └────────┘\n",
       "«q_3: ────■─────\n",
       "«         │     \n",
       "«q_4: ────■─────\n",
       "«       ┌─┴─┐   \n",
       "«q_5: ──┤ X ├───\n",
       "«       └───┘   \n",
       "«c: 3/══════════\n",
       "«               "
      ]
     },
     "execution_count": 93,
     "metadata": {},
     "output_type": "execute_result"
    }
   ],
   "source": [
    "from qiskit import QuantumCircuit, Aer, execute\n",
    "from qiskit import ClassicalRegister, QuantumRegister\n",
    "import numpy as np\n",
    "from qiskit.circuit import Gate\n",
    "from qiskit.circuit.library.phase_oracle import PhaseOracle\n",
    "# The following example encodes the clause (x1 OR x2 OR ~x3) AND (~x1 OR ~x2 OR x3)\n",
    "clause = [[1, 2,-3], [-1, -2,-3]]\n",
    "\n",
    "num_qubits = 3\n",
    "\n",
    "qc = QuantumCircuit(6,3)\n",
    "\n",
    "qc.initialize([1,0],0)\n",
    "qc.initialize([1,0],1)\n",
    "qc.initialize([1,0],2)\n",
    "qc.initialize([1,0],3)\n",
    "qc.initialize([1,0],4)\n",
    "qc.initialize([1, -1]/np.sqrt(2), 5)\n",
    "\n",
    "qc.h(list(range(num_qubits)))\n",
    "\n",
    "def oracle(qc, clause):\n",
    "    i=3\n",
    "    qc.x(0)\n",
    "    qc.x(1)\n",
    "    qc.x(2)\n",
    "    for literals in clause:\n",
    "        for l in literals:\n",
    "            if(l<0):\n",
    "                qc.x(abs(l)-1)\n",
    "        qc.mct([0,1,2],i)\n",
    "        i=i+1\n",
    "        for l in literals:\n",
    "            if(l<0):\n",
    "                qc.x(abs(l)-1)\n",
    "    qc.cx(3,5)\n",
    "    qc.cx(4,5)\n",
    "    qc.mct([3,4],5)\n",
    "    \n",
    "def diffuser(nqubits):\n",
    "    qc = QuantumCircuit(nqubits)\n",
    "    for qubit in range(nqubits):\n",
    "        qc.h(qubit)\n",
    "    for qubit in range(nqubits):\n",
    "        qc.x(qubit)\n",
    "    qc.h(nqubits-1)\n",
    "    qc.mct(list(range(nqubits-1)), nqubits-1)  # multi-controlled-toffoli\n",
    "    qc.h(nqubits-1)\n",
    "    for qubit in range(nqubits):\n",
    "        qc.x(qubit)\n",
    "    for qubit in range(nqubits):\n",
    "        qc.h(qubit)\n",
    "    U_s = qc.to_gate()\n",
    "    U_s.name = \"U$_s$\"\n",
    "    return U_s\n",
    "\n",
    "num_iterations = 1\n",
    "for i in range(num_iterations):\n",
    "    oracle(qc,clause)\n",
    "    qc.append(diffuser(3), [0,1,2])\n",
    "\n",
    "qc.draw()"
   ]
  },
  {
   "cell_type": "code",
   "execution_count": 94,
   "id": "cd7f847d-724e-4894-a859-8463326d5998",
   "metadata": {
    "tags": []
   },
   "outputs": [
    {
     "name": "stdout",
     "output_type": "stream",
     "text": [
      "Satisfying assignment found with probability: 0.1838\n",
      "Measurement results: {'001': 456, '010': 464, '111': 495, '000': 3646, '011': 3596, '101': 443, '110': 456, '100': 444}\n"
     ]
    },
    {
     "data": {
      "image/png": "[encoded data removed]",
      "text/plain": [
       "<Figure size 700x500 with 1 Axes>"
      ]
     },
     "metadata": {},
     "output_type": "display_data"
    }
   ],
   "source": [
    "qc.measure([0,1,2],[0,1,2])\n",
    "\n",
    "backend = Aer.get_backend('qasm_simulator')\n",
    "result = execute(qc, backend, shots=10000).result()\n",
    "\n",
    "counts = result.get_counts()\n",
    "p_success = sum([counts[k] for k in counts.keys() if k.startswith('1')])/sum(counts.values())\n",
    "\n",
    "print(\"Satisfying assignment found with probability:\", p_success)\n",
    "print(\"Measurement results:\", counts)\n",
    "from qiskit.tools.visualization import plot_histogram\n",
    "\n",
    "\n",
    "display(plot_histogram(counts))"
   ]
  },
  {
   "cell_type": "code",
   "execution_count": null,
   "id": "21ddba53-5fbb-4ac2-b2b1-85866dd0be05",
   "metadata": {},
   "outputs": [],
   "source": []
  },
  {
   "cell_type": "code",
   "execution_count": null,
   "id": "83e42cf3-3634-4245-8bbc-26e1b82a0b91",
   "metadata": {},
   "outputs": [],
   "source": []
  }
 ],
 "metadata": {
  "kernelspec": {
   "display_name": "conda_braket",
   "language": "python",
   "name": "conda_braket"
  },
  "language_info": {
   "codemirror_mode": {
    "name": "ipython",
    "version": 3
   },
   "file_extension": ".py",
   "mimetype": "text/x-python",
   "name": "python",
   "nbconvert_exporter": "python",
   "pygments_lexer": "ipython3",
   "version": "3.10.11"
  }
 },
 "nbformat": 4,
 "nbformat_minor": 5
}
