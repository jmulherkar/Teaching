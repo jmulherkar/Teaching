{
  "nbformat": 4,
  "nbformat_minor": 0,
  "metadata": {
    "colab": {
      "provenance": [],
      "toc_visible": true
    },
    "kernelspec": {
      "name": "python3",
      "display_name": "Python 3"
    },
    "language_info": {
      "name": "python"
    }
  },
  "cells": [
    {
      "cell_type": "markdown",
      "source": [
        "202001267 - Meet Bhatt <br>\n",
        "202003039 - Mukund Ladani <br>\n",
        "202003040 - Kashyap Halavadia"
      ],
      "metadata": {
        "id": "VzCje1tVK2Hs"
      }
    },
    {
      "cell_type": "code",
      "source": [
        "pip install qiskit"
      ],
      "metadata": {
        "colab": {
          "base_uri": "https://localhost:8080/"
        },
        "id": "NWT0-XUi0pYH",
        "outputId": "8666288b-b2e6-4a62-c951-bbe76fcc23c6"
      },
      "execution_count": null,
      "outputs": [
        {
          "output_type": "stream",
          "name": "stdout",
          "text": [
            "Looking in indexes: https://pypi.org/simple, https://us-python.pkg.dev/colab-wheels/public/simple/\n",
            "Requirement already satisfied: qiskit in /usr/local/lib/python3.10/dist-packages (0.43.0)\n",
            "Requirement already satisfied: qiskit-terra==0.24.0 in /usr/local/lib/python3.10/dist-packages (from qiskit) (0.24.0)\n",
            "Requirement already satisfied: qiskit-aer==0.12.0 in /usr/local/lib/python3.10/dist-packages (from qiskit) (0.12.0)\n",
            "Requirement already satisfied: qiskit-ibmq-provider==0.20.2 in /usr/local/lib/python3.10/dist-packages (from qiskit) (0.20.2)\n",
            "Requirement already satisfied: numpy>=1.16.3 in /usr/local/lib/python3.10/dist-packages (from qiskit-aer==0.12.0->qiskit) (1.22.4)\n",
            "Requirement already satisfied: scipy>=1.0 in /usr/local/lib/python3.10/dist-packages (from qiskit-aer==0.12.0->qiskit) (1.10.1)\n",
            "Requirement already satisfied: requests>=2.19 in /usr/local/lib/python3.10/dist-packages (from qiskit-ibmq-provider==0.20.2->qiskit) (2.30.0)\n",
            "Requirement already satisfied: requests-ntlm<=1.1.0 in /usr/local/lib/python3.10/dist-packages (from qiskit-ibmq-provider==0.20.2->qiskit) (1.1.0)\n",
            "Requirement already satisfied: urllib3>=1.21.1 in /usr/local/lib/python3.10/dist-packages (from qiskit-ibmq-provider==0.20.2->qiskit) (1.26.15)\n",
            "Requirement already satisfied: python-dateutil>=2.8.0 in /usr/local/lib/python3.10/dist-packages (from qiskit-ibmq-provider==0.20.2->qiskit) (2.8.2)\n",
            "Requirement already satisfied: websocket-client>=1.5.1 in /usr/local/lib/python3.10/dist-packages (from qiskit-ibmq-provider==0.20.2->qiskit) (1.5.1)\n",
            "Requirement already satisfied: websockets>=10.0 in /usr/local/lib/python3.10/dist-packages (from qiskit-ibmq-provider==0.20.2->qiskit) (11.0.3)\n",
            "Requirement already satisfied: rustworkx>=0.12.0 in /usr/local/lib/python3.10/dist-packages (from qiskit-terra==0.24.0->qiskit) (0.12.1)\n",
            "Requirement already satisfied: ply>=3.10 in /usr/local/lib/python3.10/dist-packages (from qiskit-terra==0.24.0->qiskit) (3.11)\n",
            "Requirement already satisfied: psutil>=5 in /usr/local/lib/python3.10/dist-packages (from qiskit-terra==0.24.0->qiskit) (5.9.5)\n",
            "Requirement already satisfied: sympy>=1.3 in /usr/local/lib/python3.10/dist-packages (from qiskit-terra==0.24.0->qiskit) (1.11.1)\n",
            "Requirement already satisfied: dill>=0.3 in /usr/local/lib/python3.10/dist-packages (from qiskit-terra==0.24.0->qiskit) (0.3.6)\n",
            "Requirement already satisfied: stevedore>=3.0.0 in /usr/local/lib/python3.10/dist-packages (from qiskit-terra==0.24.0->qiskit) (5.0.0)\n",
            "Requirement already satisfied: symengine<0.10,>=0.9 in /usr/local/lib/python3.10/dist-packages (from qiskit-terra==0.24.0->qiskit) (0.9.2)\n",
            "Requirement already satisfied: six>=1.5 in /usr/local/lib/python3.10/dist-packages (from python-dateutil>=2.8.0->qiskit-ibmq-provider==0.20.2->qiskit) (1.16.0)\n",
            "Requirement already satisfied: charset-normalizer<4,>=2 in /usr/local/lib/python3.10/dist-packages (from requests>=2.19->qiskit-ibmq-provider==0.20.2->qiskit) (2.0.12)\n",
            "Requirement already satisfied: idna<4,>=2.5 in /usr/local/lib/python3.10/dist-packages (from requests>=2.19->qiskit-ibmq-provider==0.20.2->qiskit) (3.4)\n",
            "Requirement already satisfied: certifi>=2017.4.17 in /usr/local/lib/python3.10/dist-packages (from requests>=2.19->qiskit-ibmq-provider==0.20.2->qiskit) (2022.12.7)\n",
            "Requirement already satisfied: ntlm-auth>=1.0.2 in /usr/local/lib/python3.10/dist-packages (from requests-ntlm<=1.1.0->qiskit-ibmq-provider==0.20.2->qiskit) (1.5.0)\n",
            "Requirement already satisfied: cryptography>=1.3 in /usr/local/lib/python3.10/dist-packages (from requests-ntlm<=1.1.0->qiskit-ibmq-provider==0.20.2->qiskit) (40.0.2)\n",
            "Requirement already satisfied: pbr!=2.1.0,>=2.0.0 in /usr/local/lib/python3.10/dist-packages (from stevedore>=3.0.0->qiskit-terra==0.24.0->qiskit) (5.11.1)\n",
            "Requirement already satisfied: mpmath>=0.19 in /usr/local/lib/python3.10/dist-packages (from sympy>=1.3->qiskit-terra==0.24.0->qiskit) (1.3.0)\n",
            "Requirement already satisfied: cffi>=1.12 in /usr/local/lib/python3.10/dist-packages (from cryptography>=1.3->requests-ntlm<=1.1.0->qiskit-ibmq-provider==0.20.2->qiskit) (1.15.1)\n",
            "Requirement already satisfied: pycparser in /usr/local/lib/python3.10/dist-packages (from cffi>=1.12->cryptography>=1.3->requests-ntlm<=1.1.0->qiskit-ibmq-provider==0.20.2->qiskit) (2.21)\n"
          ]
        }
      ]
    },
    {
      "cell_type": "code",
      "source": [
        "pip install qtcodes"
      ],
      "metadata": {
        "colab": {
          "base_uri": "https://localhost:8080/"
        },
        "id": "_95RDRnn2BSK",
        "outputId": "0c34c14b-112a-4377-a1fa-6cb2c1ec9469"
      },
      "execution_count": null,
      "outputs": [
        {
          "output_type": "stream",
          "name": "stdout",
          "text": [
            "Looking in indexes: https://pypi.org/simple, https://us-python.pkg.dev/colab-wheels/public/simple/\n",
            "Requirement already satisfied: qtcodes in /usr/local/lib/python3.10/dist-packages (0.2.0)\n",
            "Requirement already satisfied: numpy in /usr/local/lib/python3.10/dist-packages (from qtcodes) (1.22.4)\n",
            "Requirement already satisfied: matplotlib>=3.3.0 in /usr/local/lib/python3.10/dist-packages (from qtcodes) (3.7.1)\n",
            "Requirement already satisfied: retworkx>=0.10.0 in /usr/local/lib/python3.10/dist-packages (from qtcodes) (0.12.1)\n",
            "Requirement already satisfied: qiskit in /usr/local/lib/python3.10/dist-packages (from qtcodes) (0.43.0)\n",
            "Requirement already satisfied: tqdm in /usr/local/lib/python3.10/dist-packages (from qtcodes) (4.65.0)\n",
            "Requirement already satisfied: pylatexenc in /usr/local/lib/python3.10/dist-packages (from qtcodes) (2.10)\n",
            "Requirement already satisfied: IPython in /usr/local/lib/python3.10/dist-packages (from qtcodes) (7.34.0)\n",
            "Requirement already satisfied: contourpy>=1.0.1 in /usr/local/lib/python3.10/dist-packages (from matplotlib>=3.3.0->qtcodes) (1.0.7)\n",
            "Requirement already satisfied: cycler>=0.10 in /usr/local/lib/python3.10/dist-packages (from matplotlib>=3.3.0->qtcodes) (0.11.0)\n",
            "Requirement already satisfied: fonttools>=4.22.0 in /usr/local/lib/python3.10/dist-packages (from matplotlib>=3.3.0->qtcodes) (4.39.3)\n",
            "Requirement already satisfied: kiwisolver>=1.0.1 in /usr/local/lib/python3.10/dist-packages (from matplotlib>=3.3.0->qtcodes) (1.4.4)\n",
            "Requirement already satisfied: packaging>=20.0 in /usr/local/lib/python3.10/dist-packages (from matplotlib>=3.3.0->qtcodes) (23.1)\n",
            "Requirement already satisfied: pillow>=6.2.0 in /usr/local/lib/python3.10/dist-packages (from matplotlib>=3.3.0->qtcodes) (8.4.0)\n",
            "Requirement already satisfied: pyparsing>=2.3.1 in /usr/local/lib/python3.10/dist-packages (from matplotlib>=3.3.0->qtcodes) (3.0.9)\n",
            "Requirement already satisfied: python-dateutil>=2.7 in /usr/local/lib/python3.10/dist-packages (from matplotlib>=3.3.0->qtcodes) (2.8.2)\n",
            "Requirement already satisfied: rustworkx==0.12.1 in /usr/local/lib/python3.10/dist-packages (from retworkx>=0.10.0->qtcodes) (0.12.1)\n",
            "Requirement already satisfied: setuptools>=18.5 in /usr/local/lib/python3.10/dist-packages (from IPython->qtcodes) (67.7.2)\n",
            "Requirement already satisfied: jedi>=0.16 in /usr/local/lib/python3.10/dist-packages (from IPython->qtcodes) (0.18.2)\n",
            "Requirement already satisfied: decorator in /usr/local/lib/python3.10/dist-packages (from IPython->qtcodes) (4.4.2)\n",
            "Requirement already satisfied: pickleshare in /usr/local/lib/python3.10/dist-packages (from IPython->qtcodes) (0.7.5)\n",
            "Requirement already satisfied: traitlets>=4.2 in /usr/local/lib/python3.10/dist-packages (from IPython->qtcodes) (5.7.1)\n",
            "Requirement already satisfied: prompt-toolkit!=3.0.0,!=3.0.1,<3.1.0,>=2.0.0 in /usr/local/lib/python3.10/dist-packages (from IPython->qtcodes) (3.0.38)\n",
            "Requirement already satisfied: pygments in /usr/local/lib/python3.10/dist-packages (from IPython->qtcodes) (2.14.0)\n",
            "Requirement already satisfied: backcall in /usr/local/lib/python3.10/dist-packages (from IPython->qtcodes) (0.2.0)\n",
            "Requirement already satisfied: matplotlib-inline in /usr/local/lib/python3.10/dist-packages (from IPython->qtcodes) (0.1.6)\n",
            "Requirement already satisfied: pexpect>4.3 in /usr/local/lib/python3.10/dist-packages (from IPython->qtcodes) (4.8.0)\n",
            "Requirement already satisfied: qiskit-terra==0.24.0 in /usr/local/lib/python3.10/dist-packages (from qiskit->qtcodes) (0.24.0)\n",
            "Requirement already satisfied: qiskit-aer==0.12.0 in /usr/local/lib/python3.10/dist-packages (from qiskit->qtcodes) (0.12.0)\n",
            "Requirement already satisfied: qiskit-ibmq-provider==0.20.2 in /usr/local/lib/python3.10/dist-packages (from qiskit->qtcodes) (0.20.2)\n",
            "Requirement already satisfied: scipy>=1.0 in /usr/local/lib/python3.10/dist-packages (from qiskit-aer==0.12.0->qiskit->qtcodes) (1.10.1)\n",
            "Requirement already satisfied: requests>=2.19 in /usr/local/lib/python3.10/dist-packages (from qiskit-ibmq-provider==0.20.2->qiskit->qtcodes) (2.30.0)\n",
            "Requirement already satisfied: requests-ntlm<=1.1.0 in /usr/local/lib/python3.10/dist-packages (from qiskit-ibmq-provider==0.20.2->qiskit->qtcodes) (1.1.0)\n",
            "Requirement already satisfied: urllib3>=1.21.1 in /usr/local/lib/python3.10/dist-packages (from qiskit-ibmq-provider==0.20.2->qiskit->qtcodes) (1.26.15)\n",
            "Requirement already satisfied: websocket-client>=1.5.1 in /usr/local/lib/python3.10/dist-packages (from qiskit-ibmq-provider==0.20.2->qiskit->qtcodes) (1.5.1)\n",
            "Requirement already satisfied: websockets>=10.0 in /usr/local/lib/python3.10/dist-packages (from qiskit-ibmq-provider==0.20.2->qiskit->qtcodes) (11.0.3)\n",
            "Requirement already satisfied: ply>=3.10 in /usr/local/lib/python3.10/dist-packages (from qiskit-terra==0.24.0->qiskit->qtcodes) (3.11)\n",
            "Requirement already satisfied: psutil>=5 in /usr/local/lib/python3.10/dist-packages (from qiskit-terra==0.24.0->qiskit->qtcodes) (5.9.5)\n",
            "Requirement already satisfied: sympy>=1.3 in /usr/local/lib/python3.10/dist-packages (from qiskit-terra==0.24.0->qiskit->qtcodes) (1.11.1)\n",
            "Requirement already satisfied: dill>=0.3 in /usr/local/lib/python3.10/dist-packages (from qiskit-terra==0.24.0->qiskit->qtcodes) (0.3.6)\n",
            "Requirement already satisfied: stevedore>=3.0.0 in /usr/local/lib/python3.10/dist-packages (from qiskit-terra==0.24.0->qiskit->qtcodes) (5.0.0)\n",
            "Requirement already satisfied: symengine<0.10,>=0.9 in /usr/local/lib/python3.10/dist-packages (from qiskit-terra==0.24.0->qiskit->qtcodes) (0.9.2)\n",
            "Requirement already satisfied: parso<0.9.0,>=0.8.0 in /usr/local/lib/python3.10/dist-packages (from jedi>=0.16->IPython->qtcodes) (0.8.3)\n",
            "Requirement already satisfied: ptyprocess>=0.5 in /usr/local/lib/python3.10/dist-packages (from pexpect>4.3->IPython->qtcodes) (0.7.0)\n",
            "Requirement already satisfied: wcwidth in /usr/local/lib/python3.10/dist-packages (from prompt-toolkit!=3.0.0,!=3.0.1,<3.1.0,>=2.0.0->IPython->qtcodes) (0.2.6)\n",
            "Requirement already satisfied: six>=1.5 in /usr/local/lib/python3.10/dist-packages (from python-dateutil>=2.7->matplotlib>=3.3.0->qtcodes) (1.16.0)\n",
            "Requirement already satisfied: charset-normalizer<4,>=2 in /usr/local/lib/python3.10/dist-packages (from requests>=2.19->qiskit-ibmq-provider==0.20.2->qiskit->qtcodes) (2.0.12)\n",
            "Requirement already satisfied: idna<4,>=2.5 in /usr/local/lib/python3.10/dist-packages (from requests>=2.19->qiskit-ibmq-provider==0.20.2->qiskit->qtcodes) (3.4)\n",
            "Requirement already satisfied: certifi>=2017.4.17 in /usr/local/lib/python3.10/dist-packages (from requests>=2.19->qiskit-ibmq-provider==0.20.2->qiskit->qtcodes) (2022.12.7)\n",
            "Requirement already satisfied: ntlm-auth>=1.0.2 in /usr/local/lib/python3.10/dist-packages (from requests-ntlm<=1.1.0->qiskit-ibmq-provider==0.20.2->qiskit->qtcodes) (1.5.0)\n",
            "Requirement already satisfied: cryptography>=1.3 in /usr/local/lib/python3.10/dist-packages (from requests-ntlm<=1.1.0->qiskit-ibmq-provider==0.20.2->qiskit->qtcodes) (40.0.2)\n",
            "Requirement already satisfied: pbr!=2.1.0,>=2.0.0 in /usr/local/lib/python3.10/dist-packages (from stevedore>=3.0.0->qiskit-terra==0.24.0->qiskit->qtcodes) (5.11.1)\n",
            "Requirement already satisfied: mpmath>=0.19 in /usr/local/lib/python3.10/dist-packages (from sympy>=1.3->qiskit-terra==0.24.0->qiskit->qtcodes) (1.3.0)\n",
            "Requirement already satisfied: cffi>=1.12 in /usr/local/lib/python3.10/dist-packages (from cryptography>=1.3->requests-ntlm<=1.1.0->qiskit-ibmq-provider==0.20.2->qiskit->qtcodes) (1.15.1)\n",
            "Requirement already satisfied: pycparser in /usr/local/lib/python3.10/dist-packages (from cffi>=1.12->cryptography>=1.3->requests-ntlm<=1.1.0->qiskit-ibmq-provider==0.20.2->qiskit->qtcodes) (2.21)\n"
          ]
        }
      ]
    },
    {
      "cell_type": "markdown",
      "source": [
        "# Introduction to repetition code"
      ],
      "metadata": {
        "id": "VYTerqBNBNe9"
      }
    },
    {
      "cell_type": "markdown",
      "source": [
        "### The basics of error correction"
      ],
      "metadata": {
        "id": "GtzpG_ZK8NUX"
      }
    },
    {
      "cell_type": "code",
      "source": [
        "p1 = 0.01\n",
        "p3 = 3 * p1**2 * (1-p1) + p1**3 # probability of 2 or 3 errors\n",
        "print('Probability of a single reply being garbled: {}'.format(p1))\n",
        "print('Probability of a the majority of three replies being garbled: {:.4f}'.format(p3))"
      ],
      "metadata": {
        "colab": {
          "base_uri": "https://localhost:8080/"
        },
        "id": "C1jrRqOU0HKP",
        "outputId": "00f8b5c1-9e70-4f66-891f-e465355d65c0"
      },
      "execution_count": null,
      "outputs": [
        {
          "output_type": "stream",
          "name": "stdout",
          "text": [
            "Probability of a single reply being garbled: 0.01\n",
            "Probability of a the majority of three replies being garbled: 0.0003\n"
          ]
        }
      ]
    },
    {
      "cell_type": "markdown",
      "source": [
        "### Correcting errors in qubit"
      ],
      "metadata": {
        "id": "VQql5vFw0gRF"
      }
    },
    {
      "cell_type": "code",
      "source": [
        "from qiskit.providers.aer.noise import NoiseModel\n",
        "from qiskit.providers.aer.noise.errors import pauli_error, depolarizing_error\n",
        "\n",
        "def get_noise(p_meas,p_gate):\n",
        "\n",
        "    error_meas = pauli_error([('X',p_meas), ('I', 1 - p_meas)])\n",
        "    error_gate1 = depolarizing_error(p_gate, 1)\n",
        "    error_gate2 = error_gate1.tensor(error_gate1)\n",
        "\n",
        "    noise_model = NoiseModel()\n",
        "    noise_model.add_all_qubit_quantum_error(error_meas, \"measure\") # measurement error is applied to measurements\n",
        "    noise_model.add_all_qubit_quantum_error(error_gate1, [\"x\"]) # single qubit gate error is applied to x gates\n",
        "    noise_model.add_all_qubit_quantum_error(error_gate2, [\"cx\"]) # two qubit gate error is applied to cx gates\n",
        "        \n",
        "    return noise_model"
      ],
      "metadata": {
        "id": "tLiE05Wx0ZbG"
      },
      "execution_count": null,
      "outputs": []
    },
    {
      "cell_type": "code",
      "source": [
        "noise_model = get_noise(0.01,0.01)"
      ],
      "metadata": {
        "id": "bzVaiz0U0jS9"
      },
      "execution_count": null,
      "outputs": []
    },
    {
      "cell_type": "code",
      "source": [
        "from qiskit import QuantumCircuit, execute, Aer\n",
        "\n",
        "qc0 = QuantumCircuit(3,3,name='0') # initialize circuit with three qubits in the 0 state\n",
        "\n",
        "qc0.measure(qc0.qregs[0],qc0.cregs[0]) # measure the qubits\n",
        "\n",
        "# run the circuit with the noise model and extract the counts\n",
        "counts = execute( qc0, Aer.get_backend('qasm_simulator'),noise_model=noise_model).result().get_counts()\n",
        "\n",
        "print(counts)"
      ],
      "metadata": {
        "colab": {
          "base_uri": "https://localhost:8080/"
        },
        "id": "y355aTzY06zu",
        "outputId": "fb538ee3-772a-40d9-80f0-c3c61950a690"
      },
      "execution_count": null,
      "outputs": [
        {
          "output_type": "stream",
          "name": "stdout",
          "text": [
            "{'100': 9, '001': 7, '010': 10, '000': 998}\n"
          ]
        }
      ]
    },
    {
      "cell_type": "code",
      "source": [
        "qc1 = QuantumCircuit(3, 3, name='0') # initialize circuit with three qubits in the 0 state\n",
        "qc1.x(qc1.qregs[0]) # flip each 0 to 1\n",
        "\n",
        "qc1.measure(qc1.qregs[0],qc1.cregs[0]) # measure the qubits\n",
        "\n",
        "# run the circuit with th noise model and extract the counts\n",
        "counts = execute(qc1, Aer.get_backend('qasm_simulator'),noise_model=noise_model).result().get_counts()\n",
        "\n",
        "print(counts)"
      ],
      "metadata": {
        "colab": {
          "base_uri": "https://localhost:8080/"
        },
        "id": "k5Lwarmz09b0",
        "outputId": "eec24b5d-5b6e-4b3a-af4e-988401f1b54a"
      },
      "execution_count": null,
      "outputs": [
        {
          "output_type": "stream",
          "name": "stdout",
          "text": [
            "{'101': 13, '011': 19, '111': 978, '110': 14}\n"
          ]
        }
      ]
    },
    {
      "cell_type": "code",
      "source": [
        "noise_model = get_noise(0.5,0.0)\n",
        "counts = execute(qc1, Aer.get_backend('qasm_simulator'),noise_model=noise_model).result().get_counts()\n",
        "print(counts)"
      ],
      "metadata": {
        "colab": {
          "base_uri": "https://localhost:8080/"
        },
        "id": "PXXE25cS1Chj",
        "outputId": "fd3009ee-f152-4845-8040-0ed29856cfa7"
      },
      "execution_count": null,
      "outputs": [
        {
          "output_type": "stream",
          "name": "stdout",
          "text": [
            "{'100': 119, '110': 135, '101': 123, '111': 113, '011': 137, '001': 144, '010': 129, '000': 124}\n"
          ]
        }
      ]
    },
    {
      "cell_type": "markdown",
      "source": [
        "### Storing qubit"
      ],
      "metadata": {
        "id": "wHk8rstP1MJ7"
      }
    },
    {
      "cell_type": "code",
      "source": [
        "from qiskit import QuantumRegister, ClassicalRegister\n",
        "\n",
        "cq = QuantumRegister(2, 'code_qubit')\n",
        "lq = QuantumRegister(1, 'ancilla_qubit')\n",
        "sb = ClassicalRegister(1, 'syndrome_bit')\n",
        "qc = QuantumCircuit(cq, lq, sb)\n",
        "qc.cx(cq[0], lq[0])\n",
        "qc.cx(cq[1], lq[0])\n",
        "qc.measure(lq, sb)\n",
        "qc.draw()"
      ],
      "metadata": {
        "colab": {
          "base_uri": "https://localhost:8080/",
          "height": 155
        },
        "id": "Gse5010W1JMn",
        "outputId": "a402670c-afe7-40ad-8b80-8e59a36cf982"
      },
      "execution_count": null,
      "outputs": [
        {
          "output_type": "execute_result",
          "data": {
            "text/plain": [
              "                             \n",
              "  code_qubit_0: ──■──────────\n",
              "                  │          \n",
              "  code_qubit_1: ──┼────■─────\n",
              "                ┌─┴─┐┌─┴─┐┌─┐\n",
              " ancilla_qubit: ┤ X ├┤ X ├┤M├\n",
              "                └───┘└───┘└╥┘\n",
              "syndrome_bit: 1/═══════════╩═\n",
              "                           0 "
            ],
            "text/html": [
              "<pre style=\"word-wrap: normal;white-space: pre;background: #fff0;line-height: 1.1;font-family: &quot;Courier New&quot;,Courier,monospace\">                             \n",
              "  code_qubit_0: ──■──────────\n",
              "                  │          \n",
              "  code_qubit_1: ──┼────■─────\n",
              "                ┌─┴─┐┌─┴─┐┌─┐\n",
              " ancilla_qubit: ┤ X ├┤ X ├┤M├\n",
              "                └───┘└───┘└╥┘\n",
              "syndrome_bit: 1/═══════════╩═\n",
              "                           0 </pre>"
            ]
          },
          "metadata": {},
          "execution_count": 40
        }
      ]
    },
    {
      "cell_type": "code",
      "source": [
        "qc_init = QuantumCircuit(cq, lq, sb)\n",
        "\n",
        "qc_init.compose(qc).draw()"
      ],
      "metadata": {
        "colab": {
          "base_uri": "https://localhost:8080/",
          "height": 155
        },
        "id": "4p9SmCZ21OKX",
        "outputId": "2223096f-df23-4c69-cc39-9379dc10bc8f"
      },
      "execution_count": null,
      "outputs": [
        {
          "output_type": "execute_result",
          "data": {
            "text/plain": [
              "                             \n",
              "  code_qubit_0: ──■──────────\n",
              "                  │          \n",
              "  code_qubit_1: ──┼────■─────\n",
              "                ┌─┴─┐┌─┴─┐┌─┐\n",
              " ancilla_qubit: ┤ X ├┤ X ├┤M├\n",
              "                └───┘└───┘└╥┘\n",
              "syndrome_bit: 1/═══════════╩═\n",
              "                           0 "
            ],
            "text/html": [
              "<pre style=\"word-wrap: normal;white-space: pre;background: #fff0;line-height: 1.1;font-family: &quot;Courier New&quot;,Courier,monospace\">                             \n",
              "  code_qubit_0: ──■──────────\n",
              "                  │          \n",
              "  code_qubit_1: ──┼────■─────\n",
              "                ┌─┴─┐┌─┴─┐┌─┐\n",
              " ancilla_qubit: ┤ X ├┤ X ├┤M├\n",
              "                └───┘└───┘└╥┘\n",
              "syndrome_bit: 1/═══════════╩═\n",
              "                           0 </pre>"
            ]
          },
          "metadata": {},
          "execution_count": 41
        }
      ]
    },
    {
      "cell_type": "code",
      "source": [
        "counts = execute(qc_init.compose(qc), Aer.get_backend('qasm_simulator')).result().get_counts()\n",
        "print('Results:', counts)"
      ],
      "metadata": {
        "colab": {
          "base_uri": "https://localhost:8080/"
        },
        "id": "La80POTz1QBv",
        "outputId": "bba1ee4e-8a4d-4ff3-de0b-ebfa74311aad"
      },
      "execution_count": null,
      "outputs": [
        {
          "output_type": "stream",
          "name": "stdout",
          "text": [
            "Results: {'0': 1024}\n"
          ]
        }
      ]
    },
    {
      "cell_type": "code",
      "source": [
        "qc_init = QuantumCircuit(cq, lq, sb)\n",
        "qc_init.x(cq)\n",
        "\n",
        "qc_init.compose(qc).draw()"
      ],
      "metadata": {
        "colab": {
          "base_uri": "https://localhost:8080/",
          "height": 155
        },
        "id": "3S8G8K0K1Twe",
        "outputId": "45df2c3e-5c36-4e2f-885b-4f4a294ecd13"
      },
      "execution_count": null,
      "outputs": [
        {
          "output_type": "execute_result",
          "data": {
            "text/plain": [
              "                ┌───┐             \n",
              "  code_qubit_0: ┤ X ├──■──────────\n",
              "                ├───┤  │          \n",
              "  code_qubit_1: ┤ X ├──┼────■─────\n",
              "                └───┘┌─┴─┐┌─┴─┐┌─┐\n",
              " ancilla_qubit: ─────┤ X ├┤ X ├┤M├\n",
              "                     └───┘└───┘└╥┘\n",
              "syndrome_bit: 1/════════════════╩═\n",
              "                                0 "
            ],
            "text/html": [
              "<pre style=\"word-wrap: normal;white-space: pre;background: #fff0;line-height: 1.1;font-family: &quot;Courier New&quot;,Courier,monospace\">                ┌───┐             \n",
              "  code_qubit_0: ┤ X ├──■──────────\n",
              "                ├───┤  │          \n",
              "  code_qubit_1: ┤ X ├──┼────■─────\n",
              "                └───┘┌─┴─┐┌─┴─┐┌─┐\n",
              " ancilla_qubit: ─────┤ X ├┤ X ├┤M├\n",
              "                     └───┘└───┘└╥┘\n",
              "syndrome_bit: 1/════════════════╩═\n",
              "                                0 </pre>"
            ]
          },
          "metadata": {},
          "execution_count": 43
        }
      ]
    },
    {
      "cell_type": "code",
      "source": [
        "counts = execute(qc_init.compose(qc), Aer.get_backend('qasm_simulator')).result().get_counts()\n",
        "print('Results:', counts)"
      ],
      "metadata": {
        "colab": {
          "base_uri": "https://localhost:8080/"
        },
        "id": "-gsMW7Zv1Vqa",
        "outputId": "7c520878-1fee-4ae1-f1d5-d00dad2b52d0"
      },
      "execution_count": null,
      "outputs": [
        {
          "output_type": "stream",
          "name": "stdout",
          "text": [
            "Results: {'0': 1024}\n"
          ]
        }
      ]
    },
    {
      "cell_type": "code",
      "source": [
        "qc_init = QuantumCircuit(cq, lq, sb)\n",
        "qc_init.h(cq[0])\n",
        "qc_init.cx(cq[0], cq[1])\n",
        "\n",
        "qc_init.compose(qc).draw()"
      ],
      "metadata": {
        "colab": {
          "base_uri": "https://localhost:8080/",
          "height": 155
        },
        "id": "EfiqW-Da1YdY",
        "outputId": "ad95fd5b-3b07-48cb-ea07-1d6afc41d994"
      },
      "execution_count": null,
      "outputs": [
        {
          "output_type": "execute_result",
          "data": {
            "text/plain": [
              "                ┌───┐                  \n",
              "  code_qubit_0: ┤ H ├──■────■──────────\n",
              "                └───┘┌─┴─┐  │          \n",
              "  code_qubit_1: ─────┤ X ├──┼────■─────\n",
              "                     └───┘┌─┴─┐┌─┴─┐┌─┐\n",
              " ancilla_qubit: ──────────┤ X ├┤ X ├┤M├\n",
              "                          └───┘└───┘└╥┘\n",
              "syndrome_bit: 1/═════════════════════╩═\n",
              "                                     0 "
            ],
            "text/html": [
              "<pre style=\"word-wrap: normal;white-space: pre;background: #fff0;line-height: 1.1;font-family: &quot;Courier New&quot;,Courier,monospace\">                ┌───┐                  \n",
              "  code_qubit_0: ┤ H ├──■────■──────────\n",
              "                └───┘┌─┴─┐  │          \n",
              "  code_qubit_1: ─────┤ X ├──┼────■─────\n",
              "                     └───┘┌─┴─┐┌─┴─┐┌─┐\n",
              " ancilla_qubit: ──────────┤ X ├┤ X ├┤M├\n",
              "                          └───┘└───┘└╥┘\n",
              "syndrome_bit: 1/═════════════════════╩═\n",
              "                                     0 </pre>"
            ]
          },
          "metadata": {},
          "execution_count": 45
        }
      ]
    },
    {
      "cell_type": "code",
      "source": [
        "counts = execute(qc_init.compose(qc), Aer.get_backend('qasm_simulator')).result().get_counts()\n",
        "print('Results:', counts)"
      ],
      "metadata": {
        "colab": {
          "base_uri": "https://localhost:8080/"
        },
        "id": "Kn_kMg051fHa",
        "outputId": "130cf17a-f0b5-4190-87f0-d76eb9dcb990"
      },
      "execution_count": null,
      "outputs": [
        {
          "output_type": "stream",
          "name": "stdout",
          "text": [
            "Results: {'0': 1024}\n"
          ]
        }
      ]
    },
    {
      "cell_type": "code",
      "source": [
        "qc_init = QuantumCircuit(cq, lq, sb)\n",
        "qc_init.h(cq[0])\n",
        "qc_init.cx(cq[0],cq[1])\n",
        "qc_init.x(cq[0])\n",
        "\n",
        "qc_init.compose(qc).draw()"
      ],
      "metadata": {
        "colab": {
          "base_uri": "https://localhost:8080/",
          "height": 155
        },
        "id": "1ILRMklL1iHC",
        "outputId": "10df9a48-64c1-4eea-8ba7-9ab8c812028f"
      },
      "execution_count": null,
      "outputs": [
        {
          "output_type": "execute_result",
          "data": {
            "text/plain": [
              "                ┌───┐     ┌───┐             \n",
              "  code_qubit_0: ┤ H ├──■──┤ X ├──■──────────\n",
              "                └───┘┌─┴─┐└───┘  │          \n",
              "  code_qubit_1: ─────┤ X ├───────┼────■─────\n",
              "                     └───┘     ┌─┴─┐┌─┴─┐┌─┐\n",
              " ancilla_qubit: ───────────────┤ X ├┤ X ├┤M├\n",
              "                               └───┘└───┘└╥┘\n",
              "syndrome_bit: 1/══════════════════════════╩═\n",
              "                                          0 "
            ],
            "text/html": [
              "<pre style=\"word-wrap: normal;white-space: pre;background: #fff0;line-height: 1.1;font-family: &quot;Courier New&quot;,Courier,monospace\">                ┌───┐     ┌───┐             \n",
              "  code_qubit_0: ┤ H ├──■──┤ X ├──■──────────\n",
              "                └───┘┌─┴─┐└───┘  │          \n",
              "  code_qubit_1: ─────┤ X ├───────┼────■─────\n",
              "                     └───┘     ┌─┴─┐┌─┴─┐┌─┐\n",
              " ancilla_qubit: ───────────────┤ X ├┤ X ├┤M├\n",
              "                               └───┘└───┘└╥┘\n",
              "syndrome_bit: 1/══════════════════════════╩═\n",
              "                                          0 </pre>"
            ]
          },
          "metadata": {},
          "execution_count": 47
        }
      ]
    },
    {
      "cell_type": "code",
      "source": [
        "counts = execute(qc_init.compose(qc), Aer.get_backend('qasm_simulator')).result().get_counts()\n",
        "print('Results:',counts)"
      ],
      "metadata": {
        "colab": {
          "base_uri": "https://localhost:8080/"
        },
        "id": "O_i9-if41ogl",
        "outputId": "73a8b118-e888-4e60-fae1-6673d02d98df"
      },
      "execution_count": null,
      "outputs": [
        {
          "output_type": "stream",
          "name": "stdout",
          "text": [
            "Results: {'1': 1024}\n"
          ]
        }
      ]
    },
    {
      "cell_type": "markdown",
      "source": [
        "### Quantum repetition code"
      ],
      "metadata": {
        "id": "-cd1yvtP1san"
      }
    },
    {
      "cell_type": "code",
      "source": [
        "from qiskit import *"
      ],
      "metadata": {
        "id": "To-_tyZo1qX6"
      },
      "execution_count": null,
      "outputs": []
    },
    {
      "cell_type": "code",
      "source": [
        "pip install qiskit-ignis"
      ],
      "metadata": {
        "colab": {
          "base_uri": "https://localhost:8080/"
        },
        "id": "zHSF6Z_b85-c",
        "outputId": "5e522706-1d82-4600-f456-f2da8581d426"
      },
      "execution_count": null,
      "outputs": [
        {
          "output_type": "stream",
          "name": "stdout",
          "text": [
            "Looking in indexes: https://pypi.org/simple, https://us-python.pkg.dev/colab-wheels/public/simple/\n",
            "Requirement already satisfied: qiskit-ignis in /usr/local/lib/python3.10/dist-packages (0.7.1)\n",
            "Requirement already satisfied: numpy>=1.13 in /usr/local/lib/python3.10/dist-packages (from qiskit-ignis) (1.22.4)\n",
            "Requirement already satisfied: qiskit-terra>=0.15.1 in /usr/local/lib/python3.10/dist-packages (from qiskit-ignis) (0.24.0)\n",
            "Requirement already satisfied: retworkx>=0.8.0 in /usr/local/lib/python3.10/dist-packages (from qiskit-ignis) (0.12.1)\n",
            "Requirement already satisfied: scipy!=0.19.1,>=0.19 in /usr/local/lib/python3.10/dist-packages (from qiskit-ignis) (1.10.1)\n",
            "Requirement already satisfied: setuptools>=40.1.0 in /usr/local/lib/python3.10/dist-packages (from qiskit-ignis) (67.7.2)\n",
            "Requirement already satisfied: rustworkx>=0.12.0 in /usr/local/lib/python3.10/dist-packages (from qiskit-terra>=0.15.1->qiskit-ignis) (0.12.1)\n",
            "Requirement already satisfied: ply>=3.10 in /usr/local/lib/python3.10/dist-packages (from qiskit-terra>=0.15.1->qiskit-ignis) (3.11)\n",
            "Requirement already satisfied: psutil>=5 in /usr/local/lib/python3.10/dist-packages (from qiskit-terra>=0.15.1->qiskit-ignis) (5.9.5)\n",
            "Requirement already satisfied: sympy>=1.3 in /usr/local/lib/python3.10/dist-packages (from qiskit-terra>=0.15.1->qiskit-ignis) (1.11.1)\n",
            "Requirement already satisfied: dill>=0.3 in /usr/local/lib/python3.10/dist-packages (from qiskit-terra>=0.15.1->qiskit-ignis) (0.3.6)\n",
            "Requirement already satisfied: python-dateutil>=2.8.0 in /usr/local/lib/python3.10/dist-packages (from qiskit-terra>=0.15.1->qiskit-ignis) (2.8.2)\n",
            "Requirement already satisfied: stevedore>=3.0.0 in /usr/local/lib/python3.10/dist-packages (from qiskit-terra>=0.15.1->qiskit-ignis) (5.0.0)\n",
            "Requirement already satisfied: symengine<0.10,>=0.9 in /usr/local/lib/python3.10/dist-packages (from qiskit-terra>=0.15.1->qiskit-ignis) (0.9.2)\n",
            "Requirement already satisfied: six>=1.5 in /usr/local/lib/python3.10/dist-packages (from python-dateutil>=2.8.0->qiskit-terra>=0.15.1->qiskit-ignis) (1.16.0)\n",
            "Requirement already satisfied: pbr!=2.1.0,>=2.0.0 in /usr/local/lib/python3.10/dist-packages (from stevedore>=3.0.0->qiskit-terra>=0.15.1->qiskit-ignis) (5.11.1)\n",
            "Requirement already satisfied: mpmath>=0.19 in /usr/local/lib/python3.10/dist-packages (from sympy>=1.3->qiskit-terra>=0.15.1->qiskit-ignis) (1.3.0)\n"
          ]
        }
      ]
    },
    {
      "cell_type": "code",
      "source": [
        "from qiskit.ignis.verification.topological_codes import RepetitionCode\n",
        "from qiskit.ignis.verification.topological_codes import GraphDecoder\n",
        "from qiskit.ignis.verification.topological_codes import lookuptable_decoding, postselection_decoding"
      ],
      "metadata": {
        "colab": {
          "base_uri": "https://localhost:8080/"
        },
        "id": "Q6jlhlSO8X-k",
        "outputId": "e9c33806-0e77-4171-e9e3-b45f4885aa3b"
      },
      "execution_count": null,
      "outputs": [
        {
          "output_type": "stream",
          "name": "stderr",
          "text": [
            "<ipython-input-53-19f403370059>:1: DeprecationWarning: The qiskit.ignis package is deprecated and has been supersceded by the qiskit-experiments project. Refer to the migration guide: https://github.com/Qiskit/qiskit-ignis#migration-guide on how to migrate to the new project.\n",
            "  from qiskit.ignis.verification.topological_codes import RepetitionCode\n"
          ]
        }
      ]
    },
    {
      "cell_type": "code",
      "source": [
        "n = 3\n",
        "T = 1\n",
        "\n",
        "code = RepetitionCode(n, T)"
      ],
      "metadata": {
        "id": "uHHImO-CAgj8"
      },
      "execution_count": null,
      "outputs": []
    },
    {
      "cell_type": "code",
      "source": [
        "code.circuit['0'].draw()"
      ],
      "metadata": {
        "colab": {
          "base_uri": "https://localhost:8080/",
          "height": 248
        },
        "id": "TBYnhbAfAjVx",
        "outputId": "4742e7a4-d930-4a29-a776-1d9036e14a86"
      },
      "execution_count": null,
      "outputs": [
        {
          "output_type": "execute_result",
          "data": {
            "text/plain": [
              "                    ┌───┐     ┌───┐        ┌─┐         \n",
              "      link_qubit_0: ┤ X ├─────┤ X ├────────┤M├─────────\n",
              "                    └─┬─┘┌───┐└─┬─┘┌───┐   └╥┘┌─┐      \n",
              "      link_qubit_1: ──┼──┤ X ├──┼──┤ X ├────╫─┤M├──────\n",
              "                      │  └─┬─┘  │  └─┬─┘┌─┐ ║ └╥┘      \n",
              "      code_qubit_0: ──■────┼────┼────┼──┤M├─╫──╫───────\n",
              "                           │    │    │  └╥┘ ║  ║ ┌─┐   \n",
              "      code_qubit_1: ───────■────■────┼───╫──╫──╫─┤M├───\n",
              "                                     │   ║  ║  ║ └╥┘┌─┐\n",
              "      code_qubit_2: ─────────────────■───╫──╫──╫──╫─┤M├\n",
              "                                         ║  ║  ║  ║ └╥┘\n",
              "round_0_link_bit: 2/═════════════════════╬══╩══╩══╬══╬═\n",
              "                                         ║  0  1  ║  ║ \n",
              "        code_bit: 3/═════════════════════╩════════╩══╩═\n",
              "                                         0        1  2 "
            ],
            "text/html": [
              "<pre style=\"word-wrap: normal;white-space: pre;background: #fff0;line-height: 1.1;font-family: &quot;Courier New&quot;,Courier,monospace\">                    ┌───┐     ┌───┐        ┌─┐         \n",
              "      link_qubit_0: ┤ X ├─────┤ X ├────────┤M├─────────\n",
              "                    └─┬─┘┌───┐└─┬─┘┌───┐   └╥┘┌─┐      \n",
              "      link_qubit_1: ──┼──┤ X ├──┼──┤ X ├────╫─┤M├──────\n",
              "                      │  └─┬─┘  │  └─┬─┘┌─┐ ║ └╥┘      \n",
              "      code_qubit_0: ──■────┼────┼────┼──┤M├─╫──╫───────\n",
              "                           │    │    │  └╥┘ ║  ║ ┌─┐   \n",
              "      code_qubit_1: ───────■────■────┼───╫──╫──╫─┤M├───\n",
              "                                     │   ║  ║  ║ └╥┘┌─┐\n",
              "      code_qubit_2: ─────────────────■───╫──╫──╫──╫─┤M├\n",
              "                                         ║  ║  ║  ║ └╥┘\n",
              "round_0_link_bit: 2/═════════════════════╬══╩══╩══╬══╬═\n",
              "                                         ║  0  1  ║  ║ \n",
              "        code_bit: 3/═════════════════════╩════════╩══╩═\n",
              "                                         0        1  2 </pre>"
            ]
          },
          "metadata": {},
          "execution_count": 67
        }
      ]
    },
    {
      "cell_type": "code",
      "source": [
        "code.circuit['1'].draw()"
      ],
      "metadata": {
        "colab": {
          "base_uri": "https://localhost:8080/",
          "height": 248
        },
        "id": "H0sgNkRAAmcq",
        "outputId": "a2275d32-2c52-4740-8e22-6247e156a93a"
      },
      "execution_count": null,
      "outputs": [
        {
          "output_type": "execute_result",
          "data": {
            "text/plain": [
              "                         ┌───┐     ┌───┐        ┌─┐         \n",
              "      link_qubit_0: ─────┤ X ├─────┤ X ├────────┤M├─────────\n",
              "                         └─┬─┘┌───┐└─┬─┘┌───┐   └╥┘┌─┐      \n",
              "      link_qubit_1: ───────┼──┤ X ├──┼──┤ X ├────╫─┤M├──────\n",
              "                    ┌───┐  │  └─┬─┘  │  └─┬─┘┌─┐ ║ └╥┘      \n",
              "      code_qubit_0: ┤ X ├──■────┼────┼────┼──┤M├─╫──╫───────\n",
              "                    ├───┤       │    │    │  └╥┘ ║  ║ ┌─┐   \n",
              "      code_qubit_1: ┤ X ├───────■────■────┼───╫──╫──╫─┤M├───\n",
              "                    ├───┤                 │   ║  ║  ║ └╥┘┌─┐\n",
              "      code_qubit_2: ┤ X ├─────────────────■───╫──╫──╫──╫─┤M├\n",
              "                    └───┘                     ║  ║  ║  ║ └╥┘\n",
              "round_0_link_bit: 2/══════════════════════════╬══╩══╩══╬══╬═\n",
              "                                              ║  0  1  ║  ║ \n",
              "        code_bit: 3/══════════════════════════╩════════╩══╩═\n",
              "                                              0        1  2 "
            ],
            "text/html": [
              "<pre style=\"word-wrap: normal;white-space: pre;background: #fff0;line-height: 1.1;font-family: &quot;Courier New&quot;,Courier,monospace\">                         ┌───┐     ┌───┐        ┌─┐         \n",
              "      link_qubit_0: ─────┤ X ├─────┤ X ├────────┤M├─────────\n",
              "                         └─┬─┘┌───┐└─┬─┘┌───┐   └╥┘┌─┐      \n",
              "      link_qubit_1: ───────┼──┤ X ├──┼──┤ X ├────╫─┤M├──────\n",
              "                    ┌───┐  │  └─┬─┘  │  └─┬─┘┌─┐ ║ └╥┘      \n",
              "      code_qubit_0: ┤ X ├──■────┼────┼────┼──┤M├─╫──╫───────\n",
              "                    ├───┤       │    │    │  └╥┘ ║  ║ ┌─┐   \n",
              "      code_qubit_1: ┤ X ├───────■────■────┼───╫──╫──╫─┤M├───\n",
              "                    ├───┤                 │   ║  ║  ║ └╥┘┌─┐\n",
              "      code_qubit_2: ┤ X ├─────────────────■───╫──╫──╫──╫─┤M├\n",
              "                    └───┘                     ║  ║  ║  ║ └╥┘\n",
              "round_0_link_bit: 2/══════════════════════════╬══╩══╩══╬══╬═\n",
              "                                              ║  0  1  ║  ║ \n",
              "        code_bit: 3/══════════════════════════╩════════╩══╩═\n",
              "                                              0        1  2 </pre>"
            ]
          },
          "metadata": {},
          "execution_count": 68
        }
      ]
    },
    {
      "cell_type": "code",
      "source": [
        "def get_raw_results(code,noise_model=None):\n",
        "    circuits = code.get_circuit_list()\n",
        "    raw_results = {}\n",
        "    for log in range(2):\n",
        "        job = execute( circuits[log], Aer.get_backend('qasm_simulator'), noise_model=noise_model)\n",
        "        raw_results[str(log)] = job.result().get_counts(str(log))\n",
        "    return raw_results\n",
        "\n",
        "raw_results = get_raw_results(code)\n",
        "for log in raw_results:\n",
        "    print(f'Logical {log}: {raw_results[log]}')"
      ],
      "metadata": {
        "colab": {
          "base_uri": "https://localhost:8080/"
        },
        "id": "kyeT1nxJArjh",
        "outputId": "73dc5ff5-11ef-467e-f6d1-d9b21bd245dc"
      },
      "execution_count": null,
      "outputs": [
        {
          "output_type": "stream",
          "name": "stdout",
          "text": [
            "Logical 0: {'000 00': 1024}\n",
            "Logical 1: {'111 00': 1024}\n"
          ]
        }
      ]
    },
    {
      "cell_type": "code",
      "source": [
        "code = RepetitionCode(n, 4)\n",
        "\n",
        "raw_results = get_raw_results(code)\n",
        "for log in raw_results:\n",
        "    print(f'Logical {log}: {raw_results[log]}')"
      ],
      "metadata": {
        "colab": {
          "base_uri": "https://localhost:8080/"
        },
        "id": "eQsiDw1FBIYc",
        "outputId": "a506bc2d-e31b-419e-e13b-931210537ad7"
      },
      "execution_count": null,
      "outputs": [
        {
          "output_type": "stream",
          "name": "stdout",
          "text": [
            "Logical 0: {'000 00 00 00 00': 1024}\n",
            "Logical 1: {'111 00 00 00 00': 1024}\n"
          ]
        }
      ]
    },
    {
      "cell_type": "code",
      "source": [
        "code = RepetitionCode(5, 4)\n",
        "\n",
        "raw_results = get_raw_results(code)\n",
        "for log in raw_results:\n",
        "    print(f'Logical {log}: {raw_results[log]}')"
      ],
      "metadata": {
        "colab": {
          "base_uri": "https://localhost:8080/"
        },
        "id": "R96ycoJwBQ0V",
        "outputId": "60e6f802-b8f7-4922-db64-f481c330955c"
      },
      "execution_count": null,
      "outputs": [
        {
          "output_type": "stream",
          "name": "stdout",
          "text": [
            "Logical 0: {'00000 0000 0000 0000 0000': 1024}\n",
            "Logical 1: {'11111 0000 0000 0000 0000': 1024}\n"
          ]
        }
      ]
    },
    {
      "cell_type": "markdown",
      "source": [
        "### Lookup table decoding"
      ],
      "metadata": {
        "id": "_S2WMa277HTY"
      }
    },
    {
      "cell_type": "code",
      "source": [
        "code = RepetitionCode(3, 1)\n",
        "\n",
        "noise_model = get_noise(0.05, 0.05)\n",
        "\n",
        "raw_results = get_raw_results(code,noise_model)\n",
        "for log in raw_results:\n",
        "    print(f'Logical {log}: {raw_results[log]}\\n')"
      ],
      "metadata": {
        "colab": {
          "base_uri": "https://localhost:8080/"
        },
        "id": "WVXUov5LAubb",
        "outputId": "b0d95643-545b-419a-a186-65f1c2dc806b"
      },
      "execution_count": null,
      "outputs": [
        {
          "output_type": "stream",
          "name": "stdout",
          "text": [
            "Logical 0: {'011 01': 1, '110 01': 1, '010 11': 1, '011 00': 5, '010 10': 6, '101 00': 2, '000 00': 634, '000 10': 86, '110 11': 1, '100 00': 47, '001 00': 46, '110 00': 3, '101 01': 1, '000 01': 81, '100 10': 5, '010 00': 57, '001 10': 4, '110 10': 1, '010 01': 19, '001 01': 6, '100 01': 10, '000 11': 7}\n",
            "\n",
            "Logical 1: {'000 10': 1, '010 10': 1, '110 11': 1, '100 00': 6, '011 11': 2, '010 01': 2, '001 01': 1, '100 01': 6, '110 10': 3, '011 01': 14, '101 10': 8, '110 01': 21, '111 10': 57, '011 10': 21, '011 00': 52, '101 00': 53, '111 01': 72, '001 11': 2, '111 11': 4, '110 00': 52, '101 01': 17, '100 10': 2, '111 00': 599, '101 11': 17, '010 00': 3, '001 10': 3, '001 00': 4}\n",
            "\n"
          ]
        }
      ]
    },
    {
      "cell_type": "code",
      "source": [
        "circuits = code.get_circuit_list()\n",
        "table_results = {}\n",
        "for log in range(2):\n",
        "    job = execute( circuits[log], Aer.get_backend('qasm_simulator'), noise_model=noise_model, shots=10000 )\n",
        "    table_results[str(log)] = job.result().get_counts(str(log))"
      ],
      "metadata": {
        "id": "_U7b0br7BVy5"
      },
      "execution_count": null,
      "outputs": []
    },
    {
      "cell_type": "code",
      "source": [
        "P = lookuptable_decoding(raw_results, table_results)\n",
        "print('P =', P)"
      ],
      "metadata": {
        "colab": {
          "base_uri": "https://localhost:8080/"
        },
        "id": "DI3ms9kKBZtx",
        "outputId": "5a4e440d-a5a8-4e95-971a-d05d753c5baa"
      },
      "execution_count": null,
      "outputs": [
        {
          "output_type": "stream",
          "name": "stdout",
          "text": [
            "P = {'0': 0.0, '1': 0.0}\n"
          ]
        }
      ]
    },
    {
      "cell_type": "markdown",
      "source": [
        "### Graph theoretic decoding"
      ],
      "metadata": {
        "id": "KAEmZRZK79Xb"
      }
    },
    {
      "cell_type": "code",
      "source": [
        "code = RepetitionCode(3, 2)\n",
        "\n",
        "raw_results = get_raw_results(code, noise_model)\n",
        "\n",
        "results = code.process_results(raw_results)\n",
        "\n",
        "for log in ['0', '1']:\n",
        "    print(f'\\nLogical {log}:')\n",
        "    print('raw results       ', {string:raw_results[log][string] for string in raw_results[log] if raw_results[log][string]>=50 })\n",
        "    print('processed results ', {string:results[log][string] for string in results[log] if results[log][string]>=50 })"
      ],
      "metadata": {
        "colab": {
          "base_uri": "https://localhost:8080/"
        },
        "id": "lA3d63oXBc2e",
        "outputId": "3d4c7d2d-c209-47b3-8b23-0d8c0a9cfdc4"
      },
      "execution_count": null,
      "outputs": [
        {
          "output_type": "stream",
          "name": "stdout",
          "text": [
            "\n",
            "Logical 0:\n",
            "raw results        {'000 01 00': 53, '000 10 10': 54, '000 00 00': 498}\n",
            "processed results  {'0 0  00 01 01': 53, '0 0  10 10 00': 54, '0 0  00 00 00': 498}\n",
            "\n",
            "Logical 1:\n",
            "raw results        {'111 00 00': 468, '111 01 01': 50}\n",
            "processed results  {'1 1  00 00 00': 468, '1 1  01 01 00': 50}\n"
          ]
        }
      ]
    }
  ]
}