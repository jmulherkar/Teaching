{
 "cells": [
  {
   "cell_type": "code",
   "execution_count": null,
   "id": "3a9504c9",
   "metadata": {},
   "outputs": [],
   "source": [
    "# Use Braket SDK Cost Tracking to estimate the cost to run this example\n",
    "from braket.tracking import Tracker\n",
    "t = Tracker().start()"
   ]
  },
  {
   "cell_type": "code",
   "execution_count": 1,
   "id": "af9091de-5ccc-4000-820e-9d39317f4df3",
   "metadata": {
    "tags": []
   },
   "outputs": [],
   "source": [
    "# Soudamini Kidambi: 202003011\n",
    "# Kanishk Menaria: 202003018\n",
    "# Divyansh Jain: 202003047\n",
    "import boto3 #python SDK for Amazon AWS\n",
    "#Importing libraries\n",
    "from braket.circuits import Circuit\n",
    "from braket.aws import AwsDevice\n",
    "from braket.devices import LocalSimulator\n",
    "import numpy as np\n",
    "import matplotlib.pyplot as plt"
   ]
  },
  {
   "cell_type": "code",
   "execution_count": 2,
   "id": "2cddd800-e295-4494-964b-9563e5b9a246",
   "metadata": {
    "tags": []
   },
   "outputs": [],
   "source": [
    "# Initialize the simulator\n",
    "device = LocalSimulator()\n",
    "\n",
    "# Creating function for 3-qubit CNOT gate\n",
    "def three_control_not(circuit):\n",
    "    circuit.ccnot(0, 1, 3)\n",
    "    circuit.ccnot(2, 3, 4)\n",
    "    circuit.cnot(4, 5)\n",
    "    circuit.ccnot(2, 3, 4)\n",
    "    circuit.ccnot(0, 1, 3)\n",
    "    return circuit"
   ]
  },
  {
   "cell_type": "code",
   "execution_count": 3,
   "id": "57636ee3-aad1-4c26-b387-322d8059ba8d",
   "metadata": {
    "tags": []
   },
   "outputs": [
    {
     "name": "stdout",
     "output_type": "stream",
     "text": [
      "Three-Control qubit NOT Gate:\n",
      "\n",
      " T  : |0|1|2|3|4|\n",
      "                \n",
      "q0 : -C-------C-\n",
      "      |       | \n",
      "q1 : -C-------C-\n",
      "      |       | \n",
      "q2 : -|-C---C-|-\n",
      "      | |   | | \n",
      "q3 : -X-C---C-X-\n",
      "        |   |   \n",
      "q4 : ---X-C-X---\n",
      "          |     \n",
      "q5 : -----X-----\n",
      "\n",
      "T  : |0|1|2|3|4|\n"
     ]
    },
    {
     "ename": "AttributeError",
     "evalue": "'Circuit' object has no attribute 'draw'",
     "output_type": "error",
     "traceback": [
      "\u001b[0;31m---------------------------------------------------------------------------\u001b[0m",
      "\u001b[0;31mAttributeError\u001b[0m                            Traceback (most recent call last)",
      "Cell \u001b[0;32mIn[3], line 5\u001b[0m\n\u001b[1;32m      3\u001b[0m circuit \u001b[38;5;241m=\u001b[39m three_control_not(circuit)\n\u001b[1;32m      4\u001b[0m \u001b[38;5;28mprint\u001b[39m(\u001b[38;5;124m\"\u001b[39m\u001b[38;5;124mThree-Control qubit NOT Gate:\u001b[39m\u001b[38;5;130;01m\\n\u001b[39;00m\u001b[38;5;130;01m\\n\u001b[39;00m\u001b[38;5;124m\"\u001b[39m, circuit)\n\u001b[0;32m----> 5\u001b[0m \u001b[43mcircuit\u001b[49m\u001b[38;5;241;43m.\u001b[39;49m\u001b[43mdraw\u001b[49m()\n",
      "\u001b[0;31mAttributeError\u001b[0m: 'Circuit' object has no attribute 'draw'"
     ]
    }
   ],
   "source": [
    "# Print circuit for 3-qubit CNOT gate to check\n",
    "circuit = Circuit()\n",
    "circuit = three_control_not(circuit)\n",
    "print(\"Three-Control qubit NOT Gate:\\n\\n\", circuit)\n",
    "circuit.draw()"
   ]
  },
  {
   "cell_type": "code",
   "execution_count": 4,
   "id": "05fbd313-d150-4cd8-b089-a8b30eeaa79e",
   "metadata": {
    "tags": []
   },
   "outputs": [],
   "source": [
    "# Increment circuit using 3 CNOT, 2 CNOT, and 1 CNOT gate\n",
    "def increment_circuit(circuit):\n",
    "    circuit = three_control_not(circuit)\n",
    "    circuit.ccnot(0, 1, 2)\n",
    "    circuit.cnot(0, 1)\n",
    "    return circuit"
   ]
  },
  {
   "cell_type": "code",
   "execution_count": 5,
   "id": "d9b49d9f-d095-4f14-8e48-13a44275b1d1",
   "metadata": {
    "tags": []
   },
   "outputs": [],
   "source": [
    "# Decrement circuit using 3 CNOT, 2 CNOT, and 1 CNOT gate\n",
    "def decrement_circuit(circuit):\n",
    "    circuit.x([0, 1, 2])\n",
    "    circuit = increment_circuit(circuit)\n",
    "    circuit.x([0, 1, 2])\n",
    "    return circuit"
   ]
  },
  {
   "cell_type": "code",
   "execution_count": 6,
   "id": "247cdada-07b9-4dcc-a6b1-7fde9802b082",
   "metadata": {
    "tags": []
   },
   "outputs": [],
   "source": [
    "# Initialize combined circuit consisting of increment and decrement circuits\n",
    "def init_circuit(init_state):\n",
    "    circuit = Circuit()\n",
    "\n",
    "    # Apply initial state\n",
    "    if init_state[0] == '1':\n",
    "        circuit.x(5)\n",
    "    if init_state[1] == '1':\n",
    "        circuit.x(2)\n",
    "    if init_state[2] == '1':\n",
    "        circuit.x(1)\n",
    "\n",
    "    circuit.h(0)  # Hadamard gate at 0 qubit\n",
    "\n",
    "    circuit = increment_circuit(circuit)\n",
    "    circuit = decrement_circuit(circuit)\n",
    "\n",
    "    return circuit"
   ]
  },
  {
   "cell_type": "code",
   "execution_count": 7,
   "id": "b1564377-b4ac-4193-aaa6-7e1ab47ada7d",
   "metadata": {
    "tags": []
   },
   "outputs": [
    {
     "name": "stdout",
     "output_type": "stream",
     "text": [
      "T  : |0|1|2|3|4|5|6|7|8|9|10|11|12|13|14|15|16|\n",
      "                                               \n",
      "q0 : -H-C-------C-C-C-X-C----------C--C--C--X--\n",
      "        |       | | |   |          |  |  |     \n",
      "q1 : -X-C-------C-C-X-X-C----------C--C--X--X--\n",
      "        |       | |     |          |  |        \n",
      "q2 : -X-|-C---C-|-X-X---|-C-----C--|--X--X-----\n",
      "        | |   | |       | |     |  |           \n",
      "q3 : ---X-C---C-X-------X-C-----C--X-----------\n",
      "          |   |           |     |              \n",
      "q4 : -----X-C-X-----------X--C--X--------------\n",
      "            |                |                 \n",
      "q5 : -------X----------------X-----------------\n",
      "\n",
      "T  : |0|1|2|3|4|5|6|7|8|9|10|11|12|13|14|15|16|\n"
     ]
    }
   ],
   "source": [
    "# Initial state = <q5 q2 q1>, <q3 q4> = extra qubits.\n",
    "# <q0> = controller qubit for increment_circuit and decrement_circuit.\n",
    "init_state = \"011\"\n",
    "circuit = init_circuit(init_state)\n",
    "print(circuit)"
   ]
  },
  {
   "cell_type": "code",
   "execution_count": 8,
   "id": "98bbc559-2f2a-4e0b-91eb-7e5d7809b825",
   "metadata": {
    "tags": []
   },
   "outputs": [],
   "source": [
    "# Initialize the initial state\n",
    "next_state = init_state\n",
    "\n",
    "# Create an empty list to store the path\n",
    "path = []\n",
    "\n",
    "# Repeat the circuit application and measurement process\n",
    "for i in range(1):\n",
    "    # Create an empty list to store the intermediate states\n",
    "    intermediate_path = []\n",
    "\n",
    "    # Apply the circuit and measure the output state 1000 times\n",
    "    for j in range(1000):\n",
    "        # Create a new quantum circuit for the current state\n",
    "        circuit = init_circuit(next_state)\n",
    "\n",
    "        # Run the circuit on the device and get the measurement results\n",
    "        result = device.run(circuit, shots=1).result()\n",
    "        measurement_counts = result.measurement_counts\n",
    "\n",
    "        # Extract the next state from the measurement results\n",
    "        for x in measurement_counts:\n",
    "            next_state = x\n",
    "        next_state = next_state[5] + next_state[2:0:-1]  # Measure the 5th, 2nd, and 1st qubits and store the result\n",
    "\n",
    "        # Append the next state to the intermediate path\n",
    "        intermediate_path.append(next_state)\n",
    "\n",
    "    # Append the intermediate path to the main path\n",
    "    path.append(intermediate_path)"
   ]
  },
  {
   "cell_type": "code",
   "execution_count": 9,
   "id": "91d7ee12-92de-4870-9ebb-ce6d01a45a0a",
   "metadata": {
    "tags": []
   },
   "outputs": [
    {
     "name": "stdout",
     "output_type": "stream",
     "text": [
      "[['010', '001', '010', '011', '010', '011', '010', '011', '010', '001', '000', '001', '000', '111', '000', '001', '010', '011', '010', '001', '010', '011', '100', '011', '100', '101', '110', '101', '100', '101', '110', '101', '100', '101', '100', '011', '010', '001', '010', '001', '010', '011', '100', '101', '100', '101', '110', '111', '000', '111', '000', '001', '000', '111', '000', '001', '010', '011', '010', '011', '100', '011', '010', '011', '100', '101', '100', '101', '100', '101', '100', '101', '110', '111', '000', '111', '000', '001', '010', '001', '010', '001', '000', '111', '000', '111', '000', '001', '000', '111', '110', '111', '000', '111', '000', '111', '110', '101', '100', '101', '100', '011', '010', '011', '100', '101', '100', '011', '100', '101', '100', '101', '110', '111', '110', '101', '110', '101', '100', '011', '100', '101', '110', '111', '000', '001', '010', '011', '100', '011', '010', '011', '100', '101', '110', '111', '000', '001', '000', '001', '000', '001', '010', '011', '010', '011', '100', '101', '100', '101', '100', '101', '110', '111', '000', '001', '000', '001', '000', '001', '000', '001', '000', '111', '000', '111', '110', '111', '110', '101', '110', '111', '000', '111', '110', '111', '000', '001', '010', '001', '010', '001', '010', '011', '100', '101', '100', '101', '110', '111', '000', '111', '110', '111', '110', '111', '000', '111', '000', '001', '000', '001', '000', '111', '110', '111', '110', '101', '100', '011', '100', '101', '110', '101', '100', '101', '100', '011', '010', '001', '010', '011', '010', '011', '010', '001', '000', '111', '000', '111', '000', '111', '110', '101', '100', '011', '100', '101', '100', '101', '110', '101', '100', '101', '110', '111', '110', '101', '110', '111', '110', '101', '110', '111', '110', '101', '110', '101', '110', '111', '000', '001', '000', '111', '000', '001', '010', '001', '000', '001', '000', '111', '000', '111', '000', '001', '010', '001', '010', '011', '010', '001', '000', '001', '000', '111', '000', '111', '110', '101', '100', '101', '100', '011', '100', '011', '100', '101', '110', '111', '000', '001', '010', '001', '010', '001', '000', '001', '010', '011', '010', '011', '010', '011', '010', '011', '010', '011', '010', '011', '010', '011', '010', '011', '100', '101', '100', '011', '010', '001', '000', '001', '010', '011', '100', '011', '010', '011', '100', '101', '110', '111', '110', '111', '110', '101', '100', '101', '110', '111', '110', '111', '110', '101', '110', '101', '100', '101', '110', '101', '100', '101', '100', '101', '100', '101', '100', '101', '110', '111', '110', '111', '110', '111', '000', '001', '000', '001', '010', '011', '010', '001', '000', '111', '110', '101', '100', '011', '010', '011', '100', '011', '010', '001', '010', '011', '010', '011', '100', '011', '100', '101', '100', '101', '110', '111', '110', '101', '100', '011', '010', '011', '100', '011', '100', '011', '100', '011', '010', '001', '010', '011', '100', '011', '100', '101', '110', '101', '100', '101', '100', '101', '110', '111', '110', '111', '000', '001', '010', '011', '010', '001', '000', '001', '000', '001', '010', '001', '000', '001', '010', '011', '100', '101', '110', '111', '110', '101', '110', '111', '000', '111', '110', '101', '110', '101', '100', '101', '100', '101', '100', '011', '100', '101', '100', '101', '100', '101', '110', '101', '110', '111', '000', '111', '000', '111', '000', '111', '000', '001', '000', '111', '000', '001', '000', '001', '010', '011', '100', '101', '100', '101', '100', '011', '010', '011', '010', '011', '010', '001', '010', '001', '000', '111', '110', '101', '100', '101', '100', '101', '100', '011', '010', '001', '000', '111', '000', '001', '000', '001', '010', '011', '100', '101', '110', '101', '100', '101', '100', '011', '010', '011', '010', '011', '100', '011', '100', '101', '110', '101', '100', '101', '110', '111', '110', '101', '110', '101', '100', '101', '110', '111', '000', '111', '110', '111', '110', '101', '100', '101', '110', '101', '100', '101', '100', '011', '100', '101', '110', '101', '110', '101', '110', '101', '110', '111', '000', '001', '010', '001', '010', '011', '010', '001', '010', '001', '000', '001', '010', '011', '010', '001', '000', '001', '000', '001', '000', '111', '000', '111', '000', '001', '000', '001', '010', '011', '010', '001', '010', '011', '010', '011', '010', '001', '000', '001', '010', '001', '010', '001', '000', '111', '110', '111', '000', '111', '110', '101', '110', '111', '000', '111', '000', '001', '010', '011', '100', '011', '010', '001', '010', '011', '100', '011', '010', '001', '010', '001', '010', '011', '100', '101', '110', '111', '000', '111', '000', '001', '000', '111', '000', '001', '000', '111', '110', '101', '110', '101', '110', '111', '000', '001', '010', '001', '010', '011', '100', '101', '110', '111', '000', '111', '000', '001', '010', '011', '100', '011', '100', '011', '100', '101', '110', '101', '100', '011', '010', '001', '010', '011', '100', '011', '010', '001', '010', '011', '100', '101', '100', '101', '110', '101', '110', '111', '110', '101', '110', '111', '110', '101', '100', '101', '100', '011', '010', '011', '010', '011', '100', '101', '100', '101', '100', '101', '110', '101', '110', '101', '100', '011', '100', '011', '100', '101', '110', '101', '100', '101', '110', '111', '000', '111', '110', '101', '100', '101', '100', '101', '110', '101', '110', '111', '110', '111', '110', '101', '110', '111', '110', '101', '110', '101', '110', '111', '110', '111', '000', '111', '000', '001', '010', '001', '000', '111', '000', '111', '000', '001', '010', '011', '100', '101', '100', '011', '010', '001', '010', '001', '010', '001', '000', '111', '000', '111', '110', '101', '110', '101', '100', '011', '010', '011', '010', '011', '010', '001', '010', '011', '100', '101', '110', '101', '100', '101', '100', '101', '110', '111', '110', '101', '110', '111', '110', '101', '100', '101', '100', '101', '110', '111', '110', '101', '110', '101', '100', '101', '110', '101', '110', '101', '100', '011', '010', '001', '010', '001', '010', '011', '010', '011', '010', '011', '010', '001', '010', '001', '000', '111', '110', '101', '110', '101', '110', '111', '110', '101', '100', '011', '100', '101', '100', '101', '110', '111', '000', '001', '000', '111', '000', '111', '110', '111', '110', '101', '100', '011', '100', '011', '100', '101', '110', '101', '100', '101', '100', '101', '100', '011', '100', '101', '100', '101', '100', '101', '100', '011', '100', '011', '010', '011', '010', '011', '010', '001', '000', '111', '110', '101', '100', '011', '010', '011', '010', '001', '000', '001', '010', '011', '010', '011', '010', '011', '100', '101', '100', '101', '100', '011', '100', '011', '010', '001', '010', '001', '010', '001', '000', '111', '110', '111', '000', '001', '010', '011', '010', '011', '100', '011', '100', '101', '110', '111', '000', '001', '000', '001', '000', '001', '010', '011', '100', '011', '010', '011', '100', '011', '100', '101', '110', '101']]\n"
     ]
    }
   ],
   "source": [
    "# Import the CSV module\n",
    "import csv\n",
    "\n",
    "# Open the CSV file for writing\n",
    "with open('path.csv', 'w', newline='') as csvfile:\n",
    "    # Create a CSV writer object with space as the delimiter\n",
    "    my_writer = csv.writer(csvfile, delimiter=' ')\n",
    "    \n",
    "    # Write the data to the CSV file row by row\n",
    "    for row in path:\n",
    "        my_writer.writerow(row)\n",
    "\n",
    "# Print the path to the console\n",
    "print(path)\n"
   ]
  },
  {
   "cell_type": "code",
   "execution_count": null,
   "id": "7380cab1-d5b9-45f7-8cdd-23ab58ec8248",
   "metadata": {},
   "outputs": [],
   "source": []
  },
  {
   "cell_type": "code",
   "execution_count": null,
   "id": "c8edd78b-ae50-4026-b640-c724c21398a8",
   "metadata": {},
   "outputs": [],
   "source": []
  },
  {
   "cell_type": "code",
   "execution_count": null,
   "id": "10f156e0-c5dd-4cd1-8c78-d16f790e1be5",
   "metadata": {},
   "outputs": [],
   "source": []
  },
  {
   "cell_type": "code",
   "execution_count": null,
   "id": "9cacae57-cfe7-4518-9632-14eaf2e2df74",
   "metadata": {},
   "outputs": [],
   "source": []
  },
  {
   "cell_type": "markdown",
   "id": "c885d164",
   "metadata": {},
   "source": [
    "If you're like many people who learned quantum computing in the past several years, you might have learned how to program quantum circuits with [Qiskit](https://qiskit.org): the open-source quantum Software Development Kit (SDK) first released in 2017. With the [Qiskit-Braket provider](https://github.com/qiskit-community/qiskit-braket-provider/blob/main/docs/tutorials/0_tutorial_qiskit-braket-provider_overview.ipynb), you can run your Qiskit code across any of the gate-based devices on the [Amazon Braket](https://aws.amazon.com/braket/) quantum computing service.\n",
    "\n",
    "**Note**: if you're running this in your local development environment (i.e. not from the Braket console), you'll need to make sure you've got your AWS account configured properly first to access Braket devices. Check out [this tutorial](https://aws.amazon.com/blogs/quantum-computing/setting-up-your-local-development-environment-in-amazon-braket/) for a walkthrough."
   ]
  },
  {
   "cell_type": "markdown",
   "id": "b23c5287",
   "metadata": {
    "slideshow": {
     "slide_type": "slide"
    }
   },
   "source": [
    "## Access Braket devices from Qiskit \n",
    "\n",
    " There are quite a few different backend devices on Amazon Braket, so we'll walk through them one by one and give an example of recommended use cases for each."
   ]
  },
  {
   "cell_type": "markdown",
   "id": "a94feb7b",
   "metadata": {},
   "source": [
    "### Quantum simulators\n",
    "Let's start with the ***local simulator***. This is a quantum full state vector simulator which runs *locally* -- that means wherever you're running this Jupyter notebook (e.g. your local development environment or a notebook instance on the Braket console).\n",
    "\n",
    "**Recommended use case:** Noiseless circuits up to ~12 qubits"
   ]
  },
  {
   "cell_type": "code",
   "execution_count": null,
   "id": "f162ba69",
   "metadata": {},
   "outputs": [],
   "source": [
    "from qiskit_braket_provider import BraketLocalBackend\n",
    "\n",
    "local_simulator = BraketLocalBackend()"
   ]
  },
  {
   "cell_type": "markdown",
   "id": "17e2ab4d",
   "metadata": {},
   "source": [
    "Next, we have the ***local density matrix simulator***. This simulator also runs on your local machine, but allows you to simulate the effects of *noise* on your quantum circuit. Because density matrices are twice the size of state vectors, the number of qubits you can effectively simulate is half the size as the local state vector simulator.\n",
    "\n",
    "**Recommended use case:** Noisy circuits up to ~6 qubits"
   ]
  },
  {
   "cell_type": "code",
   "execution_count": null,
   "id": "2bfe0170",
   "metadata": {},
   "outputs": [],
   "source": [
    "local_dm_simulator = BraketLocalBackend(name='braket_dm')"
   ]
  },
  {
   "cell_type": "markdown",
   "id": "de912d0e",
   "metadata": {},
   "source": [
    "Now let's look at Braket's *on-demand* simulators: these run on AWS computing resources and have some expanded features in addition to those of the local simulator. We can list all the available Braket simulators with the following code:"
   ]
  },
  {
   "cell_type": "code",
   "execution_count": null,
   "id": "70a24c64",
   "metadata": {},
   "outputs": [],
   "source": [
    "from qiskit_braket_provider import AWSBraketProvider\n",
    "\n",
    "provider = AWSBraketProvider()\n",
    "\n",
    "provider.backends(statuses=[\"ONLINE\"], types=[\"SIMULATOR\"])"
   ]
  },
  {
   "cell_type": "markdown",
   "id": "d846e7f2",
   "metadata": {},
   "source": [
    "First up for on-demand simulators is ***SV1***. This is a full state vector simulator which allows you to simulate larger circuits than the local simulator, along with the ability to [batch tasks](https://docs.aws.amazon.com/braket/latest/developerguide/braket-batching-tasks.html) and run them in parallel, as well as use advanced techniques like [adjoint gradient calculations](https://pennylane.ai/blog/2022/12/computing-adjoint-gradients-with-amazon-braket-sv1/) for variational quantum algorithms. \n",
    "\n",
    "**Recommended use case:** Noiseless variational algorithms on up to 34 qubits"
   ]
  },
  {
   "cell_type": "code",
   "execution_count": null,
   "id": "19024712",
   "metadata": {},
   "outputs": [],
   "source": [
    "aws_sv1 = provider.get_backend(\"SV1\")"
   ]
  },
  {
   "cell_type": "markdown",
   "id": "41c66765",
   "metadata": {},
   "source": [
    "The next on-demand simulator is ***DM1***. This is a density matrix simulator which, like SV1, allows you to simulate a larger number of qubits, as well as take advantage of batch execution. \n",
    "\n",
    "**Recommended use case:** Noisy variational algorithms on up to 17 qubits"
   ]
  },
  {
   "cell_type": "code",
   "execution_count": null,
   "id": "54e855a5",
   "metadata": {},
   "outputs": [],
   "source": [
    "aws_dm1 = provider.get_backend(\"dm1\")"
   ]
  },
  {
   "cell_type": "markdown",
   "id": "ae97b1a1",
   "metadata": {},
   "source": [
    "Lastly for on-demand simulators, we have ***TN1***. This is a tensor-network simulator, which represents each gate in a circuit as a tensor. TN1 can simulate a larger number of qubits for circuits with local gates or other special structure, but will typically be slower than SV1 or DM1 for circuits with long-range or all-to-all gate structure.\n",
    "\n",
    "**Recommended use case:** Noiseless quantum circuits with local connectivity and up to 50 qubits"
   ]
  },
  {
   "cell_type": "markdown",
   "id": "ad54a536",
   "metadata": {},
   "source": [
    "**Note**: Each AWS resource, (like a file or CPU or QPU) lives in a specific region and may only be accessible from that region. For example, TN1 is only available in the `eu-west-2`, `us-east-1`, and `us-west-2` regions. \n",
    "\n",
    "To change your AWS region if you're running in a managed notebook, you'll need to use the GUI in the top right hand corner of the AWS console to select your new region, then relaunch or create your notebook from the Braket console.\n",
    "\n",
    "To change your AWS region if you're running in your local development environment, you run the following code snippet:\n",
    "```\n",
    "import os\n",
    "os.environ[\"AWS_REGION\"] = \"your-desired-region\"\n",
    "```"
   ]
  },
  {
   "cell_type": "code",
   "execution_count": null,
   "id": "cd711dcb",
   "metadata": {},
   "outputs": [],
   "source": [
    "# If you've switched to one of the regions where TN1 is accessible, feel free to uncomment the following code\n",
    "# aws_tn1 = provider.get_backend(\"TN1\")"
   ]
  },
  {
   "cell_type": "markdown",
   "id": "dc6910f0",
   "metadata": {},
   "source": [
    "### Quantum Processing Units (QPUs)"
   ]
  },
  {
   "cell_type": "markdown",
   "id": "8bfc8706",
   "metadata": {},
   "source": [
    "Amazon Braket also provides access to a number of third-party quantum hardware devices. The following code shows how to view the supported QPUs which are currently online:"
   ]
  },
  {
   "cell_type": "code",
   "execution_count": null,
   "id": "f5329bca",
   "metadata": {},
   "outputs": [],
   "source": [
    "# provider.backends(statuses=[\"ONLINE\"], types=[\"QPU\"])"
   ]
  },
  {
   "cell_type": "markdown",
   "id": "4c7a21d4",
   "metadata": {},
   "source": [
    "For a closer look at each quantum computer, you can peruse the [Providers Overview](https://aws.amazon.com/braket/quantum-computers/) on the Braket homepage, or the Devices tab on the left side of the Braket console. \n",
    "Currently only gate-based QPUs (IonQ, OQC, Rigetti) are supported with the Qiskit-Braket provider. "
   ]
  },
  {
   "cell_type": "markdown",
   "id": "0800b99f",
   "metadata": {
    "slideshow": {
     "slide_type": "slide"
    }
   },
   "source": [
    "## Running circuits on Braket devices\n",
    "\n"
   ]
  },
  {
   "cell_type": "markdown",
   "id": "6bf048f4",
   "metadata": {},
   "source": [
    "Now that we've walked through each of the quantum devices available through the Qiskit-Braket provider, let's take them for a spin! For this example, we'll create a 3-GHZ state on the Rigetti device, but feel free to choose a different QPU from the commented out devices below."
   ]
  },
  {
   "cell_type": "code",
   "execution_count": null,
   "id": "a5beeb7b",
   "metadata": {},
   "outputs": [],
   "source": [
    "qpu_backend = provider.get_backend(\"Aspen-M-3\")\n",
    "# qpu_backend = provider.get_backend(\"Lucy\")\n",
    "# qpu_backend = provider.get_backend(\"IonQ Device\")\n",
    "\n",
    "print(qpu_backend)"
   ]
  },
  {
   "cell_type": "code",
   "execution_count": null,
   "id": "e9d90ed2",
   "metadata": {},
   "outputs": [],
   "source": [
    "from qiskit import QuantumCircuit\n",
    "\n",
    "circuit = QuantumCircuit(3)\n",
    "circuit.h(0)\n",
    "circuit.cx(0, 1)\n",
    "circuit.cx(0, 2)\n",
    "circuit.draw()"
   ]
  },
  {
   "cell_type": "code",
   "execution_count": null,
   "id": "32fd1f51",
   "metadata": {
    "slideshow": {
     "slide_type": "slide"
    }
   },
   "outputs": [],
   "source": [
    "# run circuit\n",
    "qpu_task = qpu_backend.run(circuit, shots=10)"
   ]
  },
  {
   "cell_type": "markdown",
   "id": "9515c95b",
   "metadata": {},
   "source": [
    "Each task you run is assigned a unique ARN (Amazon Resource Name), which you can save and use to retrieve the data for your task after its run, even if you close your notebook."
   ]
  },
  {
   "cell_type": "code",
   "execution_count": null,
   "id": "d6f5d0da",
   "metadata": {},
   "outputs": [],
   "source": [
    "task_id = qpu_task.job_id()\n",
    "task_id"
   ]
  },
  {
   "cell_type": "markdown",
   "id": "3b7ee5ac",
   "metadata": {},
   "source": [
    "**Note**: Qiskit uses the name \\\"job\\\" to refer to what is called a \\\"task\\\" in Amazon Braket. This is why you access the ARN for the task by calling `.job_id()`.  \n",
    "\n",
    "Now, Braket has a separate feature called \\\"Hybrid *Jobs*\\\", which is beyond the scope of this notebook, but which you can read about in the [developer guide](https://docs.aws.amazon.com/braket/latest/developerguide/braket-jobs.html)."
   ]
  },
  {
   "cell_type": "code",
   "execution_count": null,
   "id": "dec44bb5",
   "metadata": {},
   "outputs": [],
   "source": [
    "# Retrieve task data\n",
    "retrieved_task = qpu_backend.retrieve_job(job_id=task_id)"
   ]
  },
  {
   "cell_type": "markdown",
   "id": "355472d4",
   "metadata": {},
   "source": [
    "Then you can check the status of the task to see if it's finished:"
   ]
  },
  {
   "cell_type": "code",
   "execution_count": null,
   "id": "bb84627d",
   "metadata": {},
   "outputs": [],
   "source": [
    "retrieved_task.status()"
   ]
  },
  {
   "cell_type": "markdown",
   "id": "7c2d97be",
   "metadata": {},
   "source": [
    "**Note:** different devices may have different availability windows, so while your task may not run right away, rest assured it will be added to the queue to be run when the device is back online."
   ]
  },
  {
   "cell_type": "markdown",
   "id": "d6f54cb5",
   "metadata": {},
   "source": [
    "When your task is finished, you can retrieve the data:"
   ]
  },
  {
   "cell_type": "code",
   "execution_count": null,
   "id": "c510eb22",
   "metadata": {},
   "outputs": [],
   "source": [
    "data = retrieved_task.result()"
   ]
  },
  {
   "cell_type": "code",
   "execution_count": null,
   "id": "90660ecd",
   "metadata": {},
   "outputs": [],
   "source": [
    "from qiskit.visualization import plot_histogram\n",
    "plot_histogram(data.get_counts())"
   ]
  },
  {
   "cell_type": "markdown",
   "id": "1819e1f8",
   "metadata": {
    "slideshow": {
     "slide_type": "slide"
    }
   },
   "source": [
    "## Running algorithms on Braket devices"
   ]
  },
  {
   "cell_type": "markdown",
   "id": "41520df9",
   "metadata": {},
   "source": [
    "You can also use the Qiskit-Braket provider to run built-in Qiskit algorithms on Braket backends. For example, we can run the VQE algorithm to find the ground state of hydrogen. We'll use the local simulator since the problem can be expressed in a basis that only requires a few qubits and will run quickly."
   ]
  },
  {
   "cell_type": "code",
   "execution_count": null,
   "id": "1e7de04f",
   "metadata": {},
   "outputs": [],
   "source": [
    "from qiskit.opflow import (\n",
    "    I,\n",
    "    X,\n",
    "    Z,\n",
    ")\n",
    "\n",
    "# Define the Hamiltonian operator for H2 in terms of Pauli spin operators\n",
    "H2_op = (\n",
    "    (-1.052373245772859 * I ^ I)\n",
    "    + (0.39793742484318045 * I ^ Z)\n",
    "    + (-0.39793742484318045 * Z ^ I)\n",
    "    + (-0.01128010425623538 * Z ^ Z)\n",
    "    + (0.18093119978423156 * X ^ X)\n",
    ")"
   ]
  },
  {
   "cell_type": "code",
   "execution_count": null,
   "id": "9c5cbca8",
   "metadata": {},
   "outputs": [],
   "source": [
    "# Import some utilities\n",
    "from qiskit.utils import QuantumInstance\n",
    "from qiskit.circuit.library import TwoLocal\n",
    "from qiskit.algorithms.optimizers import SLSQP\n",
    "from qiskit.algorithms import VQE\n",
    "\n",
    "# Define a `QuantumInstance` with a Braket backend\n",
    "qi = QuantumInstance(local_simulator, seed_transpiler=42, seed_simulator=42)\n",
    "\n",
    "# Specify VQE configuration\n",
    "ansatz = TwoLocal(rotation_blocks=\"ry\", entanglement_blocks=\"cz\")\n",
    "slsqp = SLSQP(maxiter=1)\n",
    "vqe = VQE(ansatz, optimizer=slsqp, quantum_instance=qi)\n",
    "\n",
    "# Find the ground state\n",
    "result = vqe.compute_minimum_eigenvalue(H2_op)\n",
    "print(result)"
   ]
  },
  {
   "cell_type": "markdown",
   "id": "a5ce5134",
   "metadata": {},
   "source": [
    "## What now?"
   ]
  },
  {
   "cell_type": "markdown",
   "id": "a497c6ef",
   "metadata": {},
   "source": [
    "The sky is the limit! Keep in mind, the Qiskit-Braket provider is still new and experimental, so if you run into a bug or want a new feature supported, consider [submitting a GitHub issue](https://github.com/qiskit-community/qiskit-braket-provider/issues) and opening a feature branch to join in on the development effort yourself!"
   ]
  },
  {
   "cell_type": "code",
   "execution_count": null,
   "id": "480d8040",
   "metadata": {},
   "outputs": [],
   "source": [
    "print(\"Task Summary\")\n",
    "print(t.quantum_tasks_statistics())\n",
    "print('Note: Charges shown are estimates based on your Amazon Braket simulator and quantum processing unit (QPU) task usage. Estimated charges shown may differ from your actual charges. Estimated charges do not factor in any discounts or credits, and you may experience additional charges based on your use of other services such as Amazon Elastic Compute Cloud (Amazon EC2).')\n",
    "print(f\"Estimated cost to run this example: {t.qpu_tasks_cost() + t.simulator_tasks_cost():.2f} USD\")"
   ]
  },
  {
   "cell_type": "code",
   "execution_count": null,
   "id": "61350edd",
   "metadata": {},
   "outputs": [],
   "source": []
  }
 ],
 "metadata": {
  "kernelspec": {
   "display_name": "conda_braket",
   "language": "python",
   "name": "conda_braket"
  },
  "language_info": {
   "codemirror_mode": {
    "name": "ipython",
    "version": 3
   },
   "file_extension": ".py",
   "mimetype": "text/x-python",
   "name": "python",
   "nbconvert_exporter": "python",
   "pygments_lexer": "ipython3",
   "version": "3.10.11"
  }
 },
 "nbformat": 4,
 "nbformat_minor": 5
}
